{
 "cells": [
  {
   "cell_type": "code",
   "execution_count": 1,
   "metadata": {},
   "outputs": [
    {
     "name": "stderr",
     "output_type": "stream",
     "text": [
      "/Users/luca/Documents/Polimi/Machine Learning/Finance-Text-Mining/fvenv/lib/python3.12/site-packages/tqdm/auto.py:21: TqdmWarning: IProgress not found. Please update jupyter and ipywidgets. See https://ipywidgets.readthedocs.io/en/stable/user_install.html\n",
      "  from .autonotebook import tqdm as notebook_tqdm\n"
     ]
    }
   ],
   "source": [
    "import numpy as np\n",
    "import pandas as pd\n",
    "\n",
    "# Financial news and sentiment analysis\n",
    "from eodhd import APIClient\n",
    "from textblob import TextBlob\n",
    "from nltk.sentiment.vader import SentimentIntensityAnalyzer\n",
    "from sklearn.feature_extraction.text import TfidfVectorizer\n",
    "import scipy\n",
    "import re\n",
    "\n",
    "# Financial data\n",
    "import yfinance as yf\n",
    "\n",
    "# Data preparation and model evaluation\n",
    "from sklearn.model_selection import train_test_split\n",
    "from sklearn.preprocessing import StandardScaler, LabelEncoder\n",
    "from sklearn.metrics import accuracy_score, classification_report\n",
    "\n",
    "# Machine learning models\n",
    "from sklearn.linear_model import LogisticRegression\n",
    "from sklearn.svm import SVC\n",
    "from sklearn.ensemble import RandomForestClassifier, GradientBoostingClassifier\n",
    "from sklearn.tree import DecisionTreeClassifier\n",
    "from sklearn.neighbors import KNeighborsClassifier\n",
    "from sklearn.naive_bayes import GaussianNB\n",
    "import xgboost as xgb\n",
    "from transformers import Trainer, TrainingArguments, DistilBertTokenizer, DistilBertForSequenceClassification\n",
    "\n",
    "# PyTorch libraries\n",
    "import torch\n",
    "import torch.nn as nn\n",
    "import torch.optim as optim\n",
    "\n",
    "# Graphs - visualization\n",
    "import matplotlib.pyplot as plt\n",
    "import seaborn as sns\n",
    "\n",
    "# Data balancing\n",
    "from imblearn.over_sampling import SMOTE\n",
    "import optuna\n",
    "\n",
    "import warnings\n",
    "warnings.filterwarnings(\"ignore\")"
   ]
  },
  {
   "cell_type": "markdown",
   "metadata": {},
   "source": [
    "## 1. Gathering news headlines"
   ]
  },
  {
   "cell_type": "markdown",
   "metadata": {},
   "source": [
    "We create a function that retrieves financial news articles for given stock symbols within a specified date range using the EODHD API and its Financial News endpoint.\n",
    "\n",
    "This API uses this parameters:\n",
    "- s: String. REQUIRED if parameter ‘t’ is not set. The ticker code to get news for.\n",
    "- t: String. REQUIRED if parameter ‘s’ is not set. The tag to get news on a given topic.\n",
    "- api_token: String. REQUIRED. Your api_token to access the API. You will get it after registration.\n",
    "- from and to – the format is ‘YYYY-MM-DD’.\n",
    "- limit: Number. OPTIONAL. The number of results should be returned with the query. Default value: 50, minimum value: 1, maximum value: 1000.\n",
    "- offset: Number. OPTIONAL. The offset of the data. Default value: 0, minimum value: 0.\n",
    "\n",
    "The output of the API is:\n",
    "- date: The date and time of the article.\n",
    "- title: The title of the article.\n",
    "- content: The full body of the article.\n",
    "- link: The link to the source.\n",
    "- symbols: The array of ticker symbols is mentioned in the article.\n",
    "\n",
    "Our function loops through each stock symbol in stock_symbols and:\n",
    "- Calls the financial_news method of the APIClient instance to fetch news articles for the symbol within the given date range and with a specified limit on the number of articles.\n",
    "- Converts the response to a DataFrame news_df.\n",
    "- Adds a new column symbol to the DataFrame to indicate which stock the news articles are related to.\n",
    "- Concatenates news_df to all_news_df.\n",
    "- and returns a combined DataFrame, all_news_df, containing news articles for all specified stock symbols."
   ]
  },
  {
   "cell_type": "code",
   "execution_count": 2,
   "metadata": {},
   "outputs": [],
   "source": [
    "def get_news_headlines(api_key, stock_symbols, from_date, to_date, limit=100):\n",
    "    # Instance of APIClient\n",
    "    client = APIClient(api_key)\n",
    "    # DataFrame to store all the news articles\n",
    "    all_news_df = pd.DataFrame()\n",
    "    \n",
    "    for symbol in stock_symbols:\n",
    "        resp = client.financial_news(s=symbol, from_date=from_date, to_date=to_date, limit=limit)\n",
    "        news_df = pd.DataFrame(resp)\n",
    "        news_df['symbol'] = symbol\n",
    "        all_news_df = pd.concat([all_news_df, news_df], ignore_index=True)\n",
    "    \n",
    "    return all_news_df"
   ]
  },
  {
   "cell_type": "code",
   "execution_count": 3,
   "metadata": {},
   "outputs": [],
   "source": [
    "api_key = '665374cb4f8030.36752695'\n",
    "stock_symbols = [\"AAPL.US\", \"MSFT.US\", \"GOOGL.US\", \"NVDA.US\", \"DIS.US\", \"V.US\", \"TSLA.US\", \"BRK-A.US\"]\n",
    "from_date = '2023-01-01'\n",
    "to_date = '2024-05-31'\n",
    "\n",
    "all_news_df = get_news_headlines(api_key, stock_symbols, from_date, to_date)"
   ]
  },
  {
   "cell_type": "markdown",
   "metadata": {},
   "source": [
    "## 2. Sentiment analysis"
   ]
  },
  {
   "cell_type": "markdown",
   "metadata": {},
   "source": [
    "We create a function that is used to preprocess and clean headlines text data before performing sentiment analysis. This funtion:\n",
    "1.\tRemoves any punctuation from the text while keeping alphanumeric characters, whitespace, and percentage symbols using a regular expression. We decided to retain the numbers and the percentage symbol because we believe that news stories that include them can provide important quantitative information about stock prices, financial metrics, and market movements.\n",
    "2.\tLowercase the headline to ensure uniformity and eliminate case sensitivity.\n",
    "3.\tRemoves any extra spaces, including leading and trailing spaces, and reduces multiple spaces between words to a single space to maintain consistency in the text format."
   ]
  },
  {
   "cell_type": "code",
   "execution_count": 4,
   "metadata": {},
   "outputs": [],
   "source": [
    "def clean_text(text):\n",
    "    # Remove punctuation, keeping numbers and percentage symbols\n",
    "    text = re.sub(r'[^\\w\\s%]', '', text)\n",
    "    # Convert to lowercase\n",
    "    text = text.lower()\n",
    "    # Remove extra spaces\n",
    "    text = re.sub(r'\\s+', ' ', text).strip()\n",
    "    return text"
   ]
  },
  {
   "cell_type": "markdown",
   "metadata": {},
   "source": [
    "This function prepares the news headlines for machine learning by cleaning the text, calculating sentiment scores using both TextBlob and VADER, and converting the cleaned text into TF-IDF features. The sentiment scores are then added as additional features to the TF-IDF matrix, enhancing the feature set with both textual and sentiment information.\n",
    "The function returns the updated news_df DataFrame with additional sentiment columns, the augmented feature matrix X, and the fitted TF-IDF vectorizer.\n",
    "\n",
    "We decided to use two sentiment analyzers to provide a more comprehensive sentiment analysis by leveraging their respective strengths:\n",
    "- TextBlob is based on a lexicon approach, where it uses predefined dictionaries of word polarities.\n",
    "- VADER is also a lexicon and rule-based sentiment analysis tool, but it is particularly attuned to sentiments expressed in social media and financial contexts. It accounts for sentiment intensity and can handle punctuations, capitalization, degree modifiers, and more effectively.\n",
    "By combining the sentiment scores from both tools, we aim to capture a wider range of sentiment nuances and improve the robustness of our sentiment analysis.\n"
   ]
  },
  {
   "cell_type": "code",
   "execution_count": 5,
   "metadata": {},
   "outputs": [],
   "source": [
    "def preprocess_and_analyze_news(news_df):\n",
    "    # Initialize the VADER sentiment analyzer\n",
    "    vader_analyzer = SentimentIntensityAnalyzer()\n",
    "\n",
    "    # Clean the news headlines\n",
    "    news_df['cleaned_title'] = news_df['title'].apply(clean_text)\n",
    "    \n",
    "    # Sentiment using TextBlob\n",
    "    news_df['sentiment_textblob'] = news_df['cleaned_title'].apply(lambda x: TextBlob(x).sentiment.polarity)\n",
    "    \n",
    "    # Sentiment using VADER\n",
    "    news_df['sentiment_vader'] = news_df['cleaned_title'].apply(lambda x: vader_analyzer.polarity_scores(x)['compound'])\n",
    "    \n",
    "    # Convert news headlines to TF-IDF features\n",
    "    vectorizer = TfidfVectorizer(stop_words='english')\n",
    "    X = vectorizer.fit_transform(news_df['cleaned_title'])\n",
    "    \n",
    "    # Add sentiment scores as additional features\n",
    "    X = scipy.sparse.hstack((X, news_df[['sentiment_textblob', 'sentiment_vader']].values))\n",
    "    \n",
    "    return news_df, X, vectorizer"
   ]
  },
  {
   "cell_type": "markdown",
   "metadata": {},
   "source": [
    "Stock markets typically operate only on weekdays, and the news published on weekends may not have an immediate impact on stock prices. So we create a function to filter news articles that were published on weekends, retaining only those published on weekdays. By focusing on weekday news, the analysis can be more relevant and aligned with market activities (also because there is no financial information for weekends)."
   ]
  },
  {
   "cell_type": "code",
   "execution_count": 6,
   "metadata": {},
   "outputs": [],
   "source": [
    "def filter_weekend_news(news_df):\n",
    "    # Add a weekday column to the DataFrame, where Monday is 0 and Sunday is 6\n",
    "    news_df.loc[:, 'weekday'] = pd.to_datetime(news_df['date']).dt.weekday\n",
    "    # Keep only the rows where the weekday is less than 5, monday to friday\n",
    "    filtered_news_df = news_df[news_df['weekday'] < 5].copy()\n",
    "    # Drop the weekday column because is not needed for ML process\n",
    "    filtered_news_df.drop(columns=['weekday'], inplace=True)\n",
    "    return filtered_news_df"
   ]
  },
  {
   "cell_type": "code",
   "execution_count": 7,
   "metadata": {},
   "outputs": [],
   "source": [
    "filtered_news_df = filter_weekend_news(all_news_df)\n",
    "news_df, X, vectorizer = preprocess_and_analyze_news(filtered_news_df)"
   ]
  },
  {
   "cell_type": "code",
   "execution_count": 8,
   "metadata": {},
   "outputs": [
    {
     "data": {
      "text/html": [
       "<div>\n",
       "<style scoped>\n",
       "    .dataframe tbody tr th:only-of-type {\n",
       "        vertical-align: middle;\n",
       "    }\n",
       "\n",
       "    .dataframe tbody tr th {\n",
       "        vertical-align: top;\n",
       "    }\n",
       "\n",
       "    .dataframe thead th {\n",
       "        text-align: right;\n",
       "    }\n",
       "</style>\n",
       "<table border=\"1\" class=\"dataframe\">\n",
       "  <thead>\n",
       "    <tr style=\"text-align: right;\">\n",
       "      <th></th>\n",
       "      <th>date</th>\n",
       "      <th>title</th>\n",
       "      <th>content</th>\n",
       "      <th>link</th>\n",
       "      <th>symbols</th>\n",
       "      <th>tags</th>\n",
       "      <th>sentiment</th>\n",
       "      <th>symbol</th>\n",
       "      <th>cleaned_title</th>\n",
       "      <th>sentiment_textblob</th>\n",
       "      <th>sentiment_vader</th>\n",
       "    </tr>\n",
       "  </thead>\n",
       "  <tbody>\n",
       "    <tr>\n",
       "      <th>0</th>\n",
       "      <td>2024-05-31T16:15:00+00:00</td>\n",
       "      <td>Implied Volatility Surging for Apple (AAPL) St...</td>\n",
       "      <td>Investors in Apple, Inc AAPL need to pay close...</td>\n",
       "      <td>https://finance.yahoo.com/news/implied-volatil...</td>\n",
       "      <td>[0R2V.IL, AAPL.BA, AAPL.MX, AAPL.NEO, AAPL.US,...</td>\n",
       "      <td>[]</td>\n",
       "      <td>{'polarity': 0.988, 'neg': 0.018, 'neu': 0.876...</td>\n",
       "      <td>AAPL.US</td>\n",
       "      <td>implied volatility surging for apple aapl stoc...</td>\n",
       "      <td>0.00000000</td>\n",
       "      <td>0.00000000</td>\n",
       "    </tr>\n",
       "    <tr>\n",
       "      <th>1</th>\n",
       "      <td>2024-05-31T16:14:18+00:00</td>\n",
       "      <td>Apple Supplier Luxshare Accused of Illegal Ope...</td>\n",
       "      <td>Apple Supplier Luxshare Accused of Illegal Ope...</td>\n",
       "      <td>https://finance.yahoo.com/news/apple-supplier-...</td>\n",
       "      <td>[0R2V.IL, AAPL.BA, AAPL.MX, AAPL.NEO, AAPL.US,...</td>\n",
       "      <td>[]</td>\n",
       "      <td>{'polarity': 0.802, 'neg': 0.078, 'neu': 0.825...</td>\n",
       "      <td>AAPL.US</td>\n",
       "      <td>apple supplier luxshare accused of illegal ope...</td>\n",
       "      <td>-0.50000000</td>\n",
       "      <td>-0.45880000</td>\n",
       "    </tr>\n",
       "    <tr>\n",
       "      <th>2</th>\n",
       "      <td>2024-05-31T14:52:37+00:00</td>\n",
       "      <td>NVIDIA is a shoo-in for the Dow post stock split</td>\n",
       "      <td>With its latest earnings report, AI darling NV...</td>\n",
       "      <td>https://finance.yahoo.com/news/nvidia-shoo-dow...</td>\n",
       "      <td>[1INTC.MI, 1NVDA.MI, AAPL.US, AMGN.US, CRM.US,...</td>\n",
       "      <td>[]</td>\n",
       "      <td>{'polarity': 0.98, 'neg': 0.011, 'neu': 0.931,...</td>\n",
       "      <td>AAPL.US</td>\n",
       "      <td>nvidia is a shooin for the dow post stock split</td>\n",
       "      <td>0.00000000</td>\n",
       "      <td>0.00000000</td>\n",
       "    </tr>\n",
       "    <tr>\n",
       "      <th>3</th>\n",
       "      <td>2024-05-31T14:35:17+00:00</td>\n",
       "      <td>Nvidia set to overtake Apple as world's second...</td>\n",
       "      <td>By Medha Singh\\n\\n(Reuters) - Nvidia could soo...</td>\n",
       "      <td>https://finance.yahoo.com/news/nvidia-set-over...</td>\n",
       "      <td>[0R2V.IL, 1NVDA.MI, AAPL.BA, AAPL.MX, AAPL.NEO...</td>\n",
       "      <td>[]</td>\n",
       "      <td>{'polarity': 0.989, 'neg': 0.025, 'neu': 0.873...</td>\n",
       "      <td>AAPL.US</td>\n",
       "      <td>nvidia set to overtake apple as worlds secondm...</td>\n",
       "      <td>0.00000000</td>\n",
       "      <td>0.47670000</td>\n",
       "    </tr>\n",
       "    <tr>\n",
       "      <th>4</th>\n",
       "      <td>2024-05-31T14:22:58+00:00</td>\n",
       "      <td>OpenAI's Apple Deal Sparks Concerns In Microso...</td>\n",
       "      <td>OpenAI's Apple Deal Sparks Concerns In Microso...</td>\n",
       "      <td>https://finance.yahoo.com/news/openais-apple-d...</td>\n",
       "      <td>[0QYP.IL, 0R2V.IL, 0RIH.IL, 1GOOG.MI, 1GOOGL.M...</td>\n",
       "      <td>[]</td>\n",
       "      <td>{'polarity': 0.98, 'neg': 0.026, 'neu': 0.878,...</td>\n",
       "      <td>AAPL.US</td>\n",
       "      <td>openais apple deal sparks concerns in microsof...</td>\n",
       "      <td>0.00000000</td>\n",
       "      <td>0.27320000</td>\n",
       "    </tr>\n",
       "  </tbody>\n",
       "</table>\n",
       "</div>"
      ],
      "text/plain": [
       "                        date  \\\n",
       "0  2024-05-31T16:15:00+00:00   \n",
       "1  2024-05-31T16:14:18+00:00   \n",
       "2  2024-05-31T14:52:37+00:00   \n",
       "3  2024-05-31T14:35:17+00:00   \n",
       "4  2024-05-31T14:22:58+00:00   \n",
       "\n",
       "                                               title  \\\n",
       "0  Implied Volatility Surging for Apple (AAPL) St...   \n",
       "1  Apple Supplier Luxshare Accused of Illegal Ope...   \n",
       "2   NVIDIA is a shoo-in for the Dow post stock split   \n",
       "3  Nvidia set to overtake Apple as world's second...   \n",
       "4  OpenAI's Apple Deal Sparks Concerns In Microso...   \n",
       "\n",
       "                                             content  \\\n",
       "0  Investors in Apple, Inc AAPL need to pay close...   \n",
       "1  Apple Supplier Luxshare Accused of Illegal Ope...   \n",
       "2  With its latest earnings report, AI darling NV...   \n",
       "3  By Medha Singh\\n\\n(Reuters) - Nvidia could soo...   \n",
       "4  OpenAI's Apple Deal Sparks Concerns In Microso...   \n",
       "\n",
       "                                                link  \\\n",
       "0  https://finance.yahoo.com/news/implied-volatil...   \n",
       "1  https://finance.yahoo.com/news/apple-supplier-...   \n",
       "2  https://finance.yahoo.com/news/nvidia-shoo-dow...   \n",
       "3  https://finance.yahoo.com/news/nvidia-set-over...   \n",
       "4  https://finance.yahoo.com/news/openais-apple-d...   \n",
       "\n",
       "                                             symbols tags  \\\n",
       "0  [0R2V.IL, AAPL.BA, AAPL.MX, AAPL.NEO, AAPL.US,...   []   \n",
       "1  [0R2V.IL, AAPL.BA, AAPL.MX, AAPL.NEO, AAPL.US,...   []   \n",
       "2  [1INTC.MI, 1NVDA.MI, AAPL.US, AMGN.US, CRM.US,...   []   \n",
       "3  [0R2V.IL, 1NVDA.MI, AAPL.BA, AAPL.MX, AAPL.NEO...   []   \n",
       "4  [0QYP.IL, 0R2V.IL, 0RIH.IL, 1GOOG.MI, 1GOOGL.M...   []   \n",
       "\n",
       "                                           sentiment   symbol  \\\n",
       "0  {'polarity': 0.988, 'neg': 0.018, 'neu': 0.876...  AAPL.US   \n",
       "1  {'polarity': 0.802, 'neg': 0.078, 'neu': 0.825...  AAPL.US   \n",
       "2  {'polarity': 0.98, 'neg': 0.011, 'neu': 0.931,...  AAPL.US   \n",
       "3  {'polarity': 0.989, 'neg': 0.025, 'neu': 0.873...  AAPL.US   \n",
       "4  {'polarity': 0.98, 'neg': 0.026, 'neu': 0.878,...  AAPL.US   \n",
       "\n",
       "                                       cleaned_title  sentiment_textblob  \\\n",
       "0  implied volatility surging for apple aapl stoc...          0.00000000   \n",
       "1  apple supplier luxshare accused of illegal ope...         -0.50000000   \n",
       "2    nvidia is a shooin for the dow post stock split          0.00000000   \n",
       "3  nvidia set to overtake apple as worlds secondm...          0.00000000   \n",
       "4  openais apple deal sparks concerns in microsof...          0.00000000   \n",
       "\n",
       "   sentiment_vader  \n",
       "0       0.00000000  \n",
       "1      -0.45880000  \n",
       "2       0.00000000  \n",
       "3       0.47670000  \n",
       "4       0.27320000  "
      ]
     },
     "execution_count": 8,
     "metadata": {},
     "output_type": "execute_result"
    }
   ],
   "source": [
    "news_df.head()"
   ]
  },
  {
   "cell_type": "markdown",
   "metadata": {},
   "source": [
    "To better understand the distribution and impact of news sentiment on stock prices, we created several visualizations using the sentiment scores derived from TextBlob and VADER. These visualizations help us to see how sentiment varies and how it might relate to stock performance."
   ]
  },
  {
   "cell_type": "markdown",
   "metadata": {},
   "source": [
    "This plot shows the distribution of sentiment scores for all news headlines. We visualize the scores calculated by both TextBlob and VADER, providing a comparative view of how each tool evaluates sentiment across the dataset."
   ]
  },
  {
   "cell_type": "code",
   "execution_count": 9,
   "metadata": {},
   "outputs": [
    {
     "data": {
      "image/png": "[encoded data removed]",
      "text/plain": [
       "<Figure size 1200x600 with 1 Axes>"
      ]
     },
     "metadata": {},
     "output_type": "display_data"
    }
   ],
   "source": [
    "plt.figure(figsize=(12, 6))\n",
    "sns.histplot(news_df['sentiment_textblob'], kde=True, color='blue', label='TextBlob')\n",
    "sns.histplot(news_df['sentiment_vader'], kde=True, color='green', label='VADER')\n",
    "plt.title('Distribution of sentiments')\n",
    "plt.xlabel('Sentiment')\n",
    "plt.ylabel('Frequency')\n",
    "plt.legend()\n",
    "plt.show()"
   ]
  },
  {
   "cell_type": "markdown",
   "metadata": {},
   "source": [
    "This bar chart illustrates the average sentiment score for each stock, using both TextBlob and VADER scores. It helps to identify which stocks generally have more positive or negative sentiment in the news, providing a clearer picture of market perception."
   ]
  },
  {
   "cell_type": "code",
   "execution_count": 10,
   "metadata": {},
   "outputs": [
    {
     "data": {
      "image/png": "[encoded data removed]",
      "text/plain": [
       "<Figure size 1200x600 with 1 Axes>"
      ]
     },
     "metadata": {},
     "output_type": "display_data"
    }
   ],
   "source": [
    "avg_sentiment = news_df.groupby('symbol')[['sentiment_textblob', 'sentiment_vader']].mean().reset_index()\n",
    "avg_sentiment = pd.melt(avg_sentiment, id_vars=['symbol'], value_vars=['sentiment_textblob', 'sentiment_vader'], var_name='Sentiment Type', value_name='Sentiment Score')\n",
    "\n",
    "plt.figure(figsize=(12, 6))\n",
    "sns.barplot(data=avg_sentiment, x='symbol', y='Sentiment Score', hue='Sentiment Type')\n",
    "plt.title('Average Sentiment per Stock')\n",
    "plt.xlabel('Stock')\n",
    "plt.ylabel('Average Sentiment')\n",
    "plt.legend()\n",
    "plt.show()"
   ]
  },
  {
   "cell_type": "markdown",
   "metadata": {},
   "source": [
    "This series of subplots shows the sentiment scores over time for each stock. By plotting the daily average sentiment, we can observe trends and fluctuations in sentiment, offering insights into how news sentiment might be influencing stock prices over different periods."
   ]
  },
  {
   "cell_type": "code",
   "execution_count": 11,
   "metadata": {},
   "outputs": [
    {
     "data": {
      "image/png": "[encoded data removed]",
      "text/plain": [
       "<Figure size 1500x2000 with 8 Axes>"
      ]
     },
     "metadata": {},
     "output_type": "display_data"
    }
   ],
   "source": [
    "news_df['date'] = pd.to_datetime(news_df['date'])\n",
    "\n",
    "num_stocks = len(stock_symbols)\n",
    "cols = 2\n",
    "rows = (num_stocks // cols) + (num_stocks % cols)\n",
    "\n",
    "fig, axes = plt.subplots(rows, cols, figsize=(15, 5 * rows), sharex=True, sharey=True)\n",
    "axes = axes.flatten()\n",
    "\n",
    "for i, symbol in enumerate(stock_symbols):\n",
    "    stock_news = news_df[news_df['symbol'] == symbol].set_index('date')\n",
    "    stock_news = stock_news[['sentiment_textblob', 'sentiment_vader']].resample('D').mean().reset_index()\n",
    "    \n",
    "    axes[i].plot(stock_news['date'], stock_news['sentiment_textblob'], label='TextBlob', color='blue')\n",
    "    axes[i].plot(stock_news['date'], stock_news['sentiment_vader'], label='VADER', color='green')\n",
    "    axes[i].set_title(f'Sentiment Over Time for {symbol}')\n",
    "    axes[i].set_xlabel('Date')\n",
    "    axes[i].set_ylabel('Sentiment')\n",
    "    axes[i].legend()\n",
    "\n",
    "for j in range(i + 1, len(axes)):\n",
    "    fig.delaxes(axes[j])\n",
    "\n",
    "plt.tight_layout()\n",
    "plt.show()"
   ]
  },
  {
   "cell_type": "markdown",
   "metadata": {},
   "source": [
    "## 3. Gathering financial information"
   ]
  },
  {
   "cell_type": "markdown",
   "metadata": {},
   "source": [
    "This function collects historical stock prices from Yahoo Finance for a given list of stock symbols within a specified date range. The data is fetched using the yfinance library.\n",
    "    \n",
    "Parameters:\n",
    "- stock_symbols: List of stock symbols to fetch data for.\n",
    "- from_date: Start date for the historical data.\n",
    "- to_date: End date for the historical data.\n",
    "\n",
    "Returns:\n",
    "- all_prices_df: A DataFrame containing the historical stock prices for all specified symbols."
   ]
  },
  {
   "cell_type": "code",
   "execution_count": 12,
   "metadata": {},
   "outputs": [],
   "source": [
    "def get_stock_prices(stock_symbols, from_date, to_date):\n",
    "    all_prices_df = pd.DataFrame()\n",
    "    \n",
    "    for symbol in stock_symbols:\n",
    "        # Remove the \".US\" suffix from the symbol for yfinance compatibility\n",
    "        stock_symbol = symbol.split('.')[0]\n",
    "        # Fetch the historical stock data from Yahoo Finance\n",
    "        stock_data = yf.download(stock_symbol, start=from_date, end=to_date)\n",
    "        # Re-add the suffix \".US\" to the symbol\n",
    "        stock_data['symbol'] = symbol\n",
    "        # Reset the index to include the date as a column\n",
    "        stock_data.reset_index(inplace=True)\n",
    "        # Concatenate the new data with the existing DataFrame\n",
    "        all_prices_df = pd.concat([all_prices_df, stock_data], ignore_index=True)\n",
    "\n",
    "    return all_prices_df"
   ]
  },
  {
   "cell_type": "code",
   "execution_count": 13,
   "metadata": {},
   "outputs": [
    {
     "name": "stderr",
     "output_type": "stream",
     "text": [
      "[*********************100%%**********************]  1 of 1 completed\n",
      "[*********************100%%**********************]  1 of 1 completed\n",
      "[*********************100%%**********************]  1 of 1 completed\n",
      "[*********************100%%**********************]  1 of 1 completed\n",
      "[*********************100%%**********************]  1 of 1 completed\n",
      "[*********************100%%**********************]  1 of 1 completed\n",
      "[*********************100%%**********************]  1 of 1 completed\n",
      "[*********************100%%**********************]  1 of 1 completed\n"
     ]
    },
    {
     "data": {
      "text/html": [
       "<div>\n",
       "<style scoped>\n",
       "    .dataframe tbody tr th:only-of-type {\n",
       "        vertical-align: middle;\n",
       "    }\n",
       "\n",
       "    .dataframe tbody tr th {\n",
       "        vertical-align: top;\n",
       "    }\n",
       "\n",
       "    .dataframe thead th {\n",
       "        text-align: right;\n",
       "    }\n",
       "</style>\n",
       "<table border=\"1\" class=\"dataframe\">\n",
       "  <thead>\n",
       "    <tr style=\"text-align: right;\">\n",
       "      <th></th>\n",
       "      <th>Date</th>\n",
       "      <th>Open</th>\n",
       "      <th>High</th>\n",
       "      <th>Low</th>\n",
       "      <th>Close</th>\n",
       "      <th>Adj Close</th>\n",
       "      <th>Volume</th>\n",
       "      <th>symbol</th>\n",
       "    </tr>\n",
       "  </thead>\n",
       "  <tbody>\n",
       "    <tr>\n",
       "      <th>0</th>\n",
       "      <td>2023-01-03</td>\n",
       "      <td>130.27999878</td>\n",
       "      <td>130.89999390</td>\n",
       "      <td>124.16999817</td>\n",
       "      <td>125.06999969</td>\n",
       "      <td>124.04804993</td>\n",
       "      <td>112117500</td>\n",
       "      <td>AAPL.US</td>\n",
       "    </tr>\n",
       "    <tr>\n",
       "      <th>1</th>\n",
       "      <td>2023-01-04</td>\n",
       "      <td>126.88999939</td>\n",
       "      <td>128.66000366</td>\n",
       "      <td>125.08000183</td>\n",
       "      <td>126.36000061</td>\n",
       "      <td>125.32750702</td>\n",
       "      <td>89113600</td>\n",
       "      <td>AAPL.US</td>\n",
       "    </tr>\n",
       "    <tr>\n",
       "      <th>2</th>\n",
       "      <td>2023-01-05</td>\n",
       "      <td>127.12999725</td>\n",
       "      <td>127.76999664</td>\n",
       "      <td>124.76000214</td>\n",
       "      <td>125.01999664</td>\n",
       "      <td>123.99845886</td>\n",
       "      <td>80962700</td>\n",
       "      <td>AAPL.US</td>\n",
       "    </tr>\n",
       "    <tr>\n",
       "      <th>3</th>\n",
       "      <td>2023-01-06</td>\n",
       "      <td>126.01000214</td>\n",
       "      <td>130.28999329</td>\n",
       "      <td>124.88999939</td>\n",
       "      <td>129.61999512</td>\n",
       "      <td>128.56086731</td>\n",
       "      <td>87754700</td>\n",
       "      <td>AAPL.US</td>\n",
       "    </tr>\n",
       "    <tr>\n",
       "      <th>4</th>\n",
       "      <td>2023-01-09</td>\n",
       "      <td>130.47000122</td>\n",
       "      <td>133.41000366</td>\n",
       "      <td>129.88999939</td>\n",
       "      <td>130.14999390</td>\n",
       "      <td>129.08653259</td>\n",
       "      <td>70790800</td>\n",
       "      <td>AAPL.US</td>\n",
       "    </tr>\n",
       "  </tbody>\n",
       "</table>\n",
       "</div>"
      ],
      "text/plain": [
       "        Date         Open         High          Low        Close    Adj Close  \\\n",
       "0 2023-01-03 130.27999878 130.89999390 124.16999817 125.06999969 124.04804993   \n",
       "1 2023-01-04 126.88999939 128.66000366 125.08000183 126.36000061 125.32750702   \n",
       "2 2023-01-05 127.12999725 127.76999664 124.76000214 125.01999664 123.99845886   \n",
       "3 2023-01-06 126.01000214 130.28999329 124.88999939 129.61999512 128.56086731   \n",
       "4 2023-01-09 130.47000122 133.41000366 129.88999939 130.14999390 129.08653259   \n",
       "\n",
       "      Volume   symbol  \n",
       "0  112117500  AAPL.US  \n",
       "1   89113600  AAPL.US  \n",
       "2   80962700  AAPL.US  \n",
       "3   87754700  AAPL.US  \n",
       "4   70790800  AAPL.US  "
      ]
     },
     "execution_count": 13,
     "metadata": {},
     "output_type": "execute_result"
    }
   ],
   "source": [
    "all_prices_df = get_stock_prices(stock_symbols, from_date, to_date)\n",
    "all_prices_df.head()"
   ]
  },
  {
   "cell_type": "markdown",
   "metadata": {},
   "source": [
    "This function calculates the daily percentage change in closing prices for each stock symbol.\n",
    "\n",
    "Parameters:\n",
    "- prices_df: DataFrame containing historical stock prices with columns 'symbol', 'Date', and 'Close'.\n",
    "\n",
    "Returns:\n",
    "- prices_df: DataFrame with an additional column 'price_change' representing the daily percentage change in closing prices for each stock symbol."
   ]
  },
  {
   "cell_type": "code",
   "execution_count": 14,
   "metadata": {},
   "outputs": [],
   "source": [
    "def calculate_price_changes(prices_df):\n",
    "    # Date column in datetime format\n",
    "    prices_df['Date'] = pd.to_datetime(prices_df['Date'])\n",
    "    # Sort the DataFrame by symbol and Date to ensure correct calculation of changes\n",
    "    prices_df = prices_df.sort_values(by=['symbol', 'Date'])\n",
    "    # Calculate the daily percentage change in closing prices for each stock symbol\n",
    "    prices_df['price_change'] = prices_df.groupby('symbol')['Close'].pct_change()\n",
    "    # prices_df['price_change'] = prices_df.groupby('symbol')['Close'].diff()\n",
    "    \n",
    "    return prices_df"
   ]
  },
  {
   "cell_type": "code",
   "execution_count": 15,
   "metadata": {},
   "outputs": [
    {
     "data": {
      "text/html": [
       "<div>\n",
       "<style scoped>\n",
       "    .dataframe tbody tr th:only-of-type {\n",
       "        vertical-align: middle;\n",
       "    }\n",
       "\n",
       "    .dataframe tbody tr th {\n",
       "        vertical-align: top;\n",
       "    }\n",
       "\n",
       "    .dataframe thead th {\n",
       "        text-align: right;\n",
       "    }\n",
       "</style>\n",
       "<table border=\"1\" class=\"dataframe\">\n",
       "  <thead>\n",
       "    <tr style=\"text-align: right;\">\n",
       "      <th></th>\n",
       "      <th>Date</th>\n",
       "      <th>Open</th>\n",
       "      <th>High</th>\n",
       "      <th>Low</th>\n",
       "      <th>Close</th>\n",
       "      <th>Adj Close</th>\n",
       "      <th>Volume</th>\n",
       "      <th>symbol</th>\n",
       "      <th>price_change</th>\n",
       "    </tr>\n",
       "  </thead>\n",
       "  <tbody>\n",
       "    <tr>\n",
       "      <th>0</th>\n",
       "      <td>2023-01-03</td>\n",
       "      <td>130.27999878</td>\n",
       "      <td>130.89999390</td>\n",
       "      <td>124.16999817</td>\n",
       "      <td>125.06999969</td>\n",
       "      <td>124.04804993</td>\n",
       "      <td>112117500</td>\n",
       "      <td>AAPL.US</td>\n",
       "      <td>NaN</td>\n",
       "    </tr>\n",
       "    <tr>\n",
       "      <th>1</th>\n",
       "      <td>2023-01-04</td>\n",
       "      <td>126.88999939</td>\n",
       "      <td>128.66000366</td>\n",
       "      <td>125.08000183</td>\n",
       "      <td>126.36000061</td>\n",
       "      <td>125.32750702</td>\n",
       "      <td>89113600</td>\n",
       "      <td>AAPL.US</td>\n",
       "      <td>0.01031423</td>\n",
       "    </tr>\n",
       "    <tr>\n",
       "      <th>2</th>\n",
       "      <td>2023-01-05</td>\n",
       "      <td>127.12999725</td>\n",
       "      <td>127.76999664</td>\n",
       "      <td>124.76000214</td>\n",
       "      <td>125.01999664</td>\n",
       "      <td>123.99845886</td>\n",
       "      <td>80962700</td>\n",
       "      <td>AAPL.US</td>\n",
       "      <td>-0.01060465</td>\n",
       "    </tr>\n",
       "    <tr>\n",
       "      <th>3</th>\n",
       "      <td>2023-01-06</td>\n",
       "      <td>126.01000214</td>\n",
       "      <td>130.28999329</td>\n",
       "      <td>124.88999939</td>\n",
       "      <td>129.61999512</td>\n",
       "      <td>128.56086731</td>\n",
       "      <td>87754700</td>\n",
       "      <td>AAPL.US</td>\n",
       "      <td>0.03679410</td>\n",
       "    </tr>\n",
       "    <tr>\n",
       "      <th>4</th>\n",
       "      <td>2023-01-09</td>\n",
       "      <td>130.47000122</td>\n",
       "      <td>133.41000366</td>\n",
       "      <td>129.88999939</td>\n",
       "      <td>130.14999390</td>\n",
       "      <td>129.08653259</td>\n",
       "      <td>70790800</td>\n",
       "      <td>AAPL.US</td>\n",
       "      <td>0.00408887</td>\n",
       "    </tr>\n",
       "  </tbody>\n",
       "</table>\n",
       "</div>"
      ],
      "text/plain": [
       "        Date         Open         High          Low        Close    Adj Close  \\\n",
       "0 2023-01-03 130.27999878 130.89999390 124.16999817 125.06999969 124.04804993   \n",
       "1 2023-01-04 126.88999939 128.66000366 125.08000183 126.36000061 125.32750702   \n",
       "2 2023-01-05 127.12999725 127.76999664 124.76000214 125.01999664 123.99845886   \n",
       "3 2023-01-06 126.01000214 130.28999329 124.88999939 129.61999512 128.56086731   \n",
       "4 2023-01-09 130.47000122 133.41000366 129.88999939 130.14999390 129.08653259   \n",
       "\n",
       "      Volume   symbol  price_change  \n",
       "0  112117500  AAPL.US           NaN  \n",
       "1   89113600  AAPL.US    0.01031423  \n",
       "2   80962700  AAPL.US   -0.01060465  \n",
       "3   87754700  AAPL.US    0.03679410  \n",
       "4   70790800  AAPL.US    0.00408887  "
      ]
     },
     "execution_count": 15,
     "metadata": {},
     "output_type": "execute_result"
    }
   ],
   "source": [
    "# Calcolo delle variazioni di prezzo\n",
    "all_prices_df = calculate_price_changes(all_prices_df)\n",
    "all_prices_df.head()"
   ]
  },
  {
   "cell_type": "markdown",
   "metadata": {},
   "source": [
    "## 4. Merge News Headlines + Financial Information"
   ]
  },
  {
   "cell_type": "markdown",
   "metadata": {},
   "source": [
    "This function merges financial news data with historical stock price data based on matching dates and stock symbols."
   ]
  },
  {
   "cell_type": "code",
   "execution_count": 16,
   "metadata": {},
   "outputs": [],
   "source": [
    "def merge_news_and_prices(news_df, prices_df):\n",
    "    # Convert the date column to datetime format and extract the date part\n",
    "    news_df['date'] = pd.to_datetime(news_df['date']).dt.date\n",
    "    prices_df['Date'] = pd.to_datetime(prices_df['Date']).dt.date\n",
    "    \n",
    "    # Identify dates that are present in news_df but missing in prices_df (days where the market is closed for holidays)\n",
    "    missing_dates = set(news_df['date'].unique()) - set(prices_df['Date'].unique())\n",
    "    # print(\"Date mancanti nei dati finanziari:\", missing_dates)\n",
    "    \n",
    "    # Filter out news articles that correspond to missing dates\n",
    "    news_df = news_df[~news_df['date'].isin(missing_dates)]\n",
    "    \n",
    "    # Merge the news data with the stock price data based on matching symbol and date\n",
    "    merged_df = pd.merge(news_df, prices_df, left_on=['symbol', 'date'], right_on=['symbol', 'Date'])\n",
    "\n",
    "    return merged_df"
   ]
  },
  {
   "cell_type": "code",
   "execution_count": 17,
   "metadata": {},
   "outputs": [
    {
     "data": {
      "text/html": [
       "<div>\n",
       "<style scoped>\n",
       "    .dataframe tbody tr th:only-of-type {\n",
       "        vertical-align: middle;\n",
       "    }\n",
       "\n",
       "    .dataframe tbody tr th {\n",
       "        vertical-align: top;\n",
       "    }\n",
       "\n",
       "    .dataframe thead th {\n",
       "        text-align: right;\n",
       "    }\n",
       "</style>\n",
       "<table border=\"1\" class=\"dataframe\">\n",
       "  <thead>\n",
       "    <tr style=\"text-align: right;\">\n",
       "      <th></th>\n",
       "      <th>date</th>\n",
       "      <th>title</th>\n",
       "      <th>content</th>\n",
       "      <th>link</th>\n",
       "      <th>symbols</th>\n",
       "      <th>tags</th>\n",
       "      <th>sentiment</th>\n",
       "      <th>symbol</th>\n",
       "      <th>cleaned_title</th>\n",
       "      <th>sentiment_textblob</th>\n",
       "      <th>sentiment_vader</th>\n",
       "      <th>Date</th>\n",
       "      <th>Open</th>\n",
       "      <th>High</th>\n",
       "      <th>Low</th>\n",
       "      <th>Close</th>\n",
       "      <th>Adj Close</th>\n",
       "      <th>Volume</th>\n",
       "      <th>price_change</th>\n",
       "    </tr>\n",
       "  </thead>\n",
       "  <tbody>\n",
       "    <tr>\n",
       "      <th>0</th>\n",
       "      <td>2024-05-30</td>\n",
       "      <td>Apple Plans AI-Based Siri Overhaul to Control ...</td>\n",
       "      <td>(Bloomberg) -- Apple Inc. is planning to overh...</td>\n",
       "      <td>https://finance.yahoo.com/news/apple-plans-ai-...</td>\n",
       "      <td>[0R2V.IL, 0RIH.IL, 1GOOG.MI, 1GOOGL.MI, AAPL.B...</td>\n",
       "      <td>[]</td>\n",
       "      <td>{'polarity': 0.997, 'neg': 0.014, 'neu': 0.898...</td>\n",
       "      <td>AAPL.US</td>\n",
       "      <td>apple plans aibased siri overhaul to control i...</td>\n",
       "      <td>0.00000000</td>\n",
       "      <td>0.00000000</td>\n",
       "      <td>2024-05-30</td>\n",
       "      <td>190.75999451</td>\n",
       "      <td>192.17999268</td>\n",
       "      <td>190.63000488</td>\n",
       "      <td>191.28999329</td>\n",
       "      <td>191.28999329</td>\n",
       "      <td>49947900</td>\n",
       "      <td>0.00525514</td>\n",
       "    </tr>\n",
       "    <tr>\n",
       "      <th>1</th>\n",
       "      <td>2024-05-30</td>\n",
       "      <td>1 Spectacular Growth Stock That Could Join Nvi...</td>\n",
       "      <td>Fool.com contributor Parkev Tatevosian highlig...</td>\n",
       "      <td>https://finance.yahoo.com/news/1-spectacular-g...</td>\n",
       "      <td>[AAPL.US, GOOG.US, GOOGL.US, META.US, MSFT.US,...</td>\n",
       "      <td>[]</td>\n",
       "      <td>{'polarity': -0.705, 'neg': 0.078, 'neu': 0.85...</td>\n",
       "      <td>AAPL.US</td>\n",
       "      <td>1 spectacular growth stock that could join nvi...</td>\n",
       "      <td>0.60000000</td>\n",
       "      <td>0.58590000</td>\n",
       "      <td>2024-05-30</td>\n",
       "      <td>190.75999451</td>\n",
       "      <td>192.17999268</td>\n",
       "      <td>190.63000488</td>\n",
       "      <td>191.28999329</td>\n",
       "      <td>191.28999329</td>\n",
       "      <td>49947900</td>\n",
       "      <td>0.00525514</td>\n",
       "    </tr>\n",
       "    <tr>\n",
       "      <th>2</th>\n",
       "      <td>2024-05-30</td>\n",
       "      <td>Apple iPhone Sales Weak In China, U.S.: Report</td>\n",
       "      <td>Apple iPhone unit sales are soft and underperf...</td>\n",
       "      <td>https://finance.yahoo.com/m/ad128b51-da00-3a2c...</td>\n",
       "      <td>[0R2V.IL, AAPL.BA, AAPL.MX, AAPL.NEO, AAPL.US,...</td>\n",
       "      <td>[]</td>\n",
       "      <td>{'polarity': 0, 'neg': 0, 'neu': 1, 'pos': 0}</td>\n",
       "      <td>AAPL.US</td>\n",
       "      <td>apple iphone sales weak in china us report</td>\n",
       "      <td>-0.37500000</td>\n",
       "      <td>-0.44040000</td>\n",
       "      <td>2024-05-30</td>\n",
       "      <td>190.75999451</td>\n",
       "      <td>192.17999268</td>\n",
       "      <td>190.63000488</td>\n",
       "      <td>191.28999329</td>\n",
       "      <td>191.28999329</td>\n",
       "      <td>49947900</td>\n",
       "      <td>0.00525514</td>\n",
       "    </tr>\n",
       "    <tr>\n",
       "      <th>3</th>\n",
       "      <td>2024-05-30</td>\n",
       "      <td>Warner Bros. Discovery CEO says company has 'f...</td>\n",
       "      <td>Warner Bros. Discovery (WBD) CEO David Zaslav ...</td>\n",
       "      <td>https://finance.yahoo.com/news/warner-bros-dis...</td>\n",
       "      <td>[0R1O.IL, 0R2V.IL, 0RIH.IL, 0RIH.LSE, 1AMZN.MI...</td>\n",
       "      <td>[]</td>\n",
       "      <td>{'polarity': 0.971, 'neg': 0.032, 'neu': 0.892...</td>\n",
       "      <td>AAPL.US</td>\n",
       "      <td>warner bros discovery ceo says company has ful...</td>\n",
       "      <td>0.35000000</td>\n",
       "      <td>-0.15310000</td>\n",
       "      <td>2024-05-30</td>\n",
       "      <td>190.75999451</td>\n",
       "      <td>192.17999268</td>\n",
       "      <td>190.63000488</td>\n",
       "      <td>191.28999329</td>\n",
       "      <td>191.28999329</td>\n",
       "      <td>49947900</td>\n",
       "      <td>0.00525514</td>\n",
       "    </tr>\n",
       "    <tr>\n",
       "      <th>4</th>\n",
       "      <td>2024-05-30</td>\n",
       "      <td>Nvidia Could Surpass Microsoft in Market Value...</td>\n",
       "      <td>Nvidia Could Surpass Microsoft in Market Value...</td>\n",
       "      <td>https://finance.yahoo.com/news/nvidia-could-su...</td>\n",
       "      <td>[0QYP.IL, 1MSFT.MI, 1NVDA.MI, AAPL.US, AMZN.US...</td>\n",
       "      <td>[]</td>\n",
       "      <td>{'polarity': 0.986, 'neg': 0.025, 'neu': 0.858...</td>\n",
       "      <td>AAPL.US</td>\n",
       "      <td>nvidia could surpass microsoft in market value...</td>\n",
       "      <td>0.00000000</td>\n",
       "      <td>0.34000000</td>\n",
       "      <td>2024-05-30</td>\n",
       "      <td>190.75999451</td>\n",
       "      <td>192.17999268</td>\n",
       "      <td>190.63000488</td>\n",
       "      <td>191.28999329</td>\n",
       "      <td>191.28999329</td>\n",
       "      <td>49947900</td>\n",
       "      <td>0.00525514</td>\n",
       "    </tr>\n",
       "  </tbody>\n",
       "</table>\n",
       "</div>"
      ],
      "text/plain": [
       "         date                                              title  \\\n",
       "0  2024-05-30  Apple Plans AI-Based Siri Overhaul to Control ...   \n",
       "1  2024-05-30  1 Spectacular Growth Stock That Could Join Nvi...   \n",
       "2  2024-05-30     Apple iPhone Sales Weak In China, U.S.: Report   \n",
       "3  2024-05-30  Warner Bros. Discovery CEO says company has 'f...   \n",
       "4  2024-05-30  Nvidia Could Surpass Microsoft in Market Value...   \n",
       "\n",
       "                                             content  \\\n",
       "0  (Bloomberg) -- Apple Inc. is planning to overh...   \n",
       "1  Fool.com contributor Parkev Tatevosian highlig...   \n",
       "2  Apple iPhone unit sales are soft and underperf...   \n",
       "3  Warner Bros. Discovery (WBD) CEO David Zaslav ...   \n",
       "4  Nvidia Could Surpass Microsoft in Market Value...   \n",
       "\n",
       "                                                link  \\\n",
       "0  https://finance.yahoo.com/news/apple-plans-ai-...   \n",
       "1  https://finance.yahoo.com/news/1-spectacular-g...   \n",
       "2  https://finance.yahoo.com/m/ad128b51-da00-3a2c...   \n",
       "3  https://finance.yahoo.com/news/warner-bros-dis...   \n",
       "4  https://finance.yahoo.com/news/nvidia-could-su...   \n",
       "\n",
       "                                             symbols tags  \\\n",
       "0  [0R2V.IL, 0RIH.IL, 1GOOG.MI, 1GOOGL.MI, AAPL.B...   []   \n",
       "1  [AAPL.US, GOOG.US, GOOGL.US, META.US, MSFT.US,...   []   \n",
       "2  [0R2V.IL, AAPL.BA, AAPL.MX, AAPL.NEO, AAPL.US,...   []   \n",
       "3  [0R1O.IL, 0R2V.IL, 0RIH.IL, 0RIH.LSE, 1AMZN.MI...   []   \n",
       "4  [0QYP.IL, 1MSFT.MI, 1NVDA.MI, AAPL.US, AMZN.US...   []   \n",
       "\n",
       "                                           sentiment   symbol  \\\n",
       "0  {'polarity': 0.997, 'neg': 0.014, 'neu': 0.898...  AAPL.US   \n",
       "1  {'polarity': -0.705, 'neg': 0.078, 'neu': 0.85...  AAPL.US   \n",
       "2      {'polarity': 0, 'neg': 0, 'neu': 1, 'pos': 0}  AAPL.US   \n",
       "3  {'polarity': 0.971, 'neg': 0.032, 'neu': 0.892...  AAPL.US   \n",
       "4  {'polarity': 0.986, 'neg': 0.025, 'neu': 0.858...  AAPL.US   \n",
       "\n",
       "                                       cleaned_title  sentiment_textblob  \\\n",
       "0  apple plans aibased siri overhaul to control i...          0.00000000   \n",
       "1  1 spectacular growth stock that could join nvi...          0.60000000   \n",
       "2         apple iphone sales weak in china us report         -0.37500000   \n",
       "3  warner bros discovery ceo says company has ful...          0.35000000   \n",
       "4  nvidia could surpass microsoft in market value...          0.00000000   \n",
       "\n",
       "   sentiment_vader        Date         Open         High          Low  \\\n",
       "0       0.00000000  2024-05-30 190.75999451 192.17999268 190.63000488   \n",
       "1       0.58590000  2024-05-30 190.75999451 192.17999268 190.63000488   \n",
       "2      -0.44040000  2024-05-30 190.75999451 192.17999268 190.63000488   \n",
       "3      -0.15310000  2024-05-30 190.75999451 192.17999268 190.63000488   \n",
       "4       0.34000000  2024-05-30 190.75999451 192.17999268 190.63000488   \n",
       "\n",
       "         Close    Adj Close    Volume  price_change  \n",
       "0 191.28999329 191.28999329  49947900    0.00525514  \n",
       "1 191.28999329 191.28999329  49947900    0.00525514  \n",
       "2 191.28999329 191.28999329  49947900    0.00525514  \n",
       "3 191.28999329 191.28999329  49947900    0.00525514  \n",
       "4 191.28999329 191.28999329  49947900    0.00525514  "
      ]
     },
     "execution_count": 17,
     "metadata": {},
     "output_type": "execute_result"
    }
   ],
   "source": [
    "merged_df = merge_news_and_prices(news_df, all_prices_df)\n",
    "merged_df.head()"
   ]
  },
  {
   "cell_type": "code",
   "execution_count": 18,
   "metadata": {},
   "outputs": [],
   "source": [
    "# Analisi descrittiva\n",
    "def analyze_dataset(df):\n",
    "    print(\"Dataset Info:\")\n",
    "    print(df.info())\n",
    "    print(\"\\nSummary Statistics:\")\n",
    "    print(df.describe())\n",
    "    print(\"\\nMissing Values:\")\n",
    "    print(df.isnull().sum())\n",
    "    \n",
    "def plot_correlation_matrix(df):\n",
    "    plt.figure(figsize=(12, 10))\n",
    "    \n",
    "    # Seleziona solo le colonne numeriche\n",
    "    numeric_df = df.select_dtypes(include=[np.number])\n",
    "    \n",
    "    correlation_matrix = numeric_df.corr()\n",
    "    sns.heatmap(correlation_matrix, annot=True, cmap='coolwarm', linewidths=0.5)\n",
    "    plt.title('Matrice di Correlazione')\n",
    "    plt.show()"
   ]
  },
  {
   "cell_type": "code",
   "execution_count": 19,
   "metadata": {},
   "outputs": [
    {
     "name": "stdout",
     "output_type": "stream",
     "text": [
      "Dataset Info:\n",
      "<class 'pandas.core.frame.DataFrame'>\n",
      "RangeIndex: 574 entries, 0 to 573\n",
      "Data columns (total 19 columns):\n",
      " #   Column              Non-Null Count  Dtype  \n",
      "---  ------              --------------  -----  \n",
      " 0   date                574 non-null    object \n",
      " 1   title               574 non-null    object \n",
      " 2   content             574 non-null    object \n",
      " 3   link                574 non-null    object \n",
      " 4   symbols             574 non-null    object \n",
      " 5   tags                574 non-null    object \n",
      " 6   sentiment           574 non-null    object \n",
      " 7   symbol              574 non-null    object \n",
      " 8   cleaned_title       574 non-null    object \n",
      " 9   sentiment_textblob  574 non-null    float64\n",
      " 10  sentiment_vader     574 non-null    float64\n",
      " 11  Date                574 non-null    object \n",
      " 12  Open                574 non-null    float64\n",
      " 13  High                574 non-null    float64\n",
      " 14  Low                 574 non-null    float64\n",
      " 15  Close               574 non-null    float64\n",
      " 16  Adj Close           574 non-null    float64\n",
      " 17  Volume              574 non-null    int64  \n",
      " 18  price_change        574 non-null    float64\n",
      "dtypes: float64(8), int64(1), object(10)\n",
      "memory usage: 85.3+ KB\n",
      "None\n",
      "\n",
      "Summary Statistics:\n",
      "       sentiment_textblob  sentiment_vader            Open            High  \\\n",
      "count        574.00000000     574.00000000    574.00000000    574.00000000   \n",
      "mean           0.11968834       0.14075679  84353.42045179  84751.14217511   \n",
      "std            0.25644040       0.31221333 212050.53162519 213044.75089626   \n",
      "min           -0.60000000      -0.77830000    100.84999847    102.06999969   \n",
      "25%            0.00000000       0.00000000    174.97999573    177.27000427   \n",
      "50%            0.00000000       0.00000000    191.50999451    193.00000000   \n",
      "75%            0.21666667       0.38180000   1130.50000000   1154.92004395   \n",
      "max            1.00000000       0.82250000 629418.00000000 632234.00000000   \n",
      "\n",
      "                  Low           Close       Adj Close            Volume  \\\n",
      "count    574.00000000    574.00000000    574.00000000      574.00000000   \n",
      "mean   83700.41344980  84321.29480862  84321.25831752 26414062.89198606   \n",
      "std   210422.32392261 211974.04488797 211974.05938146 22875598.10598689   \n",
      "min      100.26999664    100.66000366    100.66000366    11500.00000000   \n",
      "25%      173.64999390    176.19000244    176.19000244  7303700.00000000   \n",
      "50%      190.63000488    191.28999329    191.28999329 20572200.00000000   \n",
      "75%     1096.63000488   1105.00000000   1105.00000000 49947900.00000000   \n",
      "max   623648.00000000 629375.00000000 629375.00000000 77784800.00000000   \n",
      "\n",
      "       price_change  \n",
      "count  574.00000000  \n",
      "mean    -0.00230666  \n",
      "std      0.01562245  \n",
      "min     -0.03766601  \n",
      "25%     -0.00590581  \n",
      "50%      0.00093859  \n",
      "75%      0.00811230  \n",
      "max      0.03165650  \n",
      "\n",
      "Missing Values:\n",
      "date                  0\n",
      "title                 0\n",
      "content               0\n",
      "link                  0\n",
      "symbols               0\n",
      "tags                  0\n",
      "sentiment             0\n",
      "symbol                0\n",
      "cleaned_title         0\n",
      "sentiment_textblob    0\n",
      "sentiment_vader       0\n",
      "Date                  0\n",
      "Open                  0\n",
      "High                  0\n",
      "Low                   0\n",
      "Close                 0\n",
      "Adj Close             0\n",
      "Volume                0\n",
      "price_change          0\n",
      "dtype: int64\n"
     ]
    }
   ],
   "source": [
    "# Analizza il dataset\n",
    "analyze_dataset(merged_df)"
   ]
  },
  {
   "cell_type": "code",
   "execution_count": 20,
   "metadata": {},
   "outputs": [],
   "source": [
    "# plt.figure(figsize=(8, 6))\n",
    "# sns.countplot(x='label', data=merged_df)\n",
    "# plt.title('Distribuzione delle Etichette')\n",
    "# plt.xlabel('Etichetta')\n",
    "# plt.ylabel('Conteggio')\n",
    "# plt.show()"
   ]
  },
  {
   "cell_type": "code",
   "execution_count": 21,
   "metadata": {},
   "outputs": [
    {
     "data": {
      "image/png": "[encoded data removed]",
      "text/plain": [
       "<Figure size 1000x600 with 1 Axes>"
      ]
     },
     "metadata": {},
     "output_type": "display_data"
    }
   ],
   "source": [
    "# Visualizza la distribuzione delle variazioni di prezzo\n",
    "plt.figure(figsize=(10, 6))\n",
    "sns.histplot(merged_df['price_change'], bins=20, kde=True)\n",
    "plt.title('Distribuzione delle Variazioni di Prezzo')\n",
    "plt.xlabel('Variazione di Prezzo')\n",
    "plt.ylabel('Frequenza')\n",
    "plt.show()"
   ]
  },
  {
   "cell_type": "code",
   "execution_count": 22,
   "metadata": {},
   "outputs": [],
   "source": [
    "# # Grafico della relazione tra sentiment e variazioni di prezzo\n",
    "\n",
    "# plt.figure(figsize=(12, 6))\n",
    "# sns.scatterplot(x='sentiment_textblob', y='price_change', data=merged_df, hue='label')\n",
    "# plt.title('Relazione tra Sentiment e Variazioni di Prezzo')\n",
    "# plt.xlabel('Sentiment (TextBlob)')\n",
    "# plt.ylabel('Variazione di Prezzo')\n",
    "# plt.show()\n",
    "\n",
    "# plt.figure(figsize=(12, 6))\n",
    "# sns.scatterplot(x='sentiment_vader', y='price_change', data=merged_df, hue='label')\n",
    "# plt.title('Relazione tra Sentiment e Variazioni di Prezzo')\n",
    "# plt.xlabel('Sentiment (VADER)')\n",
    "# plt.ylabel('Variazione di Prezzo')\n",
    "# plt.show()\n",
    "# # "
   ]
  },
  {
   "cell_type": "code",
   "execution_count": 23,
   "metadata": {},
   "outputs": [
    {
     "data": {
      "image/png": "[encoded data removed]",
      "text/plain": [
       "<Figure size 1200x1000 with 2 Axes>"
      ]
     },
     "metadata": {},
     "output_type": "display_data"
    }
   ],
   "source": [
    "# Visualizza la matrice di correlazione\n",
    "plot_correlation_matrix(merged_df)"
   ]
  },
  {
   "cell_type": "markdown",
   "metadata": {},
   "source": [
    "## 5. Tags Classification"
   ]
  },
  {
   "cell_type": "code",
   "execution_count": 24,
   "metadata": {},
   "outputs": [
    {
     "data": {
      "image/png": "[encoded data removed]",
      "text/plain": [
       "<Figure size 1000x600 with 1 Axes>"
      ]
     },
     "metadata": {},
     "output_type": "display_data"
    }
   ],
   "source": [
    "# # Controlla le prime righe delle variazioni di prezzo per verificare i calcoli\n",
    "# print(merged_df[['date', 'symbol', 'Close', 'price_change']].head(50))\n",
    "\n",
    "# # Statistiche descrittive delle variazioni di prezzo\n",
    "# print(merged_df['price_change'].describe())\n",
    "\n",
    "# Controlla la distribuzione delle variazioni di prezzo\n",
    "plt.figure(figsize=(10, 6))\n",
    "sns.histplot(merged_df['price_change'], bins=20, kde=True)\n",
    "plt.title('Distribuzione delle Variazioni di Prezzo')\n",
    "plt.xlabel('Variazione di Prezzo')\n",
    "plt.ylabel('Frequenza')\n",
    "plt.show()"
   ]
  },
  {
   "cell_type": "code",
   "execution_count": 25,
   "metadata": {},
   "outputs": [
    {
     "name": "stdout",
     "output_type": "stream",
     "text": [
      "(0.00393, 0.0109]      163\n",
      "(-0.003, 0.00393]      153\n",
      "(-0.0387, -0.0307]      58\n",
      "(-0.00994, -0.003]      58\n",
      "(0.0109, 0.0178]        58\n",
      "(-0.0238, -0.0169]      28\n",
      "(-0.0169, -0.00994]     28\n",
      "(-0.0307, -0.0238]      15\n",
      "(0.0247, 0.0317]        13\n",
      "(0.0178, 0.0247]         0\n",
      "Name: count, dtype: int64\n",
      "count   574.00000000\n",
      "mean     -0.00230666\n",
      "std       0.01562245\n",
      "min      -0.03766601\n",
      "25%      -0.00590581\n",
      "50%       0.00093859\n",
      "75%       0.00811230\n",
      "max       0.03165650\n",
      "Name: price_change, dtype: float64\n"
     ]
    }
   ],
   "source": [
    "# Verifica della distribuzione delle variazioni di prezzo\n",
    "print(merged_df['price_change'].value_counts(bins=10))\n",
    "\n",
    "# Verifica delle statistiche delle variazioni di prezzo\n",
    "print(merged_df['price_change'].describe())"
   ]
  },
  {
   "cell_type": "code",
   "execution_count": 26,
   "metadata": {},
   "outputs": [
    {
     "data": {
      "text/plain": [
       "date\n",
       "2024-05-30    130\n",
       "2024-05-29    103\n",
       "2024-05-28     79\n",
       "2024-05-24     63\n",
       "2024-05-15     27\n",
       "2024-05-16     22\n",
       "2024-05-06     21\n",
       "2024-05-14     17\n",
       "2024-05-17     16\n",
       "2024-05-22     16\n",
       "2024-05-21     15\n",
       "2024-05-13     11\n",
       "2024-05-20     10\n",
       "2024-05-23     10\n",
       "2024-05-07     10\n",
       "2024-05-08      8\n",
       "2024-05-09      7\n",
       "2024-05-10      5\n",
       "2024-05-03      4\n",
       "Name: count, dtype: int64"
      ]
     },
     "execution_count": 26,
     "metadata": {},
     "output_type": "execute_result"
    }
   ],
   "source": [
    "merged_df['date'].value_counts()"
   ]
  },
  {
   "cell_type": "markdown",
   "metadata": {},
   "source": [
    "In this step, we create labels for the stock price changes in our merged dataset. We define a threshold to determine what constitutes a significant price change, 1%. If the price change exceeds the positive threshold, it is labeled as 'positive'. If the price change falls below the negative threshold, it is labeled as ‘negative’. Any price changes that fall within the threshold range are labeled as ‘no_change’."
   ]
  },
  {
   "cell_type": "code",
   "execution_count": 27,
   "metadata": {},
   "outputs": [],
   "source": [
    "threshold = 0.01 \n",
    "\n",
    "# Labels based on the price change\n",
    "merged_df['label'] = np.select(\n",
    "    [\n",
    "        (merged_df['price_change'] > threshold),  # Significant positive change\n",
    "        (merged_df['price_change'] < -threshold)  # Significant negative change\n",
    "    ],\n",
    "    [\n",
    "        'positive', # Label for positive change\n",
    "        'negative'  # Label for negative change\n",
    "    ],\n",
    "    default='no_change' # Label for no significant change\n",
    ")"
   ]
  },
  {
   "cell_type": "code",
   "execution_count": 28,
   "metadata": {},
   "outputs": [
    {
     "data": {
      "text/plain": [
       "label\n",
       "no_change    373\n",
       "negative     129\n",
       "positive      72\n",
       "Name: count, dtype: int64"
      ]
     },
     "execution_count": 28,
     "metadata": {},
     "output_type": "execute_result"
    }
   ],
   "source": [
    "merged_df['label'].value_counts()"
   ]
  },
  {
   "cell_type": "code",
   "execution_count": 29,
   "metadata": {},
   "outputs": [
    {
     "data": {
      "image/png": "[encoded data removed]",
      "text/plain": [
       "<Figure size 800x600 with 1 Axes>"
      ]
     },
     "metadata": {},
     "output_type": "display_data"
    }
   ],
   "source": [
    "plt.figure(figsize=(8, 6))\n",
    "sns.countplot(x='label', data=merged_df)\n",
    "plt.title('Distribuzione delle Etichette')\n",
    "plt.xlabel('Etichetta')\n",
    "plt.ylabel('Conteggio')\n",
    "plt.show()"
   ]
  },
  {
   "cell_type": "markdown",
   "metadata": {},
   "source": [
    "## 6. Machine Learning Models"
   ]
  },
  {
   "cell_type": "markdown",
   "metadata": {},
   "source": [
    "We prepare the features and labels for our machine learning models. We select relevant features from the merged dataset, which include the sentiment scores derived from TextBlob and VADER sentiment analysis. "
   ]
  },
  {
   "cell_type": "code",
   "execution_count": 30,
   "metadata": {},
   "outputs": [],
   "source": [
    "# Select features: sentiment scores from TextBlob and VADER\n",
    "X = merged_df[['sentiment_textblob', 'sentiment_vader']]\n",
    "# Select labels: stock price movement labels\n",
    "y = merged_df['label']"
   ]
  },
  {
   "cell_type": "markdown",
   "metadata": {},
   "source": [
    "We also encode the labels into numerical format. Since our models require numerical labels, we use LabelEncoder from scikit-learn to transform the categorical labels (‘positive’, ‘negative’, ‘no_change’) into integer values. This process ensures that the labels are in a suitable format for model training.\n",
    "\n",
    "LabelEncoder will encode the labels in alphabetical order:\n",
    "- ‘negative’ -> 0\n",
    "- ‘no_change’ -> 1\n",
    "- ‘positive’ -> 2"
   ]
  },
  {
   "cell_type": "code",
   "execution_count": 31,
   "metadata": {},
   "outputs": [],
   "source": [
    "# Encode labels as integer values\n",
    "le = LabelEncoder()\n",
    "y = le.fit_transform(y)"
   ]
  },
  {
   "cell_type": "code",
   "execution_count": 32,
   "metadata": {},
   "outputs": [
    {
     "data": {
      "text/plain": [
       "{'negative': 0, 'no_change': 1, 'positive': 2}"
      ]
     },
     "execution_count": 32,
     "metadata": {},
     "output_type": "execute_result"
    }
   ],
   "source": [
    "label_mapping = dict(zip(le.classes_, le.transform(le.classes_)))\n",
    "label_mapping"
   ]
  },
  {
   "cell_type": "markdown",
   "metadata": {},
   "source": [
    "This code prepares the data for the subsequent training and evaluation of machine learning models, which will use these standardized training, validation, and test sets to build and validate predictive models.\n",
    "\n",
    "We split the dataset into training, validation, and test sets, and then normalizes the features using standardization. \tThe validation set is used to tune the model’s hyperparameters and prevent overfitting and the test set is used to evaluate the final performance of the model.\n",
    "\n",
    "Standardization is performed to normalize the features, ensuring that they have a mean of 0 and a standard deviation of 1. This is important for many machine learning algorithms, which perform better when the input features are on the same scale.\n",
    "\n",
    "This process of splitting and standardizing the data ensures that the machine learning models we train will be evaluated fairly and consistently. The validation set helps in tuning and preventing overfitting, while the test set provides a final unbiased evaluation of the model. Standardization ensures that all features contribute equally to the model, improving its performance and convergence speed."
   ]
  },
  {
   "cell_type": "code",
   "execution_count": 33,
   "metadata": {},
   "outputs": [],
   "source": [
    "# Split into training and temporary sets\n",
    "X_train, X_temp, y_train, y_temp = train_test_split(X, y, test_size=0.4, random_state=42)\n",
    "# Split the temporary set into validation and test sets\n",
    "X_val, X_test, y_val, y_test = train_test_split(X_temp, y_temp, test_size=0.5, random_state=42)\n",
    "\n",
    "# Initialize the StandardScaler\n",
    "scaler = StandardScaler()\n",
    "# Fit the scaler on the 3 data sets and transform it\n",
    "X_train = scaler.fit_transform(X_train)\n",
    "X_val = scaler.transform(X_val)\n",
    "X_test = scaler.transform(X_test)"
   ]
  },
  {
   "cell_type": "code",
   "execution_count": null,
   "metadata": {},
   "outputs": [],
   "source": []
  },
  {
   "cell_type": "code",
   "execution_count": null,
   "metadata": {},
   "outputs": [],
   "source": []
  },
  {
   "cell_type": "markdown",
   "metadata": {},
   "source": [
    "We initialize a set of traditional machine learning models. \n",
    "<br>\n",
    "\n",
    "1. **Logistic Regression**<br>\n",
    "A linear model used for binary classification tasks. It models the probability of a class based on the input features.<br>\n",
    "2. **Support Vector Machine (SVM)**<br>\n",
    "A powerful classification method that finds the hyperplane that best separates the classes in the feature space.\n",
    "3. **Random Forest**<br>\n",
    "An ensemble method that constructs multiple decision trees during training and outputs the mode of the classes for classification.\n",
    "4. **Gradient Boosting**<br>\n",
    "Another ensemble method that builds models sequentially, each trying to correct the errors of the previous one, effectively boosting performance.\n",
    "5. **Decision Tree**<br>\n",
    "A simple and interpretable model that splits the data based on feature values to make classifications.\n",
    "6. **K-Nearest Neighbors (KNN)**<br>\n",
    "A non-parametric method that classifies a data point based on how its neighbors are classified.\n",
    "7. **Naive Bayes**<br>\n",
    "A probabilistic classifier based on Bayes’ theorem, assuming independence between the features.\n",
    "8. **XGBoost**<br>\n",
    "An efficient and scalable implementation of gradient boosting, which is often used in competitions for its high performance.\n",
    "\n",
    "\n",
    "Each of these models represents a different approach to classification, providing a variety of methods to handle our sentiment analysis and price prediction task. By comparing these models, we can determine which one performs best for our specific problem.\n",
    "These models will be trained, validated, and compared to identify the best-performing model for predicting stock price movements based on news sentiment."
   ]
  },
  {
   "cell_type": "code",
   "execution_count": 34,
   "metadata": {},
   "outputs": [],
   "source": [
    "# Initializing traditional machine learning models\n",
    "models = {\n",
    "    \"Logistic Regression\": LogisticRegression(),\n",
    "    \"SVM\": SVC(),\n",
    "    \"Random Forest\": RandomForestClassifier(),\n",
    "    \"Gradient Boosting\": GradientBoostingClassifier(),\n",
    "    \"Decision Tree\": DecisionTreeClassifier(),\n",
    "    \"KNN\": KNeighborsClassifier(),\n",
    "    \"Naive Bayes\": GaussianNB(),\n",
    "    \"XGBoost\": xgb.XGBClassifier(use_label_encoder=False, eval_metric='logloss'),\n",
    "}"
   ]
  },
  {
   "cell_type": "markdown",
   "metadata": {},
   "source": [
    "This function was created to train and evaluate a the set of machine learning models defined previously on the training and validation datasets. It takes the initialized models, training features, training labels, validation features, and validation labels as inputs, and returns the evaluation results."
   ]
  },
  {
   "cell_type": "code",
   "execution_count": 35,
   "metadata": {},
   "outputs": [],
   "source": [
    "def train_and_evaluate(models, X_train, y_train, X_val, y_val):\n",
    "    # Dictionary to store the performance metrics for each model\n",
    "    results = {}\n",
    "    for name, model in models.items():\n",
    "        # Train the model with the training data\n",
    "        model.fit(X_train, y_train)\n",
    "        # Predictions using the validation data\n",
    "        y_pred = model.predict(X_val)\n",
    "\n",
    "        accuracy = accuracy_score(y_val, y_pred)\n",
    "        report = classification_report(y_val, y_pred, output_dict=True, zero_division=0)\n",
    "        results[name] = {\n",
    "            \"accuracy\": accuracy,\n",
    "            \"report\": report\n",
    "        }\n",
    "        \n",
    "        print(f\"Model: {name}\")\n",
    "        print(f\"Accuracy: {accuracy}\")\n",
    "        print(classification_report(y_val, y_pred, zero_division=0))\n",
    "        print(\"-\" * 60)\n",
    "    return results"
   ]
  },
  {
   "cell_type": "code",
   "execution_count": 36,
   "metadata": {},
   "outputs": [
    {
     "name": "stdout",
     "output_type": "stream",
     "text": [
      "Model: Logistic Regression\n",
      "Accuracy: 0.6\n",
      "              precision    recall  f1-score   support\n",
      "\n",
      "           0       0.00      0.00      0.00        31\n",
      "           1       0.60      1.00      0.75        69\n",
      "           2       0.00      0.00      0.00        15\n",
      "\n",
      "    accuracy                           0.60       115\n",
      "   macro avg       0.20      0.33      0.25       115\n",
      "weighted avg       0.36      0.60      0.45       115\n",
      "\n",
      "------------------------------------------------------------\n",
      "Model: SVM\n",
      "Accuracy: 0.6\n",
      "              precision    recall  f1-score   support\n",
      "\n",
      "           0       0.00      0.00      0.00        31\n",
      "           1       0.60      1.00      0.75        69\n",
      "           2       0.00      0.00      0.00        15\n",
      "\n",
      "    accuracy                           0.60       115\n",
      "   macro avg       0.20      0.33      0.25       115\n",
      "weighted avg       0.36      0.60      0.45       115\n",
      "\n",
      "------------------------------------------------------------\n",
      "Model: Random Forest\n",
      "Accuracy: 0.5739130434782609\n",
      "              precision    recall  f1-score   support\n",
      "\n",
      "           0       0.39      0.29      0.33        31\n",
      "           1       0.65      0.80      0.72        69\n",
      "           2       0.25      0.13      0.17        15\n",
      "\n",
      "    accuracy                           0.57       115\n",
      "   macro avg       0.43      0.41      0.41       115\n",
      "weighted avg       0.53      0.57      0.54       115\n",
      "\n",
      "------------------------------------------------------------\n",
      "Model: Gradient Boosting\n",
      "Accuracy: 0.591304347826087\n",
      "              precision    recall  f1-score   support\n",
      "\n",
      "           0       0.42      0.26      0.32        31\n",
      "           1       0.64      0.84      0.73        69\n",
      "           2       0.33      0.13      0.19        15\n",
      "\n",
      "    accuracy                           0.59       115\n",
      "   macro avg       0.47      0.41      0.41       115\n",
      "weighted avg       0.54      0.59      0.55       115\n",
      "\n",
      "------------------------------------------------------------\n",
      "Model: Decision Tree\n",
      "Accuracy: 0.5826086956521739\n",
      "              precision    recall  f1-score   support\n",
      "\n",
      "           0       0.41      0.39      0.40        31\n",
      "           1       0.65      0.77      0.70        69\n",
      "           2       0.50      0.13      0.21        15\n",
      "\n",
      "    accuracy                           0.58       115\n",
      "   macro avg       0.52      0.43      0.44       115\n",
      "weighted avg       0.56      0.58      0.56       115\n",
      "\n",
      "------------------------------------------------------------\n",
      "Model: KNN\n",
      "Accuracy: 0.591304347826087\n",
      "              precision    recall  f1-score   support\n",
      "\n",
      "           0       0.33      0.23      0.27        31\n",
      "           1       0.65      0.88      0.75        69\n",
      "           2       0.00      0.00      0.00        15\n",
      "\n",
      "    accuracy                           0.59       115\n",
      "   macro avg       0.33      0.37      0.34       115\n",
      "weighted avg       0.48      0.59      0.52       115\n",
      "\n",
      "------------------------------------------------------------\n",
      "Model: Naive Bayes\n",
      "Accuracy: 0.6\n",
      "              precision    recall  f1-score   support\n",
      "\n",
      "           0       0.00      0.00      0.00        31\n",
      "           1       0.60      1.00      0.75        69\n",
      "           2       0.00      0.00      0.00        15\n",
      "\n",
      "    accuracy                           0.60       115\n",
      "   macro avg       0.20      0.33      0.25       115\n",
      "weighted avg       0.36      0.60      0.45       115\n",
      "\n",
      "------------------------------------------------------------\n",
      "Model: XGBoost\n",
      "Accuracy: 0.5652173913043478\n",
      "              precision    recall  f1-score   support\n",
      "\n",
      "           0       0.38      0.26      0.31        31\n",
      "           1       0.65      0.80      0.72        69\n",
      "           2       0.20      0.13      0.16        15\n",
      "\n",
      "    accuracy                           0.57       115\n",
      "   macro avg       0.41      0.40      0.40       115\n",
      "weighted avg       0.52      0.57      0.54       115\n",
      "\n",
      "------------------------------------------------------------\n"
     ]
    }
   ],
   "source": [
    "results = train_and_evaluate(models, X_train, y_train, X_val, y_val)"
   ]
  },
  {
   "cell_type": "markdown",
   "metadata": {},
   "source": [
    "The results indicate that all the models perform well in classifying instances of class 1, but they struggle significantly with classes 0 and 2. This consistent high performance on the dominant class (class 1) and poor performance on the minority classes (0 and 2) suggest a potential issue with class imbalance. The models’ inability to generalize well on classes 0 and 2 may indicate overfitting to the majority class. The models have likely learned to predict the dominant class (class 1) effectively but have not learned to differentiate between the minority classes due to insufficient representation in the training data.\n",
    "\n",
    "<br>\n",
    "\n",
    "To address this issue, we will balance the dataset using techniques like SMOTE (Synthetic Minority Over-sampling Technique). Balancing the dataset should help the models learn to identify patterns in the minority classes better, potentially improving their performance on these classes."
   ]
  },
  {
   "cell_type": "code",
   "execution_count": 37,
   "metadata": {},
   "outputs": [
    {
     "data": {
      "image/png": "[encoded data removed]",
      "text/plain": [
       "<Figure size 800x600 with 1 Axes>"
      ]
     },
     "metadata": {},
     "output_type": "display_data"
    }
   ],
   "source": [
    "plt.figure(figsize=(8, 6))\n",
    "sns.countplot(x=y_train)\n",
    "plt.title('Class Distribution')\n",
    "plt.xlabel('Class')\n",
    "plt.ylabel('Count')\n",
    "plt.show()"
   ]
  },
  {
   "cell_type": "code",
   "execution_count": 38,
   "metadata": {},
   "outputs": [],
   "source": [
    "# Applies SMOTE to balance the class distribution in the training data\n",
    "smote = SMOTE(random_state=42)\n",
    "X_train_res, y_train_res = smote.fit_resample(X_train, y_train)"
   ]
  },
  {
   "cell_type": "code",
   "execution_count": 39,
   "metadata": {},
   "outputs": [
    {
     "data": {
      "image/png": "[encoded data removed]",
      "text/plain": [
       "<Figure size 1000x600 with 1 Axes>"
      ]
     },
     "metadata": {},
     "output_type": "display_data"
    }
   ],
   "source": [
    "unique, counts = np.unique(y_train_res, return_counts=True)\n",
    "class_distribution = dict(zip(unique, counts))\n",
    "\n",
    "# Plotting the distribution\n",
    "plt.figure(figsize=(10, 6))\n",
    "sns.barplot(x=list(class_distribution.keys()), y=list(class_distribution.values()))\n",
    "plt.title('Class Distribution After SMOTE')\n",
    "plt.xlabel('Class')\n",
    "plt.ylabel('Frequency')\n",
    "plt.xticks(ticks=[0, 1, 2], labels=['positive', 'negative', 'no_change'])\n",
    "plt.show()\n"
   ]
  },
  {
   "cell_type": "code",
   "execution_count": 40,
   "metadata": {},
   "outputs": [
    {
     "name": "stdout",
     "output_type": "stream",
     "text": [
      "Model: Logistic Regression\n",
      "Accuracy: 0.391304347826087\n",
      "              precision    recall  f1-score   support\n",
      "\n",
      "           0       0.32      0.68      0.44        31\n",
      "           1       0.63      0.32      0.42        69\n",
      "           2       0.13      0.13      0.13        15\n",
      "\n",
      "    accuracy                           0.39       115\n",
      "   macro avg       0.36      0.38      0.33       115\n",
      "weighted avg       0.48      0.39      0.39       115\n",
      "\n",
      "------------------------------------------------------------\n",
      "Model: SVM\n",
      "Accuracy: 0.3826086956521739\n",
      "              precision    recall  f1-score   support\n",
      "\n",
      "           0       0.33      0.84      0.47        31\n",
      "           1       0.94      0.22      0.35        69\n",
      "           2       0.16      0.20      0.18        15\n",
      "\n",
      "    accuracy                           0.38       115\n",
      "   macro avg       0.47      0.42      0.33       115\n",
      "weighted avg       0.67      0.38      0.36       115\n",
      "\n",
      "------------------------------------------------------------\n",
      "Model: Random Forest\n",
      "Accuracy: 0.4260869565217391\n",
      "              precision    recall  f1-score   support\n",
      "\n",
      "           0       0.34      0.71      0.46        31\n",
      "           1       0.71      0.36      0.48        69\n",
      "           2       0.13      0.13      0.13        15\n",
      "\n",
      "    accuracy                           0.43       115\n",
      "   macro avg       0.40      0.40      0.36       115\n",
      "weighted avg       0.54      0.43      0.43       115\n",
      "\n",
      "------------------------------------------------------------\n",
      "Model: Gradient Boosting\n",
      "Accuracy: 0.40869565217391307\n",
      "              precision    recall  f1-score   support\n",
      "\n",
      "           0       0.34      0.71      0.46        31\n",
      "           1       0.70      0.33      0.45        69\n",
      "           2       0.11      0.13      0.12        15\n",
      "\n",
      "    accuracy                           0.41       115\n",
      "   macro avg       0.38      0.39      0.35       115\n",
      "weighted avg       0.53      0.41      0.41       115\n",
      "\n",
      "------------------------------------------------------------\n",
      "Model: Decision Tree\n",
      "Accuracy: 0.43478260869565216\n",
      "              precision    recall  f1-score   support\n",
      "\n",
      "           0       0.33      0.71      0.45        31\n",
      "           1       0.72      0.38      0.50        69\n",
      "           2       0.15      0.13      0.14        15\n",
      "\n",
      "    accuracy                           0.43       115\n",
      "   macro avg       0.40      0.41      0.36       115\n",
      "weighted avg       0.54      0.43      0.44       115\n",
      "\n",
      "------------------------------------------------------------\n",
      "Model: KNN\n",
      "Accuracy: 0.5565217391304348\n",
      "              precision    recall  f1-score   support\n",
      "\n",
      "           0       0.42      0.52      0.46        31\n",
      "           1       0.70      0.67      0.68        69\n",
      "           2       0.18      0.13      0.15        15\n",
      "\n",
      "    accuracy                           0.56       115\n",
      "   macro avg       0.43      0.44      0.43       115\n",
      "weighted avg       0.56      0.56      0.55       115\n",
      "\n",
      "------------------------------------------------------------\n",
      "Model: Naive Bayes\n",
      "Accuracy: 0.4\n",
      "              precision    recall  f1-score   support\n",
      "\n",
      "           0       0.31      0.77      0.44        31\n",
      "           1       0.77      0.29      0.42        69\n",
      "           2       0.17      0.13      0.15        15\n",
      "\n",
      "    accuracy                           0.40       115\n",
      "   macro avg       0.42      0.40      0.34       115\n",
      "weighted avg       0.57      0.40      0.39       115\n",
      "\n",
      "------------------------------------------------------------\n",
      "Model: XGBoost\n",
      "Accuracy: 0.4\n",
      "              precision    recall  f1-score   support\n",
      "\n",
      "           0       0.33      0.68      0.45        31\n",
      "           1       0.72      0.33      0.46        69\n",
      "           2       0.10      0.13      0.11        15\n",
      "\n",
      "    accuracy                           0.40       115\n",
      "   macro avg       0.38      0.38      0.34       115\n",
      "weighted avg       0.53      0.40      0.41       115\n",
      "\n",
      "------------------------------------------------------------\n"
     ]
    }
   ],
   "source": [
    "results = train_and_evaluate(models, X_train_res, y_train_res, X_val, y_val)"
   ]
  },
  {
   "cell_type": "markdown",
   "metadata": {},
   "source": [
    "After applying SMOTE to balance the dataset, we observe a noticeable shift in the performance of the models. Previously, the models primarily focused on classifying the majority class accurately. However, post-SMOTE, the models now attempt to balance the classification across all three classes, resulting in different performance metrics.\n",
    "\n",
    "In general, the accuracy of the models has decreased. This drop in accuracy is expected as the models now face a more balanced but challenging classification task. They are no longer biased towards the majority class and are making predictions across all classes, which was the intended outcome of applying SMOTE.\n",
    "\n",
    "This decrease in overall accuracy and increase in the attempt to classify minority classes indicates that our models are now more balanced. They are not simply predicting the majority class but are also considering the minority classes. This is evident from the precision and recall values for classes 0 and 2, which were previously ignored."
   ]
  },
  {
   "cell_type": "markdown",
   "metadata": {},
   "source": [
    "In this section of the code we identify, train, and evaluate the best-performing machine learning model from the previous step."
   ]
  },
  {
   "cell_type": "code",
   "execution_count": 41,
   "metadata": {},
   "outputs": [],
   "source": [
    "# Find the model with the highest accuracy\n",
    "best_model_name = max(results, key=lambda name: results[name][\"accuracy\"])\n",
    "best_model = models[best_model_name]"
   ]
  },
  {
   "cell_type": "code",
   "execution_count": 42,
   "metadata": {},
   "outputs": [],
   "source": [
    "# Train the best model on the combined training and validation sets\n",
    "X_train_full = np.vstack((X_train, X_val))\n",
    "y_train_full = np.concatenate((y_train, y_val))\n",
    "\n",
    "# Fit the model to the combined training data\n",
    "best_model.fit(X_train_full, y_train_full)\n",
    "\n",
    "# Prediction, accuracy calculation, classification report\n",
    "y_test_pred = best_model.predict(X_test)\n",
    "test_accuracy = accuracy_score(y_test, y_test_pred)\n",
    "test_report = classification_report(y_test, y_test_pred, zero_division=0)"
   ]
  },
  {
   "cell_type": "code",
   "execution_count": 43,
   "metadata": {},
   "outputs": [
    {
     "name": "stdout",
     "output_type": "stream",
     "text": [
      "Best Model: KNN\n",
      "Test Accuracy: 0.6086956521739131\n",
      "              precision    recall  f1-score   support\n",
      "\n",
      "           0       0.31      0.32      0.31        25\n",
      "           1       0.69      0.79      0.74        76\n",
      "           2       1.00      0.14      0.25        14\n",
      "\n",
      "    accuracy                           0.61       115\n",
      "   macro avg       0.67      0.42      0.43       115\n",
      "weighted avg       0.64      0.61      0.59       115\n",
      "\n"
     ]
    }
   ],
   "source": [
    "print(f\"Best Model: {best_model_name}\")\n",
    "print(f\"Test Accuracy: {test_accuracy}\")\n",
    "print(test_report)"
   ]
  },
  {
   "cell_type": "markdown",
   "metadata": {},
   "source": [
    "## Hugging Face"
   ]
  },
  {
   "cell_type": "markdown",
   "metadata": {},
   "source": [
    "We have explored various traditional machine learning algorithms. Despite some success, the models have shown limitations, particularly in handling class imbalances and achieving high performance across all classes.\n",
    "\n",
    "To address these challenges, we turn to advanced natural language processing techniques, leveraging Hugging Face's pre-trained transformer models. These models, such as BERT, are renowned for their state-of-the-art performance in various NLP tasks. By fine-tuning a pre-trained BERT model on our specific dataset, we aim to:\n",
    "\n",
    "1. **Improve Text Understanding:** Transformers are highly effective in capturing the context and semantics of text, which can lead to better sentiment analysis and feature extraction.\n",
    "2. **Handle Class Imbalance:** The pre-trained models have been trained on massive datasets, providing a strong foundation that can be fine-tuned to better handle our imbalanced dataset.\n",
    "3. **Enhance Predictive Accuracy:** By leveraging advanced architectures, we expect to achieve higher accuracy and more balanced performance across all classes.\n",
    "\n",
    "The following sections detail the implementation, training, and evaluation of the Hugging Face model, along with comparisons to the traditional machine learning models."
   ]
  },
  {
   "cell_type": "markdown",
   "metadata": {},
   "source": [
    "This class defines a custom dataset class for use with Hugging Face’s transformer models. By creating a NewsDataset class, we can prepare our data in a format compatible with the transformers library and PyTorch’s data loading utilities, facilitating efficient training and evaluation."
   ]
  },
  {
   "cell_type": "code",
   "execution_count": 44,
   "metadata": {},
   "outputs": [],
   "source": [
    "# Function to create a custom dataset for Hugging Face\n",
    "class NewsDataset(torch.utils.data.Dataset):\n",
    "    def __init__(self, encodings, labels):\n",
    "        self.encodings = encodings\n",
    "        self.labels = labels\n",
    "\n",
    "    def __getitem__(self, idx):\n",
    "        item = {key: torch.tensor(val[idx]) for key, val in self.encodings.items()}\n",
    "        item['labels'] = torch.tensor(self.labels[idx])\n",
    "        return item\n",
    "\n",
    "    def __len__(self):\n",
    "        return len(self.labels)"
   ]
  },
  {
   "cell_type": "code",
   "execution_count": 45,
   "metadata": {},
   "outputs": [],
   "source": [
    "# Tokenization of texts\n",
    "# DistilBertTokenizer from the Hugging Face transformers library is initialized with the pre-trained distilbert-base-uncased model. \n",
    "# The distilbert-base-uncased tokenizer specifically lowercases the text and splits it into subword tokens.\n",
    "tokenizer = DistilBertTokenizer.from_pretrained('distilbert-base-uncased')"
   ]
  },
  {
   "cell_type": "code",
   "execution_count": 46,
   "metadata": {},
   "outputs": [],
   "source": [
    "# Maintain the original indices\n",
    "indices = np.arange(len(merged_df))"
   ]
  },
  {
   "cell_type": "code",
   "execution_count": 47,
   "metadata": {},
   "outputs": [],
   "source": [
    "# Splitting the data as traditional models, retaining indices\n",
    "X_train, X_temp, y_train, y_temp, train_indices, temp_indices = train_test_split(merged_df['cleaned_title'], y, indices, test_size=0.4, random_state=42)\n",
    "X_val, X_test, y_val, y_test, val_indices, test_indices = train_test_split(X_temp, y_temp, temp_indices, test_size=0.5, random_state=42)"
   ]
  },
  {
   "cell_type": "code",
   "execution_count": 48,
   "metadata": {},
   "outputs": [],
   "source": [
    "# Tokenize the data separately for train, val, and test sets\n",
    "encodings_train = tokenizer(list(X_train), truncation=True, padding=True)\n",
    "encodings_val = tokenizer(list(X_val), truncation=True, padding=True)\n",
    "encodings_test = tokenizer(list(X_test), truncation=True, padding=True)"
   ]
  },
  {
   "cell_type": "code",
   "execution_count": 49,
   "metadata": {},
   "outputs": [],
   "source": [
    "# Create datasets\n",
    "train_dataset = NewsDataset(encodings_train, y_train)\n",
    "val_dataset = NewsDataset(encodings_val, y_val)\n",
    "test_dataset = NewsDataset(encodings_test, y_test)"
   ]
  },
  {
   "cell_type": "code",
   "execution_count": 50,
   "metadata": {},
   "outputs": [
    {
     "name": "stderr",
     "output_type": "stream",
     "text": [
      "Some weights of DistilBertForSequenceClassification were not initialized from the model checkpoint at distilbert-base-uncased and are newly initialized: ['classifier.bias', 'classifier.weight', 'pre_classifier.bias', 'pre_classifier.weight']\n",
      "You should probably TRAIN this model on a down-stream task to be able to use it for predictions and inference.\n"
     ]
    }
   ],
   "source": [
    "# Load the DistilBertForSequenceClassification pre-trained model\n",
    "model = DistilBertForSequenceClassification.from_pretrained('distilbert-base-uncased', num_labels=3)"
   ]
  },
  {
   "cell_type": "code",
   "execution_count": 51,
   "metadata": {},
   "outputs": [
    {
     "name": "stderr",
     "output_type": "stream",
     "text": [
      "/Users/luca/Documents/Polimi/Machine Learning/Finance-Text-Mining/fvenv/lib/python3.12/site-packages/transformers/training_args.py:1474: FutureWarning: `evaluation_strategy` is deprecated and will be removed in version 4.46 of 🤗 Transformers. Use `eval_strategy` instead\n",
      "  warnings.warn(\n"
     ]
    }
   ],
   "source": [
    "# Training settings\n",
    "training_args = TrainingArguments(\n",
    "    output_dir='./results',\n",
    "    num_train_epochs=50,                # Number of training epochs\n",
    "    per_device_train_batch_size=32,     # Batch size for training\n",
    "    per_device_eval_batch_size=32,      # Batch size for evaluation\n",
    "    warmup_steps=500,                   # Number of warmup steps for learning rate scheduler\n",
    "    weight_decay=0.01,\n",
    "    logging_dir='./logs',\n",
    "    logging_steps=10,\n",
    "    evaluation_strategy=\"epoch\"\n",
    ")"
   ]
  },
  {
   "cell_type": "code",
   "execution_count": 52,
   "metadata": {},
   "outputs": [],
   "source": [
    "# Creation of the trainer\n",
    "trainer = Trainer(\n",
    "    model=model,\n",
    "    args=training_args,\n",
    "    train_dataset=train_dataset,\n",
    "    eval_dataset=val_dataset\n",
    ")\n"
   ]
  },
  {
   "cell_type": "code",
   "execution_count": 53,
   "metadata": {},
   "outputs": [
    {
     "name": "stderr",
     "output_type": "stream",
     "text": [
      "  2%|▏         | 10/550 [00:01<00:50, 10.72it/s]"
     ]
    },
    {
     "name": "stdout",
     "output_type": "stream",
     "text": [
      "{'loss': 1.0362, 'grad_norm': 2.0589306354522705, 'learning_rate': 1.0000000000000002e-06, 'epoch': 0.91}\n"
     ]
    },
    {
     "name": "stderr",
     "output_type": "stream",
     "text": [
      "                                                \n",
      "  2%|▏         | 12/550 [00:01<01:15,  7.16it/s]"
     ]
    },
    {
     "name": "stdout",
     "output_type": "stream",
     "text": [
      "{'eval_loss': 1.0380547046661377, 'eval_runtime': 0.1612, 'eval_samples_per_second': 713.391, 'eval_steps_per_second': 24.814, 'epoch': 1.0}\n"
     ]
    },
    {
     "name": "stderr",
     "output_type": "stream",
     "text": [
      "  4%|▍         | 22/550 [00:02<00:45, 11.69it/s]"
     ]
    },
    {
     "name": "stdout",
     "output_type": "stream",
     "text": [
      "{'loss': 1.0166, 'grad_norm': 2.1089935302734375, 'learning_rate': 2.0000000000000003e-06, 'epoch': 1.82}\n"
     ]
    },
    {
     "name": "stderr",
     "output_type": "stream",
     "text": [
      "                                                \n",
      "  4%|▍         | 24/550 [00:02<00:48, 10.80it/s]"
     ]
    },
    {
     "name": "stdout",
     "output_type": "stream",
     "text": [
      "{'eval_loss': 1.0227184295654297, 'eval_runtime': 0.0596, 'eval_samples_per_second': 1930.268, 'eval_steps_per_second': 67.14, 'epoch': 2.0}\n"
     ]
    },
    {
     "name": "stderr",
     "output_type": "stream",
     "text": [
      "  6%|▌         | 32/550 [00:03<00:41, 12.34it/s]"
     ]
    },
    {
     "name": "stdout",
     "output_type": "stream",
     "text": [
      "{'loss': 0.9982, 'grad_norm': 2.461073398590088, 'learning_rate': 3e-06, 'epoch': 2.73}\n"
     ]
    },
    {
     "name": "stderr",
     "output_type": "stream",
     "text": [
      "                                                \n",
      "  6%|▌         | 34/550 [00:03<00:44, 11.51it/s]"
     ]
    },
    {
     "name": "stdout",
     "output_type": "stream",
     "text": [
      "{'eval_loss': 0.9965581893920898, 'eval_runtime': 0.0573, 'eval_samples_per_second': 2007.788, 'eval_steps_per_second': 69.836, 'epoch': 3.0}\n"
     ]
    },
    {
     "name": "stderr",
     "output_type": "stream",
     "text": [
      "  8%|▊         | 42/550 [00:04<00:40, 12.49it/s]"
     ]
    },
    {
     "name": "stdout",
     "output_type": "stream",
     "text": [
      "{'loss': 0.964, 'grad_norm': 2.2259647846221924, 'learning_rate': 4.000000000000001e-06, 'epoch': 3.64}\n"
     ]
    },
    {
     "name": "stderr",
     "output_type": "stream",
     "text": [
      "                                                \n",
      "  8%|▊         | 46/550 [00:04<00:44, 11.42it/s]"
     ]
    },
    {
     "name": "stdout",
     "output_type": "stream",
     "text": [
      "{'eval_loss': 0.961647629737854, 'eval_runtime': 0.0595, 'eval_samples_per_second': 1934.27, 'eval_steps_per_second': 67.279, 'epoch': 4.0}\n"
     ]
    },
    {
     "name": "stderr",
     "output_type": "stream",
     "text": [
      "  9%|▉         | 52/550 [00:04<00:40, 12.42it/s]"
     ]
    },
    {
     "name": "stdout",
     "output_type": "stream",
     "text": [
      "{'loss': 0.937, 'grad_norm': 1.5152033567428589, 'learning_rate': 5e-06, 'epoch': 4.55}\n"
     ]
    },
    {
     "name": "stderr",
     "output_type": "stream",
     "text": [
      "                                                \n",
      " 10%|█         | 56/550 [00:05<00:42, 11.65it/s]"
     ]
    },
    {
     "name": "stdout",
     "output_type": "stream",
     "text": [
      "{'eval_loss': 0.9345009922981262, 'eval_runtime': 0.0572, 'eval_samples_per_second': 2010.986, 'eval_steps_per_second': 69.947, 'epoch': 5.0}\n"
     ]
    },
    {
     "name": "stderr",
     "output_type": "stream",
     "text": [
      " 11%|█▏        | 62/550 [00:05<00:39, 12.48it/s]"
     ]
    },
    {
     "name": "stdout",
     "output_type": "stream",
     "text": [
      "{'loss': 0.866, 'grad_norm': 1.794201374053955, 'learning_rate': 6e-06, 'epoch': 5.45}\n"
     ]
    },
    {
     "name": "stderr",
     "output_type": "stream",
     "text": [
      "                                                \n",
      " 12%|█▏        | 68/550 [00:06<00:41, 11.64it/s]"
     ]
    },
    {
     "name": "stdout",
     "output_type": "stream",
     "text": [
      "{'eval_loss': 0.9407655596733093, 'eval_runtime': 0.058, 'eval_samples_per_second': 1981.054, 'eval_steps_per_second': 68.906, 'epoch': 6.0}\n"
     ]
    },
    {
     "name": "stderr",
     "output_type": "stream",
     "text": [
      " 13%|█▎        | 72/550 [00:06<00:38, 12.32it/s]"
     ]
    },
    {
     "name": "stdout",
     "output_type": "stream",
     "text": [
      "{'loss': 0.8673, 'grad_norm': 1.2429654598236084, 'learning_rate': 7.000000000000001e-06, 'epoch': 6.36}\n"
     ]
    },
    {
     "name": "stderr",
     "output_type": "stream",
     "text": [
      "                                                \n",
      " 14%|█▍        | 78/550 [00:07<00:41, 11.36it/s]"
     ]
    },
    {
     "name": "stdout",
     "output_type": "stream",
     "text": [
      "{'eval_loss': 0.9355584979057312, 'eval_runtime': 0.0591, 'eval_samples_per_second': 1946.156, 'eval_steps_per_second': 67.692, 'epoch': 7.0}\n"
     ]
    },
    {
     "name": "stderr",
     "output_type": "stream",
     "text": [
      " 15%|█▍        | 82/550 [00:07<00:39, 11.99it/s]"
     ]
    },
    {
     "name": "stdout",
     "output_type": "stream",
     "text": [
      "{'loss': 0.8342, 'grad_norm': 1.5873005390167236, 'learning_rate': 8.000000000000001e-06, 'epoch': 7.27}\n"
     ]
    },
    {
     "name": "stderr",
     "output_type": "stream",
     "text": [
      "                                                \n",
      " 16%|█▋        | 90/550 [00:08<00:40, 11.40it/s]"
     ]
    },
    {
     "name": "stdout",
     "output_type": "stream",
     "text": [
      "{'eval_loss': 0.9227938652038574, 'eval_runtime': 0.0583, 'eval_samples_per_second': 1972.628, 'eval_steps_per_second': 68.613, 'epoch': 8.0}\n",
      "{'loss': 0.8017, 'grad_norm': 1.9429409503936768, 'learning_rate': 9e-06, 'epoch': 8.18}\n"
     ]
    },
    {
     "name": "stderr",
     "output_type": "stream",
     "text": [
      "                                                \n",
      " 18%|█▊        | 100/550 [00:08<00:39, 11.40it/s]"
     ]
    },
    {
     "name": "stdout",
     "output_type": "stream",
     "text": [
      "{'eval_loss': 0.9221950769424438, 'eval_runtime': 0.059, 'eval_samples_per_second': 1949.325, 'eval_steps_per_second': 67.803, 'epoch': 9.0}\n",
      "{'loss': 0.7848, 'grad_norm': 1.596143364906311, 'learning_rate': 1e-05, 'epoch': 9.09}\n"
     ]
    },
    {
     "name": "stderr",
     "output_type": "stream",
     "text": [
      " 20%|██        | 110/550 [00:09<00:33, 13.02it/s]"
     ]
    },
    {
     "name": "stdout",
     "output_type": "stream",
     "text": [
      "{'loss': 0.7641, 'grad_norm': 2.6476430892944336, 'learning_rate': 1.1000000000000001e-05, 'epoch': 10.0}\n"
     ]
    },
    {
     "name": "stderr",
     "output_type": "stream",
     "text": [
      "                                                 \n",
      " 20%|██        | 110/550 [00:09<00:33, 13.02it/s]"
     ]
    },
    {
     "name": "stdout",
     "output_type": "stream",
     "text": [
      "{'eval_loss': 0.9100677371025085, 'eval_runtime': 0.0591, 'eval_samples_per_second': 1946.745, 'eval_steps_per_second': 67.713, 'epoch': 10.0}\n"
     ]
    },
    {
     "name": "stderr",
     "output_type": "stream",
     "text": [
      " 22%|██▏       | 120/550 [00:10<00:33, 12.68it/s]"
     ]
    },
    {
     "name": "stdout",
     "output_type": "stream",
     "text": [
      "{'loss': 0.6976, 'grad_norm': 2.137207508087158, 'learning_rate': 1.2e-05, 'epoch': 10.91}\n"
     ]
    },
    {
     "name": "stderr",
     "output_type": "stream",
     "text": [
      "                                                 \n",
      " 22%|██▏       | 121/550 [00:10<00:33, 12.68it/s]"
     ]
    },
    {
     "name": "stdout",
     "output_type": "stream",
     "text": [
      "{'eval_loss': 0.9290982484817505, 'eval_runtime': 0.0585, 'eval_samples_per_second': 1965.41, 'eval_steps_per_second': 68.362, 'epoch': 11.0}\n"
     ]
    },
    {
     "name": "stderr",
     "output_type": "stream",
     "text": [
      " 24%|██▍       | 132/550 [00:11<00:32, 12.90it/s]"
     ]
    },
    {
     "name": "stdout",
     "output_type": "stream",
     "text": [
      "{'loss': 0.6393, 'grad_norm': 2.5977771282196045, 'learning_rate': 1.3000000000000001e-05, 'epoch': 11.82}\n"
     ]
    },
    {
     "name": "stderr",
     "output_type": "stream",
     "text": [
      "                                                 \n",
      " 24%|██▍       | 134/550 [00:11<00:36, 11.45it/s]"
     ]
    },
    {
     "name": "stdout",
     "output_type": "stream",
     "text": [
      "{'eval_loss': 0.8995087742805481, 'eval_runtime': 0.0583, 'eval_samples_per_second': 1972.959, 'eval_steps_per_second': 68.625, 'epoch': 12.0}\n"
     ]
    },
    {
     "name": "stderr",
     "output_type": "stream",
     "text": [
      " 26%|██▌       | 142/550 [00:12<00:32, 12.41it/s]"
     ]
    },
    {
     "name": "stdout",
     "output_type": "stream",
     "text": [
      "{'loss': 0.5702, 'grad_norm': 3.178896903991699, 'learning_rate': 1.4000000000000001e-05, 'epoch': 12.73}\n"
     ]
    },
    {
     "name": "stderr",
     "output_type": "stream",
     "text": [
      "                                                 \n",
      " 26%|██▌       | 144/550 [00:12<00:35, 11.41it/s]"
     ]
    },
    {
     "name": "stdout",
     "output_type": "stream",
     "text": [
      "{'eval_loss': 0.9687836766242981, 'eval_runtime': 0.059, 'eval_samples_per_second': 1948.16, 'eval_steps_per_second': 67.762, 'epoch': 13.0}\n"
     ]
    },
    {
     "name": "stderr",
     "output_type": "stream",
     "text": [
      " 28%|██▊       | 152/550 [00:13<00:32, 12.37it/s]"
     ]
    },
    {
     "name": "stdout",
     "output_type": "stream",
     "text": [
      "{'loss': 0.5038, 'grad_norm': 2.7937748432159424, 'learning_rate': 1.5e-05, 'epoch': 13.64}\n"
     ]
    },
    {
     "name": "stderr",
     "output_type": "stream",
     "text": [
      "                                                 \n",
      " 28%|██▊       | 156/550 [00:13<00:34, 11.32it/s]"
     ]
    },
    {
     "name": "stdout",
     "output_type": "stream",
     "text": [
      "{'eval_loss': 0.9994358420372009, 'eval_runtime': 0.0595, 'eval_samples_per_second': 1931.992, 'eval_steps_per_second': 67.2, 'epoch': 14.0}\n"
     ]
    },
    {
     "name": "stderr",
     "output_type": "stream",
     "text": [
      " 29%|██▉       | 162/550 [00:14<00:31, 12.26it/s]"
     ]
    },
    {
     "name": "stdout",
     "output_type": "stream",
     "text": [
      "{'loss': 0.4118, 'grad_norm': 3.4783313274383545, 'learning_rate': 1.6000000000000003e-05, 'epoch': 14.55}\n"
     ]
    },
    {
     "name": "stderr",
     "output_type": "stream",
     "text": [
      "                                                 \n",
      " 30%|███       | 166/550 [00:14<00:33, 11.37it/s]"
     ]
    },
    {
     "name": "stdout",
     "output_type": "stream",
     "text": [
      "{'eval_loss': 1.0233484506607056, 'eval_runtime': 0.0598, 'eval_samples_per_second': 1923.785, 'eval_steps_per_second': 66.914, 'epoch': 15.0}\n"
     ]
    },
    {
     "name": "stderr",
     "output_type": "stream",
     "text": [
      " 31%|███▏      | 172/550 [00:14<00:30, 12.41it/s]"
     ]
    },
    {
     "name": "stdout",
     "output_type": "stream",
     "text": [
      "{'loss': 0.3106, 'grad_norm': 2.657667875289917, 'learning_rate': 1.7000000000000003e-05, 'epoch': 15.45}\n"
     ]
    },
    {
     "name": "stderr",
     "output_type": "stream",
     "text": [
      "                                                 \n",
      " 32%|███▏      | 178/550 [00:15<00:31, 11.63it/s]"
     ]
    },
    {
     "name": "stdout",
     "output_type": "stream",
     "text": [
      "{'eval_loss': 1.2080976963043213, 'eval_runtime': 0.0591, 'eval_samples_per_second': 1946.541, 'eval_steps_per_second': 67.706, 'epoch': 16.0}\n"
     ]
    },
    {
     "name": "stderr",
     "output_type": "stream",
     "text": [
      " 33%|███▎      | 182/550 [00:15<00:29, 12.34it/s]"
     ]
    },
    {
     "name": "stdout",
     "output_type": "stream",
     "text": [
      "{'loss': 0.2906, 'grad_norm': 2.2220852375030518, 'learning_rate': 1.8e-05, 'epoch': 16.36}\n"
     ]
    },
    {
     "name": "stderr",
     "output_type": "stream",
     "text": [
      "                                                 \n",
      " 34%|███▍      | 188/550 [00:16<00:30, 11.68it/s]"
     ]
    },
    {
     "name": "stdout",
     "output_type": "stream",
     "text": [
      "{'eval_loss': 1.3136067390441895, 'eval_runtime': 0.0597, 'eval_samples_per_second': 1925.59, 'eval_steps_per_second': 66.977, 'epoch': 17.0}\n"
     ]
    },
    {
     "name": "stderr",
     "output_type": "stream",
     "text": [
      " 35%|███▍      | 192/550 [00:16<00:29, 12.31it/s]"
     ]
    },
    {
     "name": "stdout",
     "output_type": "stream",
     "text": [
      "{'loss': 0.2232, 'grad_norm': 5.17897367477417, 'learning_rate': 1.9e-05, 'epoch': 17.27}\n"
     ]
    },
    {
     "name": "stderr",
     "output_type": "stream",
     "text": [
      "                                                 \n",
      " 36%|███▋      | 200/550 [00:17<00:29, 11.68it/s]"
     ]
    },
    {
     "name": "stdout",
     "output_type": "stream",
     "text": [
      "{'eval_loss': 1.2291339635849, 'eval_runtime': 0.0582, 'eval_samples_per_second': 1976.994, 'eval_steps_per_second': 68.765, 'epoch': 18.0}\n",
      "{'loss': 0.1621, 'grad_norm': 4.752987384796143, 'learning_rate': 2e-05, 'epoch': 18.18}\n"
     ]
    },
    {
     "name": "stderr",
     "output_type": "stream",
     "text": [
      "                                                 \n",
      " 38%|███▊      | 210/550 [00:17<00:28, 11.74it/s]"
     ]
    },
    {
     "name": "stdout",
     "output_type": "stream",
     "text": [
      "{'eval_loss': 1.422393798828125, 'eval_runtime': 0.058, 'eval_samples_per_second': 1981.192, 'eval_steps_per_second': 68.911, 'epoch': 19.0}\n",
      "{'loss': 0.1917, 'grad_norm': 10.450397491455078, 'learning_rate': 2.1e-05, 'epoch': 19.09}\n"
     ]
    },
    {
     "name": "stderr",
     "output_type": "stream",
     "text": [
      " 40%|████      | 220/550 [00:18<00:25, 13.19it/s]"
     ]
    },
    {
     "name": "stdout",
     "output_type": "stream",
     "text": [
      "{'loss': 0.1376, 'grad_norm': 1.4135565757751465, 'learning_rate': 2.2000000000000003e-05, 'epoch': 20.0}\n"
     ]
    },
    {
     "name": "stderr",
     "output_type": "stream",
     "text": [
      "                                                 \n",
      " 40%|████      | 220/550 [00:18<00:25, 13.19it/s]"
     ]
    },
    {
     "name": "stdout",
     "output_type": "stream",
     "text": [
      "{'eval_loss': 1.417514443397522, 'eval_runtime': 0.0588, 'eval_samples_per_second': 1956.005, 'eval_steps_per_second': 68.035, 'epoch': 20.0}\n"
     ]
    },
    {
     "name": "stderr",
     "output_type": "stream",
     "text": [
      " 42%|████▏     | 230/550 [00:19<00:25, 12.69it/s]"
     ]
    },
    {
     "name": "stdout",
     "output_type": "stream",
     "text": [
      "{'loss': 0.1462, 'grad_norm': 5.931599140167236, 'learning_rate': 2.3000000000000003e-05, 'epoch': 20.91}\n"
     ]
    },
    {
     "name": "stderr",
     "output_type": "stream",
     "text": [
      "                                                 \n",
      " 42%|████▏     | 231/550 [00:19<00:25, 12.69it/s]"
     ]
    },
    {
     "name": "stdout",
     "output_type": "stream",
     "text": [
      "{'eval_loss': 1.4155991077423096, 'eval_runtime': 0.0586, 'eval_samples_per_second': 1961.023, 'eval_steps_per_second': 68.209, 'epoch': 21.0}\n"
     ]
    },
    {
     "name": "stderr",
     "output_type": "stream",
     "text": [
      " 44%|████▍     | 242/550 [00:20<00:23, 12.87it/s]"
     ]
    },
    {
     "name": "stdout",
     "output_type": "stream",
     "text": [
      "{'loss': 0.1338, 'grad_norm': 6.1161394119262695, 'learning_rate': 2.4e-05, 'epoch': 21.82}\n"
     ]
    },
    {
     "name": "stderr",
     "output_type": "stream",
     "text": [
      "                                                 \n",
      " 44%|████▍     | 244/550 [00:20<00:26, 11.47it/s]"
     ]
    },
    {
     "name": "stdout",
     "output_type": "stream",
     "text": [
      "{'eval_loss': 1.4503660202026367, 'eval_runtime': 0.0592, 'eval_samples_per_second': 1941.581, 'eval_steps_per_second': 67.533, 'epoch': 22.0}\n"
     ]
    },
    {
     "name": "stderr",
     "output_type": "stream",
     "text": [
      " 46%|████▌     | 252/550 [00:21<00:23, 12.43it/s]"
     ]
    },
    {
     "name": "stdout",
     "output_type": "stream",
     "text": [
      "{'loss': 0.1048, 'grad_norm': 5.400962829589844, 'learning_rate': 2.5e-05, 'epoch': 22.73}\n"
     ]
    },
    {
     "name": "stderr",
     "output_type": "stream",
     "text": [
      "                                                 \n",
      " 46%|████▌     | 254/550 [00:21<00:25, 11.44it/s]"
     ]
    },
    {
     "name": "stdout",
     "output_type": "stream",
     "text": [
      "{'eval_loss': 1.546448826789856, 'eval_runtime': 0.0594, 'eval_samples_per_second': 1935.403, 'eval_steps_per_second': 67.318, 'epoch': 23.0}\n"
     ]
    },
    {
     "name": "stderr",
     "output_type": "stream",
     "text": [
      " 48%|████▊     | 262/550 [00:22<00:23, 12.47it/s]"
     ]
    },
    {
     "name": "stdout",
     "output_type": "stream",
     "text": [
      "{'loss': 0.0849, 'grad_norm': 9.720220565795898, 'learning_rate': 2.6000000000000002e-05, 'epoch': 23.64}\n"
     ]
    },
    {
     "name": "stderr",
     "output_type": "stream",
     "text": [
      "                                                 \n",
      " 48%|████▊     | 266/550 [00:22<00:24, 11.49it/s]"
     ]
    },
    {
     "name": "stdout",
     "output_type": "stream",
     "text": [
      "{'eval_loss': 1.7694200277328491, 'eval_runtime': 0.0587, 'eval_samples_per_second': 1959.613, 'eval_steps_per_second': 68.16, 'epoch': 24.0}\n"
     ]
    },
    {
     "name": "stderr",
     "output_type": "stream",
     "text": [
      " 49%|████▉     | 272/550 [00:23<00:22, 12.25it/s]"
     ]
    },
    {
     "name": "stdout",
     "output_type": "stream",
     "text": [
      "{'loss': 0.0941, 'grad_norm': 2.3999223709106445, 'learning_rate': 2.7000000000000002e-05, 'epoch': 24.55}\n"
     ]
    },
    {
     "name": "stderr",
     "output_type": "stream",
     "text": [
      "                                                 \n",
      " 50%|█████     | 276/550 [00:23<00:24, 11.40it/s]"
     ]
    },
    {
     "name": "stdout",
     "output_type": "stream",
     "text": [
      "{'eval_loss': 1.6189297437667847, 'eval_runtime': 0.0602, 'eval_samples_per_second': 1911.246, 'eval_steps_per_second': 66.478, 'epoch': 25.0}\n"
     ]
    },
    {
     "name": "stderr",
     "output_type": "stream",
     "text": [
      " 51%|█████▏    | 282/550 [00:23<00:21, 12.24it/s]"
     ]
    },
    {
     "name": "stdout",
     "output_type": "stream",
     "text": [
      "{'loss': 0.1054, 'grad_norm': 4.624490261077881, 'learning_rate': 2.8000000000000003e-05, 'epoch': 25.45}\n"
     ]
    },
    {
     "name": "stderr",
     "output_type": "stream",
     "text": [
      "                                                 \n",
      " 52%|█████▏    | 288/550 [00:24<00:22, 11.44it/s]"
     ]
    },
    {
     "name": "stdout",
     "output_type": "stream",
     "text": [
      "{'eval_loss': 1.8242720365524292, 'eval_runtime': 0.0592, 'eval_samples_per_second': 1944.077, 'eval_steps_per_second': 67.62, 'epoch': 26.0}\n"
     ]
    },
    {
     "name": "stderr",
     "output_type": "stream",
     "text": [
      " 53%|█████▎    | 292/550 [00:24<00:21, 12.03it/s]"
     ]
    },
    {
     "name": "stdout",
     "output_type": "stream",
     "text": [
      "{'loss': 0.0547, 'grad_norm': 0.35545599460601807, 'learning_rate': 2.9e-05, 'epoch': 26.36}\n"
     ]
    },
    {
     "name": "stderr",
     "output_type": "stream",
     "text": [
      "                                                 \n",
      " 54%|█████▍    | 298/550 [00:25<00:21, 11.46it/s]"
     ]
    },
    {
     "name": "stdout",
     "output_type": "stream",
     "text": [
      "{'eval_loss': 1.8479989767074585, 'eval_runtime': 0.0585, 'eval_samples_per_second': 1964.433, 'eval_steps_per_second': 68.328, 'epoch': 27.0}\n"
     ]
    },
    {
     "name": "stderr",
     "output_type": "stream",
     "text": [
      " 55%|█████▍    | 302/550 [00:25<00:20, 12.23it/s]"
     ]
    },
    {
     "name": "stdout",
     "output_type": "stream",
     "text": [
      "{'loss': 0.0755, 'grad_norm': 0.9978955984115601, 'learning_rate': 3e-05, 'epoch': 27.27}\n"
     ]
    },
    {
     "name": "stderr",
     "output_type": "stream",
     "text": [
      "                                                 \n",
      " 56%|█████▋    | 310/550 [00:26<00:20, 11.72it/s]"
     ]
    },
    {
     "name": "stdout",
     "output_type": "stream",
     "text": [
      "{'eval_loss': 2.1266422271728516, 'eval_runtime': 0.0586, 'eval_samples_per_second': 1961.589, 'eval_steps_per_second': 68.229, 'epoch': 28.0}\n",
      "{'loss': 0.0886, 'grad_norm': 0.6019896268844604, 'learning_rate': 3.1e-05, 'epoch': 28.18}\n"
     ]
    },
    {
     "name": "stderr",
     "output_type": "stream",
     "text": [
      "                                                 \n",
      " 58%|█████▊    | 320/550 [00:27<00:19, 11.71it/s]"
     ]
    },
    {
     "name": "stdout",
     "output_type": "stream",
     "text": [
      "{'eval_loss': 1.8824087381362915, 'eval_runtime': 0.0583, 'eval_samples_per_second': 1973.879, 'eval_steps_per_second': 68.657, 'epoch': 29.0}\n",
      "{'loss': 0.0665, 'grad_norm': 0.7010514736175537, 'learning_rate': 3.2000000000000005e-05, 'epoch': 29.09}\n"
     ]
    },
    {
     "name": "stderr",
     "output_type": "stream",
     "text": [
      " 60%|██████    | 330/550 [00:27<00:16, 13.19it/s]"
     ]
    },
    {
     "name": "stdout",
     "output_type": "stream",
     "text": [
      "{'loss': 0.0654, 'grad_norm': 1.0700225830078125, 'learning_rate': 3.3e-05, 'epoch': 30.0}\n"
     ]
    },
    {
     "name": "stderr",
     "output_type": "stream",
     "text": [
      "                                                 \n",
      " 60%|██████    | 330/550 [00:27<00:16, 13.19it/s]"
     ]
    },
    {
     "name": "stdout",
     "output_type": "stream",
     "text": [
      "{'eval_loss': 2.0000722408294678, 'eval_runtime': 0.0584, 'eval_samples_per_second': 1968.739, 'eval_steps_per_second': 68.478, 'epoch': 30.0}\n"
     ]
    },
    {
     "name": "stderr",
     "output_type": "stream",
     "text": [
      " 62%|██████▏   | 340/550 [00:28<00:16, 12.74it/s]"
     ]
    },
    {
     "name": "stdout",
     "output_type": "stream",
     "text": [
      "{'loss': 0.0693, 'grad_norm': 2.396963596343994, 'learning_rate': 3.4000000000000007e-05, 'epoch': 30.91}\n"
     ]
    },
    {
     "name": "stderr",
     "output_type": "stream",
     "text": [
      "                                                 \n",
      " 62%|██████▏   | 341/550 [00:28<00:16, 12.74it/s]"
     ]
    },
    {
     "name": "stdout",
     "output_type": "stream",
     "text": [
      "{'eval_loss': 2.032841920852661, 'eval_runtime': 0.0593, 'eval_samples_per_second': 1940.308, 'eval_steps_per_second': 67.489, 'epoch': 31.0}\n"
     ]
    },
    {
     "name": "stderr",
     "output_type": "stream",
     "text": [
      " 64%|██████▍   | 352/550 [00:29<00:15, 12.88it/s]"
     ]
    },
    {
     "name": "stdout",
     "output_type": "stream",
     "text": [
      "{'loss': 0.0606, 'grad_norm': 0.5206794142723083, 'learning_rate': 3.5e-05, 'epoch': 31.82}\n"
     ]
    },
    {
     "name": "stderr",
     "output_type": "stream",
     "text": [
      "                                                 \n",
      " 64%|██████▍   | 354/550 [00:29<00:17, 11.50it/s]"
     ]
    },
    {
     "name": "stdout",
     "output_type": "stream",
     "text": [
      "{'eval_loss': 1.9805001020431519, 'eval_runtime': 0.0594, 'eval_samples_per_second': 1937.556, 'eval_steps_per_second': 67.393, 'epoch': 32.0}\n"
     ]
    },
    {
     "name": "stderr",
     "output_type": "stream",
     "text": [
      " 66%|██████▌   | 362/550 [00:30<00:15, 12.37it/s]"
     ]
    },
    {
     "name": "stdout",
     "output_type": "stream",
     "text": [
      "{'loss': 0.0512, 'grad_norm': 1.0374704599380493, 'learning_rate': 3.6e-05, 'epoch': 32.73}\n"
     ]
    },
    {
     "name": "stderr",
     "output_type": "stream",
     "text": [
      "                                                 \n",
      " 66%|██████▌   | 364/550 [00:30<00:16, 11.41it/s]"
     ]
    },
    {
     "name": "stdout",
     "output_type": "stream",
     "text": [
      "{'eval_loss': 2.103242874145508, 'eval_runtime': 0.0588, 'eval_samples_per_second': 1955.315, 'eval_steps_per_second': 68.011, 'epoch': 33.0}\n"
     ]
    },
    {
     "name": "stderr",
     "output_type": "stream",
     "text": [
      " 68%|██████▊   | 372/550 [00:31<00:14, 12.44it/s]"
     ]
    },
    {
     "name": "stdout",
     "output_type": "stream",
     "text": [
      "{'loss': 0.0328, 'grad_norm': 0.5127098560333252, 'learning_rate': 3.7e-05, 'epoch': 33.64}\n"
     ]
    },
    {
     "name": "stderr",
     "output_type": "stream",
     "text": [
      "                                                 \n",
      " 68%|██████▊   | 376/550 [00:31<00:15, 11.38it/s]"
     ]
    },
    {
     "name": "stdout",
     "output_type": "stream",
     "text": [
      "{'eval_loss': 2.194519519805908, 'eval_runtime': 0.0603, 'eval_samples_per_second': 1906.087, 'eval_steps_per_second': 66.299, 'epoch': 34.0}\n"
     ]
    },
    {
     "name": "stderr",
     "output_type": "stream",
     "text": [
      " 69%|██████▉   | 382/550 [00:32<00:13, 12.29it/s]"
     ]
    },
    {
     "name": "stdout",
     "output_type": "stream",
     "text": [
      "{'loss': 0.067, 'grad_norm': 1.6976248025894165, 'learning_rate': 3.8e-05, 'epoch': 34.55}\n"
     ]
    },
    {
     "name": "stderr",
     "output_type": "stream",
     "text": [
      "                                                 \n",
      " 70%|███████   | 386/550 [00:32<00:14, 11.41it/s]"
     ]
    },
    {
     "name": "stdout",
     "output_type": "stream",
     "text": [
      "{'eval_loss': 2.256840229034424, 'eval_runtime': 0.0594, 'eval_samples_per_second': 1934.821, 'eval_steps_per_second': 67.298, 'epoch': 35.0}\n"
     ]
    },
    {
     "name": "stderr",
     "output_type": "stream",
     "text": [
      " 71%|███████▏  | 392/550 [00:32<00:12, 12.28it/s]"
     ]
    },
    {
     "name": "stdout",
     "output_type": "stream",
     "text": [
      "{'loss': 0.0593, 'grad_norm': 0.8918898701667786, 'learning_rate': 3.9000000000000006e-05, 'epoch': 35.45}\n"
     ]
    },
    {
     "name": "stderr",
     "output_type": "stream",
     "text": [
      "                                                 \n",
      " 72%|███████▏  | 398/550 [00:33<00:13, 11.40it/s]"
     ]
    },
    {
     "name": "stdout",
     "output_type": "stream",
     "text": [
      "{'eval_loss': 2.239938735961914, 'eval_runtime': 0.0588, 'eval_samples_per_second': 1956.243, 'eval_steps_per_second': 68.043, 'epoch': 36.0}\n"
     ]
    },
    {
     "name": "stderr",
     "output_type": "stream",
     "text": [
      " 73%|███████▎  | 402/550 [00:33<00:12, 12.01it/s]"
     ]
    },
    {
     "name": "stdout",
     "output_type": "stream",
     "text": [
      "{'loss': 0.0456, 'grad_norm': 0.9342080354690552, 'learning_rate': 4e-05, 'epoch': 36.36}\n"
     ]
    },
    {
     "name": "stderr",
     "output_type": "stream",
     "text": [
      "                                                 \n",
      " 74%|███████▍  | 408/550 [00:34<00:12, 11.57it/s]"
     ]
    },
    {
     "name": "stdout",
     "output_type": "stream",
     "text": [
      "{'eval_loss': 2.286053419113159, 'eval_runtime': 0.0583, 'eval_samples_per_second': 1973.54, 'eval_steps_per_second': 68.645, 'epoch': 37.0}\n"
     ]
    },
    {
     "name": "stderr",
     "output_type": "stream",
     "text": [
      " 75%|███████▍  | 412/550 [00:34<00:11, 12.30it/s]"
     ]
    },
    {
     "name": "stdout",
     "output_type": "stream",
     "text": [
      "{'loss': 0.0513, 'grad_norm': 1.6552278995513916, 'learning_rate': 4.1e-05, 'epoch': 37.27}\n"
     ]
    },
    {
     "name": "stderr",
     "output_type": "stream",
     "text": [
      "                                                 \n",
      " 76%|███████▋  | 420/550 [00:35<00:11, 11.57it/s]"
     ]
    },
    {
     "name": "stdout",
     "output_type": "stream",
     "text": [
      "{'eval_loss': 2.294956684112549, 'eval_runtime': 0.0596, 'eval_samples_per_second': 1931.149, 'eval_steps_per_second': 67.17, 'epoch': 38.0}\n",
      "{'loss': 0.044, 'grad_norm': 0.5747532248497009, 'learning_rate': 4.2e-05, 'epoch': 38.18}\n"
     ]
    },
    {
     "name": "stderr",
     "output_type": "stream",
     "text": [
      "                                                 \n",
      " 78%|███████▊  | 430/550 [00:36<00:10, 11.53it/s]"
     ]
    },
    {
     "name": "stdout",
     "output_type": "stream",
     "text": [
      "{'eval_loss': 2.379662036895752, 'eval_runtime': 0.0586, 'eval_samples_per_second': 1962.755, 'eval_steps_per_second': 68.27, 'epoch': 39.0}\n",
      "{'loss': 0.048, 'grad_norm': 0.4798852503299713, 'learning_rate': 4.3e-05, 'epoch': 39.09}\n"
     ]
    },
    {
     "name": "stderr",
     "output_type": "stream",
     "text": [
      " 80%|████████  | 440/550 [00:36<00:08, 12.41it/s]"
     ]
    },
    {
     "name": "stdout",
     "output_type": "stream",
     "text": [
      "{'loss': 0.038, 'grad_norm': 0.037989359349012375, 'learning_rate': 4.4000000000000006e-05, 'epoch': 40.0}\n"
     ]
    },
    {
     "name": "stderr",
     "output_type": "stream",
     "text": [
      "                                                 \n",
      " 80%|████████  | 440/550 [00:36<00:08, 12.41it/s]"
     ]
    },
    {
     "name": "stdout",
     "output_type": "stream",
     "text": [
      "{'eval_loss': 2.421004295349121, 'eval_runtime': 0.0625, 'eval_samples_per_second': 1839.179, 'eval_steps_per_second': 63.971, 'epoch': 40.0}\n"
     ]
    },
    {
     "name": "stderr",
     "output_type": "stream",
     "text": [
      " 82%|████████▏ | 450/550 [00:37<00:08, 11.92it/s]"
     ]
    },
    {
     "name": "stdout",
     "output_type": "stream",
     "text": [
      "{'loss': 0.0413, 'grad_norm': 1.0343427658081055, 'learning_rate': 4.5e-05, 'epoch': 40.91}\n"
     ]
    },
    {
     "name": "stderr",
     "output_type": "stream",
     "text": [
      "                                                 \n",
      " 82%|████████▏ | 451/550 [00:37<00:08, 11.92it/s]"
     ]
    },
    {
     "name": "stdout",
     "output_type": "stream",
     "text": [
      "{'eval_loss': 2.41188907623291, 'eval_runtime': 0.0617, 'eval_samples_per_second': 1863.617, 'eval_steps_per_second': 64.821, 'epoch': 41.0}\n"
     ]
    },
    {
     "name": "stderr",
     "output_type": "stream",
     "text": [
      " 84%|████████▍ | 462/550 [00:38<00:07, 12.14it/s]"
     ]
    },
    {
     "name": "stdout",
     "output_type": "stream",
     "text": [
      "{'loss': 0.039, 'grad_norm': 0.6145377159118652, 'learning_rate': 4.600000000000001e-05, 'epoch': 41.82}\n"
     ]
    },
    {
     "name": "stderr",
     "output_type": "stream",
     "text": [
      "                                                 \n",
      " 84%|████████▍ | 464/550 [00:39<00:07, 10.84it/s]"
     ]
    },
    {
     "name": "stdout",
     "output_type": "stream",
     "text": [
      "{'eval_loss': 2.456796884536743, 'eval_runtime': 0.0606, 'eval_samples_per_second': 1896.681, 'eval_steps_per_second': 65.972, 'epoch': 42.0}\n"
     ]
    },
    {
     "name": "stderr",
     "output_type": "stream",
     "text": [
      " 86%|████████▌ | 472/550 [00:39<00:06, 11.81it/s]"
     ]
    },
    {
     "name": "stdout",
     "output_type": "stream",
     "text": [
      "{'loss': 0.0513, 'grad_norm': 0.6771702766418457, 'learning_rate': 4.7e-05, 'epoch': 42.73}\n"
     ]
    },
    {
     "name": "stderr",
     "output_type": "stream",
     "text": [
      "                                                 \n",
      " 86%|████████▌ | 474/550 [00:39<00:07, 10.85it/s]"
     ]
    },
    {
     "name": "stdout",
     "output_type": "stream",
     "text": [
      "{'eval_loss': 2.590477466583252, 'eval_runtime': 0.063, 'eval_samples_per_second': 1824.155, 'eval_steps_per_second': 63.449, 'epoch': 43.0}\n"
     ]
    },
    {
     "name": "stderr",
     "output_type": "stream",
     "text": [
      " 88%|████████▊ | 482/550 [00:40<00:05, 11.76it/s]"
     ]
    },
    {
     "name": "stdout",
     "output_type": "stream",
     "text": [
      "{'loss': 0.0358, 'grad_norm': 0.27242472767829895, 'learning_rate': 4.8e-05, 'epoch': 43.64}\n"
     ]
    },
    {
     "name": "stderr",
     "output_type": "stream",
     "text": [
      "                                                 \n",
      " 88%|████████▊ | 486/550 [00:40<00:05, 10.85it/s]"
     ]
    },
    {
     "name": "stdout",
     "output_type": "stream",
     "text": [
      "{'eval_loss': 2.5858144760131836, 'eval_runtime': 0.0623, 'eval_samples_per_second': 1846.268, 'eval_steps_per_second': 64.218, 'epoch': 44.0}\n"
     ]
    },
    {
     "name": "stderr",
     "output_type": "stream",
     "text": [
      " 89%|████████▉ | 492/550 [00:41<00:04, 11.68it/s]"
     ]
    },
    {
     "name": "stdout",
     "output_type": "stream",
     "text": [
      "{'loss': 0.038, 'grad_norm': 0.024182811379432678, 'learning_rate': 4.9e-05, 'epoch': 44.55}\n"
     ]
    },
    {
     "name": "stderr",
     "output_type": "stream",
     "text": [
      "                                                 \n",
      " 90%|█████████ | 496/550 [00:41<00:04, 10.81it/s]"
     ]
    },
    {
     "name": "stdout",
     "output_type": "stream",
     "text": [
      "{'eval_loss': 2.436591625213623, 'eval_runtime': 0.0626, 'eval_samples_per_second': 1835.882, 'eval_steps_per_second': 63.857, 'epoch': 45.0}\n"
     ]
    },
    {
     "name": "stderr",
     "output_type": "stream",
     "text": [
      " 91%|█████████ | 500/550 [00:42<00:04, 11.54it/s]"
     ]
    },
    {
     "name": "stdout",
     "output_type": "stream",
     "text": [
      "{'loss': 0.0577, 'grad_norm': 0.739123523235321, 'learning_rate': 5e-05, 'epoch': 45.45}\n"
     ]
    },
    {
     "name": "stderr",
     "output_type": "stream",
     "text": [
      "                                                 \n",
      " 92%|█████████▏| 508/550 [00:44<00:07,  5.95it/s]"
     ]
    },
    {
     "name": "stdout",
     "output_type": "stream",
     "text": [
      "{'eval_loss': 2.614250898361206, 'eval_runtime': 0.0613, 'eval_samples_per_second': 1875.107, 'eval_steps_per_second': 65.221, 'epoch': 46.0}\n"
     ]
    },
    {
     "name": "stderr",
     "output_type": "stream",
     "text": [
      " 93%|█████████▎| 512/550 [00:44<00:04,  8.14it/s]"
     ]
    },
    {
     "name": "stdout",
     "output_type": "stream",
     "text": [
      "{'loss': 0.0402, 'grad_norm': 0.6388762593269348, 'learning_rate': 4e-05, 'epoch': 46.36}\n"
     ]
    },
    {
     "name": "stderr",
     "output_type": "stream",
     "text": [
      "                                                 \n",
      " 94%|█████████▍| 518/550 [00:45<00:03,  9.76it/s]"
     ]
    },
    {
     "name": "stdout",
     "output_type": "stream",
     "text": [
      "{'eval_loss': 2.6650962829589844, 'eval_runtime': 0.0586, 'eval_samples_per_second': 1962.794, 'eval_steps_per_second': 68.271, 'epoch': 47.0}\n"
     ]
    },
    {
     "name": "stderr",
     "output_type": "stream",
     "text": [
      " 95%|█████████▍| 522/550 [00:45<00:02, 10.99it/s]"
     ]
    },
    {
     "name": "stdout",
     "output_type": "stream",
     "text": [
      "{'loss': 0.0276, 'grad_norm': 0.45051896572113037, 'learning_rate': 3e-05, 'epoch': 47.27}\n"
     ]
    },
    {
     "name": "stderr",
     "output_type": "stream",
     "text": [
      "                                                 \n",
      " 96%|█████████▋| 530/550 [00:46<00:01, 11.02it/s]"
     ]
    },
    {
     "name": "stdout",
     "output_type": "stream",
     "text": [
      "{'eval_loss': 2.511874198913574, 'eval_runtime': 0.0616, 'eval_samples_per_second': 1866.155, 'eval_steps_per_second': 64.91, 'epoch': 48.0}\n",
      "{'loss': 0.0421, 'grad_norm': 0.018041040748357773, 'learning_rate': 2e-05, 'epoch': 48.18}\n"
     ]
    },
    {
     "name": "stderr",
     "output_type": "stream",
     "text": [
      "                                                 \n",
      " 98%|█████████▊| 540/550 [00:47<00:00, 11.18it/s]"
     ]
    },
    {
     "name": "stdout",
     "output_type": "stream",
     "text": [
      "{'eval_loss': 2.508119583129883, 'eval_runtime': 0.0593, 'eval_samples_per_second': 1939.231, 'eval_steps_per_second': 67.452, 'epoch': 49.0}\n",
      "{'loss': 0.0367, 'grad_norm': 0.017348436638712883, 'learning_rate': 1e-05, 'epoch': 49.09}\n"
     ]
    },
    {
     "name": "stderr",
     "output_type": "stream",
     "text": [
      "100%|██████████| 550/550 [00:47<00:00, 12.50it/s]"
     ]
    },
    {
     "name": "stdout",
     "output_type": "stream",
     "text": [
      "{'loss': 0.0395, 'grad_norm': 0.4358502924442291, 'learning_rate': 0.0, 'epoch': 50.0}\n"
     ]
    },
    {
     "name": "stderr",
     "output_type": "stream",
     "text": [
      "                                                 \n",
      "100%|██████████| 550/550 [00:47<00:00, 11.48it/s]"
     ]
    },
    {
     "name": "stdout",
     "output_type": "stream",
     "text": [
      "{'eval_loss': 2.5172297954559326, 'eval_runtime': 0.0624, 'eval_samples_per_second': 1844.313, 'eval_steps_per_second': 64.15, 'epoch': 50.0}\n",
      "{'train_runtime': 47.9204, 'train_samples_per_second': 358.928, 'train_steps_per_second': 11.477, 'train_loss': 0.2917240324345502, 'epoch': 50.0}\n"
     ]
    },
    {
     "name": "stderr",
     "output_type": "stream",
     "text": [
      "\n"
     ]
    },
    {
     "data": {
      "text/plain": [
       "TrainOutput(global_step=550, training_loss=0.2917240324345502, metrics={'train_runtime': 47.9204, 'train_samples_per_second': 358.928, 'train_steps_per_second': 11.477, 'total_flos': 155755461204000.0, 'train_loss': 0.2917240324345502, 'epoch': 50.0})"
      ]
     },
     "execution_count": 53,
     "metadata": {},
     "output_type": "execute_result"
    }
   ],
   "source": [
    "# Addestramento del modello\n",
    "trainer.train()"
   ]
  },
  {
   "cell_type": "code",
   "execution_count": 54,
   "metadata": {},
   "outputs": [
    {
     "name": "stderr",
     "output_type": "stream",
     "text": [
      "100%|██████████| 4/4 [00:00<00:00, 62.61it/s]"
     ]
    },
    {
     "name": "stdout",
     "output_type": "stream",
     "text": [
      "Validation Accuracy: 0.6347826086956522\n",
      "              precision    recall  f1-score   support\n",
      "\n",
      "    negative       0.58      0.45      0.51        31\n",
      "   no_change       0.68      0.81      0.74        69\n",
      "    positive       0.33      0.20      0.25        15\n",
      "\n",
      "    accuracy                           0.63       115\n",
      "   macro avg       0.53      0.49      0.50       115\n",
      "weighted avg       0.61      0.63      0.61       115\n",
      "\n"
     ]
    },
    {
     "name": "stderr",
     "output_type": "stream",
     "text": [
      "\n"
     ]
    }
   ],
   "source": [
    "# Evaluating the model on the validation data\n",
    "val_predictions = trainer.predict(val_dataset)\n",
    "val_preds = np.argmax(val_predictions.predictions, axis=-1)\n",
    "val_accuracy = accuracy_score(y_val, val_preds)\n",
    "val_report = classification_report(y_val, val_preds, target_names=le.classes_, zero_division=0)\n",
    "\n",
    "print(f\"Validation Accuracy: {val_accuracy}\")\n",
    "print(val_report)"
   ]
  },
  {
   "cell_type": "code",
   "execution_count": 55,
   "metadata": {},
   "outputs": [
    {
     "name": "stderr",
     "output_type": "stream",
     "text": [
      "100%|██████████| 4/4 [00:00<00:00, 47.72it/s]"
     ]
    },
    {
     "name": "stdout",
     "output_type": "stream",
     "text": [
      "Test Accuracy: 0.6956521739130435\n",
      "              precision    recall  f1-score   support\n",
      "\n",
      "    negative       0.57      0.32      0.41        25\n",
      "   no_change       0.73      0.91      0.81        76\n",
      "    positive       0.50      0.21      0.30        14\n",
      "\n",
      "    accuracy                           0.70       115\n",
      "   macro avg       0.60      0.48      0.51       115\n",
      "weighted avg       0.67      0.70      0.66       115\n",
      "\n"
     ]
    },
    {
     "name": "stderr",
     "output_type": "stream",
     "text": [
      "\n"
     ]
    }
   ],
   "source": [
    "# Evaluating the model on the test data\n",
    "test_predictions = trainer.predict(test_dataset)\n",
    "test_preds = np.argmax(test_predictions.predictions, axis=-1)\n",
    "test_accuracy = accuracy_score(y_test, test_preds)\n",
    "test_report = classification_report(y_test, test_preds, target_names=le.classes_, zero_division=0)\n",
    "\n",
    "print(f\"Test Accuracy: {test_accuracy}\")\n",
    "print(test_report)"
   ]
  },
  {
   "cell_type": "code",
   "execution_count": 56,
   "metadata": {},
   "outputs": [
    {
     "name": "stderr",
     "output_type": "stream",
     "text": [
      "100%|██████████| 8/8 [00:00<00:00, 41.06it/s]"
     ]
    },
    {
     "name": "stdout",
     "output_type": "stream",
     "text": [
      "Combined Validation + Test Accuracy: 0.6652173913043479\n",
      "              precision    recall  f1-score   support\n",
      "\n",
      "    negative       0.58      0.39      0.47        56\n",
      "   no_change       0.71      0.86      0.78       145\n",
      "    positive       0.40      0.21      0.27        29\n",
      "\n",
      "    accuracy                           0.67       230\n",
      "   macro avg       0.56      0.49      0.51       230\n",
      "weighted avg       0.64      0.67      0.64       230\n",
      "\n"
     ]
    },
    {
     "name": "stderr",
     "output_type": "stream",
     "text": [
      "\n"
     ]
    }
   ],
   "source": [
    "# Assicurati che X_train, X_val e X_test siano liste di stringhe\n",
    "X_train = list(map(str, X_train))\n",
    "X_val = list(map(str, X_val))\n",
    "X_test = list(map(str, X_test))\n",
    "\n",
    "# Tokenizza i dati separatamente per train, val e test\n",
    "encodings_train = tokenizer(X_train, truncation=True, padding=True)\n",
    "encodings_val = tokenizer(X_val, truncation=True, padding=True)\n",
    "encodings_test = tokenizer(X_test, truncation=True, padding=True)\n",
    "\n",
    "# Trova la lunghezza massima di padding\n",
    "max_length = max(\n",
    "    max([len(input_id) for input_id in encodings_val['input_ids']]),\n",
    "    max([len(input_id) for input_id in encodings_test['input_ids']])\n",
    ")\n",
    "\n",
    "# Aggiungi padding ai set di dati di validazione e di test\n",
    "encodings_val = tokenizer(X_val, truncation=True, padding='max_length', max_length=max_length)\n",
    "encodings_test = tokenizer(X_test, truncation=True, padding='max_length', max_length=max_length)\n",
    "\n",
    "# Unire i dati di validazione e di test\n",
    "combined_encodings = {\n",
    "    'input_ids': np.concatenate([encodings_val['input_ids'], encodings_test['input_ids']]),\n",
    "    'attention_mask': np.concatenate([encodings_val['attention_mask'], encodings_test['attention_mask']])\n",
    "}\n",
    "combined_labels = np.concatenate([y_val, y_test])\n",
    "\n",
    "# Creare il dataset combinato\n",
    "combined_dataset = NewsDataset(combined_encodings, combined_labels)\n",
    "\n",
    "# Valutazione del modello sui dati combinati di validazione e test\n",
    "combined_predictions = trainer.predict(combined_dataset)\n",
    "combined_preds = np.argmax(combined_predictions.predictions, axis=-1)\n",
    "combined_accuracy = accuracy_score(combined_labels, combined_preds)\n",
    "combined_report = classification_report(combined_labels, combined_preds, target_names=le.classes_, zero_division=0)\n",
    "\n",
    "print(f\"Combined Validation + Test Accuracy: {combined_accuracy}\")\n",
    "print(combined_report)"
   ]
  },
  {
   "cell_type": "code",
   "execution_count": 57,
   "metadata": {},
   "outputs": [],
   "source": [
    "# Aggiungi i risultati del modello Hugging Face\n",
    "huggingface_accuracy = combined_accuracy\n",
    "huggingface_report = combined_report"
   ]
  },
  {
   "cell_type": "code",
   "execution_count": 58,
   "metadata": {},
   "outputs": [
    {
     "ename": "NameError",
     "evalue": "name 'model_names' is not defined",
     "output_type": "error",
     "traceback": [
      "\u001b[0;31m---------------------------------------------------------------------------\u001b[0m",
      "\u001b[0;31mNameError\u001b[0m                                 Traceback (most recent call last)",
      "Cell \u001b[0;32mIn[58], line 2\u001b[0m\n\u001b[1;32m      1\u001b[0m \u001b[38;5;66;03m# Aggiorna la lista dei modelli per includere Hugging Face\u001b[39;00m\n\u001b[0;32m----> 2\u001b[0m \u001b[43mmodel_names\u001b[49m\u001b[38;5;241m.\u001b[39mappend(\u001b[38;5;124m\"\u001b[39m\u001b[38;5;124mHugging Face\u001b[39m\u001b[38;5;124m\"\u001b[39m)\n\u001b[1;32m      3\u001b[0m accuracies\u001b[38;5;241m.\u001b[39mappend(huggingface_accuracy)\n\u001b[1;32m      4\u001b[0m reports\u001b[38;5;241m.\u001b[39mappend(huggingface_report)\n",
      "\u001b[0;31mNameError\u001b[0m: name 'model_names' is not defined"
     ]
    }
   ],
   "source": [
    "# # Aggiorna la lista dei modelli per includere Hugging Face\n",
    "# model_names.append(\"Hugging Face\")\n",
    "# accuracies.append(huggingface_accuracy)\n",
    "# reports.append(huggingface_report)"
   ]
  },
  {
   "cell_type": "code",
   "execution_count": null,
   "metadata": {},
   "outputs": [],
   "source": [
    "# # Crea il DataFrame\n",
    "# results_df = pd.DataFrame({\n",
    "#     \"Model\": model_names,\n",
    "#     \"Accuracy\": accuracies,\n",
    "# })\n"
   ]
  },
  {
   "cell_type": "code",
   "execution_count": null,
   "metadata": {},
   "outputs": [],
   "source": [
    "results_df"
   ]
  },
  {
   "cell_type": "markdown",
   "metadata": {},
   "source": [
    "The results indicate that the Hugging Face model outperforms all traditional machine learning models, achieving the highest accuracy of 62.82%. This suggests that the advanced NLP capabilities of Hugging Face’s DistilBERT provide a significant advantage in predicting stock movements based on financial news. However, to further enhance the performance of our Hugging Face model, we will explore hyperparameter optimization using Optuna. "
   ]
  },
  {
   "cell_type": "markdown",
   "metadata": {},
   "source": [
    "---"
   ]
  },
  {
   "cell_type": "markdown",
   "metadata": {},
   "source": [
    "Optuna is an open-source hyperparameter optimization framework designed to automate the process of tuning hyperparameters for machine learning models. It uses efficient algorithms to explore the hyperparameter space and identify the best combination of values that maximize the model’s performance. \n",
    "\n",
    "This function defines the process for tuning hyperparameters using Optuna. It aims to maximize the model’s accuracy on the validation dataset."
   ]
  },
  {
   "cell_type": "code",
   "execution_count": 59,
   "metadata": {},
   "outputs": [],
   "source": [
    "# Objective function for Optuna\n",
    "def objective(trial):\n",
    "    # Define the hyperparameters to optimize\n",
    "    num_train_epochs = trial.suggest_int('num_train_epochs', 3, 10) # Number of training epochs\n",
    "    per_device_train_batch_size = trial.suggest_int('per_device_train_batch_size', 16, 64) # Batch size \n",
    "    learning_rate = trial.suggest_float('learning_rate', 1e-5, 5e-5, log=True) # Learning rate\n",
    "    \n",
    "    # Load the distilbert-base-uncased pre-trained model\n",
    "    model = DistilBertForSequenceClassification.from_pretrained('distilbert-base-uncased', num_labels=3)\n",
    "    \n",
    "    # Training settings\n",
    "    training_args = TrainingArguments(\n",
    "        output_dir='./results',\n",
    "        num_train_epochs=num_train_epochs,\n",
    "        per_device_train_batch_size=per_device_train_batch_size,\n",
    "        per_device_eval_batch_size=32,\n",
    "        warmup_steps=500,\n",
    "        weight_decay=0.01,\n",
    "        logging_dir='./logs',\n",
    "        logging_steps=10,\n",
    "        evaluation_strategy=\"epoch\",\n",
    "        learning_rate=learning_rate\n",
    "    )\n",
    "    \n",
    "    # Create the trainer\n",
    "    trainer = Trainer(\n",
    "        model=model,\n",
    "        args=training_args,\n",
    "        train_dataset=train_dataset,\n",
    "        eval_dataset=val_dataset\n",
    "    )\n",
    "    \n",
    "    # Train the model\n",
    "    trainer.train()\n",
    "    \n",
    "    # Evaluate the model\n",
    "    predictions = trainer.predict(val_dataset)\n",
    "    preds = np.argmax(predictions.predictions, axis=-1)\n",
    "    accuracy = accuracy_score(y_val, preds)\n",
    "    \n",
    "    return accuracy"
   ]
  },
  {
   "cell_type": "code",
   "execution_count": 60,
   "metadata": {},
   "outputs": [
    {
     "name": "stderr",
     "output_type": "stream",
     "text": [
      "[I 2024-06-02 18:31:24,299] A new study created in memory with name: no-name-90699f73-a7e4-404c-ad4f-7fcf3a5f0849\n",
      "Some weights of DistilBertForSequenceClassification were not initialized from the model checkpoint at distilbert-base-uncased and are newly initialized: ['classifier.bias', 'classifier.weight', 'pre_classifier.bias', 'pre_classifier.weight']\n",
      "You should probably TRAIN this model on a down-stream task to be able to use it for predictions and inference.\n",
      "/Users/luca/Documents/Polimi/Machine Learning/Finance-Text-Mining/fvenv/lib/python3.12/site-packages/transformers/training_args.py:1474: FutureWarning: `evaluation_strategy` is deprecated and will be removed in version 4.46 of 🤗 Transformers. Use `eval_strategy` instead\n",
      "  warnings.warn(\n",
      " 11%|█         | 8/72 [00:04<00:49,  1.30it/s]\n",
      " 12%|█▎        | 9/72 [00:04<00:40,  1.57it/s]"
     ]
    },
    {
     "name": "stdout",
     "output_type": "stream",
     "text": [
      "{'eval_loss': 1.1372003555297852, 'eval_runtime': 0.0659, 'eval_samples_per_second': 1744.776, 'eval_steps_per_second': 60.688, 'epoch': 1.0}\n"
     ]
    },
    {
     "name": "stderr",
     "output_type": "stream",
     "text": [
      " 15%|█▌        | 11/72 [00:04<00:26,  2.34it/s]"
     ]
    },
    {
     "name": "stdout",
     "output_type": "stream",
     "text": [
      "{'loss': 1.1571, 'grad_norm': 3.1692564487457275, 'learning_rate': 8.565038858105862e-07, 'epoch': 1.25}\n"
     ]
    },
    {
     "name": "stderr",
     "output_type": "stream",
     "text": [
      " 22%|██▏       | 16/72 [00:05<00:11,  5.09it/s]\n",
      " 22%|██▏       | 16/72 [00:05<00:11,  5.09it/s]"
     ]
    },
    {
     "name": "stdout",
     "output_type": "stream",
     "text": [
      "{'eval_loss': 1.1270967721939087, 'eval_runtime': 0.0614, 'eval_samples_per_second': 1872.29, 'eval_steps_per_second': 65.123, 'epoch': 2.0}\n"
     ]
    },
    {
     "name": "stderr",
     "output_type": "stream",
     "text": [
      " 29%|██▉       | 21/72 [00:05<00:07,  7.13it/s]"
     ]
    },
    {
     "name": "stdout",
     "output_type": "stream",
     "text": [
      "{'loss': 1.137, 'grad_norm': 2.75130558013916, 'learning_rate': 1.7130077716211723e-06, 'epoch': 2.5}\n"
     ]
    },
    {
     "name": "stderr",
     "output_type": "stream",
     "text": [
      " 32%|███▏      | 23/72 [00:05<00:06,  7.96it/s]\n",
      " 35%|███▍      | 25/72 [00:06<00:05,  8.41it/s]"
     ]
    },
    {
     "name": "stdout",
     "output_type": "stream",
     "text": [
      "{'eval_loss': 1.1112279891967773, 'eval_runtime': 0.059, 'eval_samples_per_second': 1949.152, 'eval_steps_per_second': 67.797, 'epoch': 3.0}\n"
     ]
    },
    {
     "name": "stderr",
     "output_type": "stream",
     "text": [
      " 43%|████▎     | 31/72 [00:06<00:04,  9.51it/s]"
     ]
    },
    {
     "name": "stdout",
     "output_type": "stream",
     "text": [
      "{'loss': 1.1155, 'grad_norm': 2.728715658187866, 'learning_rate': 2.5695116574317585e-06, 'epoch': 3.75}\n"
     ]
    },
    {
     "name": "stderr",
     "output_type": "stream",
     "text": [
      "\n",
      " 46%|████▌     | 33/72 [00:06<00:04,  9.46it/s]"
     ]
    },
    {
     "name": "stdout",
     "output_type": "stream",
     "text": [
      "{'eval_loss': 1.0892292261123657, 'eval_runtime': 0.0593, 'eval_samples_per_second': 1939.169, 'eval_steps_per_second': 67.449, 'epoch': 4.0}\n"
     ]
    },
    {
     "name": "stderr",
     "output_type": "stream",
     "text": [
      " 56%|█████▌    | 40/72 [00:07<00:03,  9.99it/s]"
     ]
    },
    {
     "name": "stdout",
     "output_type": "stream",
     "text": [
      "{'loss': 1.075, 'grad_norm': 6.534049034118652, 'learning_rate': 3.4260155432423447e-06, 'epoch': 5.0}\n"
     ]
    },
    {
     "name": "stderr",
     "output_type": "stream",
     "text": [
      "\n",
      " 57%|█████▋    | 41/72 [00:07<00:03,  9.81it/s]"
     ]
    },
    {
     "name": "stdout",
     "output_type": "stream",
     "text": [
      "{'eval_loss': 1.0581434965133667, 'eval_runtime': 0.0599, 'eval_samples_per_second': 1921.05, 'eval_steps_per_second': 66.819, 'epoch': 5.0}\n"
     ]
    },
    {
     "name": "stderr",
     "output_type": "stream",
     "text": [
      " 65%|██████▌   | 47/72 [00:08<00:02, 10.09it/s]\n",
      "                                               \r"
     ]
    },
    {
     "name": "stdout",
     "output_type": "stream",
     "text": [
      "{'eval_loss': 1.0197787284851074, 'eval_runtime': 0.0594, 'eval_samples_per_second': 1936.452, 'eval_steps_per_second': 67.355, 'epoch': 6.0}\n"
     ]
    },
    {
     "name": "stderr",
     "output_type": "stream",
     "text": [
      " 71%|███████   | 51/72 [00:08<00:02,  9.99it/s]"
     ]
    },
    {
     "name": "stdout",
     "output_type": "stream",
     "text": [
      "{'loss': 1.0557, 'grad_norm': 2.1440160274505615, 'learning_rate': 4.282519429052931e-06, 'epoch': 6.25}\n"
     ]
    },
    {
     "name": "stderr",
     "output_type": "stream",
     "text": [
      " 76%|███████▋  | 55/72 [00:09<00:01, 10.09it/s]\n",
      " 79%|███████▉  | 57/72 [00:09<00:01,  9.90it/s]"
     ]
    },
    {
     "name": "stdout",
     "output_type": "stream",
     "text": [
      "{'eval_loss': 0.9793999791145325, 'eval_runtime': 0.0592, 'eval_samples_per_second': 1941.62, 'eval_steps_per_second': 67.535, 'epoch': 7.0}\n"
     ]
    },
    {
     "name": "stderr",
     "output_type": "stream",
     "text": [
      " 85%|████████▍ | 61/72 [00:09<00:01, 10.02it/s]"
     ]
    },
    {
     "name": "stdout",
     "output_type": "stream",
     "text": [
      "{'loss': 0.9447, 'grad_norm': 2.1247289180755615, 'learning_rate': 5.139023314863517e-06, 'epoch': 7.5}\n"
     ]
    },
    {
     "name": "stderr",
     "output_type": "stream",
     "text": [
      " 88%|████████▊ | 63/72 [00:09<00:00, 10.07it/s]\n",
      " 90%|█████████ | 65/72 [00:10<00:00,  9.90it/s]"
     ]
    },
    {
     "name": "stdout",
     "output_type": "stream",
     "text": [
      "{'eval_loss': 0.9374046921730042, 'eval_runtime': 0.0585, 'eval_samples_per_second': 1965.506, 'eval_steps_per_second': 68.365, 'epoch': 8.0}\n"
     ]
    },
    {
     "name": "stderr",
     "output_type": "stream",
     "text": [
      " 99%|█████████▊| 71/72 [00:10<00:00, 10.02it/s]"
     ]
    },
    {
     "name": "stdout",
     "output_type": "stream",
     "text": [
      "{'loss': 0.8762, 'grad_norm': 1.0349550247192383, 'learning_rate': 5.9955272006741036e-06, 'epoch': 8.75}\n"
     ]
    },
    {
     "name": "stderr",
     "output_type": "stream",
     "text": [
      "\n",
      "100%|██████████| 72/72 [00:10<00:00,  6.71it/s]\n"
     ]
    },
    {
     "name": "stdout",
     "output_type": "stream",
     "text": [
      "{'eval_loss': 0.9282018542289734, 'eval_runtime': 0.0599, 'eval_samples_per_second': 1919.934, 'eval_steps_per_second': 66.78, 'epoch': 9.0}\n",
      "{'train_runtime': 10.7328, 'train_samples_per_second': 288.463, 'train_steps_per_second': 6.708, 'train_loss': 1.0397604273425207, 'epoch': 9.0}\n"
     ]
    },
    {
     "name": "stderr",
     "output_type": "stream",
     "text": [
      "100%|██████████| 4/4 [00:00<00:00, 89.38it/s]\n",
      "[I 2024-06-02 18:31:35,808] Trial 0 finished with value: 0.6 and parameters: {'num_train_epochs': 9, 'per_device_train_batch_size': 49, 'learning_rate': 4.282519429052931e-05}. Best is trial 0 with value: 0.6.\n",
      "Some weights of DistilBertForSequenceClassification were not initialized from the model checkpoint at distilbert-base-uncased and are newly initialized: ['classifier.bias', 'classifier.weight', 'pre_classifier.bias', 'pre_classifier.weight']\n",
      "You should probably TRAIN this model on a down-stream task to be able to use it for predictions and inference.\n",
      "/Users/luca/Documents/Polimi/Machine Learning/Finance-Text-Mining/fvenv/lib/python3.12/site-packages/transformers/training_args.py:1474: FutureWarning: `evaluation_strategy` is deprecated and will be removed in version 4.46 of 🤗 Transformers. Use `eval_strategy` instead\n",
      "  warnings.warn(\n",
      " 26%|██▌       | 11/42 [00:00<00:02, 13.90it/s]"
     ]
    },
    {
     "name": "stdout",
     "output_type": "stream",
     "text": [
      "{'loss': 1.1357, 'grad_norm': 3.233363389968872, 'learning_rate': 3.959677198420952e-07, 'epoch': 0.71}\n"
     ]
    },
    {
     "name": "stderr",
     "output_type": "stream",
     "text": [
      " 31%|███       | 13/42 [00:01<00:02, 14.18it/s]\n",
      " 36%|███▌      | 15/42 [00:01<00:02,  9.94it/s]"
     ]
    },
    {
     "name": "stdout",
     "output_type": "stream",
     "text": [
      "{'eval_loss': 1.1224900484085083, 'eval_runtime': 0.0582, 'eval_samples_per_second': 1975.876, 'eval_steps_per_second': 68.726, 'epoch': 1.0}\n"
     ]
    },
    {
     "name": "stderr",
     "output_type": "stream",
     "text": [
      " 50%|█████     | 21/42 [00:01<00:01, 12.63it/s]"
     ]
    },
    {
     "name": "stdout",
     "output_type": "stream",
     "text": [
      "{'loss': 1.1391, 'grad_norm': 3.7436001300811768, 'learning_rate': 7.919354396841904e-07, 'epoch': 1.43}\n"
     ]
    },
    {
     "name": "stderr",
     "output_type": "stream",
     "text": [
      " 64%|██████▍   | 27/42 [00:02<00:01, 14.00it/s]\n",
      " 71%|███████▏  | 30/42 [00:02<00:00, 12.96it/s]"
     ]
    },
    {
     "name": "stdout",
     "output_type": "stream",
     "text": [
      "{'eval_loss': 1.1084437370300293, 'eval_runtime': 0.0591, 'eval_samples_per_second': 1947.468, 'eval_steps_per_second': 67.738, 'epoch': 2.0}\n",
      "{'loss': 1.1149, 'grad_norm': 3.0645899772644043, 'learning_rate': 1.1879031595262855e-06, 'epoch': 2.14}\n"
     ]
    },
    {
     "name": "stderr",
     "output_type": "stream",
     "text": [
      " 98%|█████████▊| 41/42 [00:03<00:00, 14.34it/s]"
     ]
    },
    {
     "name": "stdout",
     "output_type": "stream",
     "text": [
      "{'loss': 1.1023, 'grad_norm': 1.8286054134368896, 'learning_rate': 1.583870879368381e-06, 'epoch': 2.86}\n"
     ]
    },
    {
     "name": "stderr",
     "output_type": "stream",
     "text": [
      "\n",
      "100%|██████████| 42/42 [00:03<00:00, 12.82it/s]\n"
     ]
    },
    {
     "name": "stdout",
     "output_type": "stream",
     "text": [
      "{'eval_loss': 1.088681936264038, 'eval_runtime': 0.0586, 'eval_samples_per_second': 1961.988, 'eval_steps_per_second': 68.243, 'epoch': 3.0}\n",
      "{'train_runtime': 3.2772, 'train_samples_per_second': 314.902, 'train_steps_per_second': 12.816, 'train_loss': 1.1221710500263034, 'epoch': 3.0}\n"
     ]
    },
    {
     "name": "stderr",
     "output_type": "stream",
     "text": [
      "100%|██████████| 4/4 [00:00<00:00, 88.90it/s]\n",
      "[I 2024-06-02 18:31:39,620] Trial 1 finished with value: 0.4956521739130435 and parameters: {'num_train_epochs': 3, 'per_device_train_batch_size': 26, 'learning_rate': 1.979838599210476e-05}. Best is trial 0 with value: 0.6.\n",
      "Some weights of DistilBertForSequenceClassification were not initialized from the model checkpoint at distilbert-base-uncased and are newly initialized: ['classifier.bias', 'classifier.weight', 'pre_classifier.bias', 'pre_classifier.weight']\n",
      "You should probably TRAIN this model on a down-stream task to be able to use it for predictions and inference.\n",
      "/Users/luca/Documents/Polimi/Machine Learning/Finance-Text-Mining/fvenv/lib/python3.12/site-packages/transformers/training_args.py:1474: FutureWarning: `evaluation_strategy` is deprecated and will be removed in version 4.46 of 🤗 Transformers. Use `eval_strategy` instead\n",
      "  warnings.warn(\n",
      " 14%|█▍        | 5/36 [00:00<00:03,  8.13it/s]\n",
      " 19%|█▉        | 7/36 [00:00<00:03,  7.72it/s]"
     ]
    },
    {
     "name": "stdout",
     "output_type": "stream",
     "text": [
      "{'eval_loss': 1.0725418329238892, 'eval_runtime': 0.0588, 'eval_samples_per_second': 1954.816, 'eval_steps_per_second': 67.994, 'epoch': 1.0}\n"
     ]
    },
    {
     "name": "stderr",
     "output_type": "stream",
     "text": [
      " 31%|███       | 11/36 [00:01<00:02,  8.57it/s]"
     ]
    },
    {
     "name": "stdout",
     "output_type": "stream",
     "text": [
      "{'loss': 1.0728, 'grad_norm': 2.1312599182128906, 'learning_rate': 6.500307316932838e-07, 'epoch': 1.67}\n"
     ]
    },
    {
     "name": "stderr",
     "output_type": "stream",
     "text": [
      "\n",
      " 36%|███▌      | 13/36 [00:01<00:02,  8.00it/s]"
     ]
    },
    {
     "name": "stdout",
     "output_type": "stream",
     "text": [
      "{'eval_loss': 1.0684630870819092, 'eval_runtime': 0.0584, 'eval_samples_per_second': 1968.241, 'eval_steps_per_second': 68.461, 'epoch': 2.0}\n"
     ]
    },
    {
     "name": "stderr",
     "output_type": "stream",
     "text": [
      " 47%|████▋     | 17/36 [00:02<00:02,  8.74it/s]\n",
      " 53%|█████▎    | 19/36 [00:02<00:02,  8.09it/s]"
     ]
    },
    {
     "name": "stdout",
     "output_type": "stream",
     "text": [
      "{'eval_loss': 1.0615803003311157, 'eval_runtime': 0.0583, 'eval_samples_per_second': 1971.773, 'eval_steps_per_second': 68.583, 'epoch': 3.0}\n"
     ]
    },
    {
     "name": "stderr",
     "output_type": "stream",
     "text": [
      " 58%|█████▊    | 21/36 [00:02<00:01,  8.45it/s]"
     ]
    },
    {
     "name": "stdout",
     "output_type": "stream",
     "text": [
      "{'loss': 1.064, 'grad_norm': 2.870553493499756, 'learning_rate': 1.3000614633865675e-06, 'epoch': 3.33}\n"
     ]
    },
    {
     "name": "stderr",
     "output_type": "stream",
     "text": [
      " 64%|██████▍   | 23/36 [00:02<00:01,  8.72it/s]\n",
      " 69%|██████▉   | 25/36 [00:03<00:01,  8.02it/s]"
     ]
    },
    {
     "name": "stdout",
     "output_type": "stream",
     "text": [
      "{'eval_loss': 1.0516904592514038, 'eval_runtime': 0.0628, 'eval_samples_per_second': 1831.296, 'eval_steps_per_second': 63.697, 'epoch': 4.0}\n"
     ]
    },
    {
     "name": "stderr",
     "output_type": "stream",
     "text": [
      " 83%|████████▎ | 30/36 [00:03<00:00,  8.72it/s]"
     ]
    },
    {
     "name": "stdout",
     "output_type": "stream",
     "text": [
      "{'loss': 1.0471, 'grad_norm': 2.4618589878082275, 'learning_rate': 1.950092195079851e-06, 'epoch': 5.0}\n"
     ]
    },
    {
     "name": "stderr",
     "output_type": "stream",
     "text": [
      "\n",
      " 86%|████████▌ | 31/36 [00:03<00:00,  8.05it/s]"
     ]
    },
    {
     "name": "stdout",
     "output_type": "stream",
     "text": [
      "{'eval_loss': 1.0384812355041504, 'eval_runtime': 0.059, 'eval_samples_per_second': 1948.955, 'eval_steps_per_second': 67.79, 'epoch': 5.0}\n"
     ]
    },
    {
     "name": "stderr",
     "output_type": "stream",
     "text": [
      " 97%|█████████▋| 35/36 [00:04<00:00,  8.72it/s]\n",
      "100%|██████████| 36/36 [00:04<00:00,  8.14it/s]\n"
     ]
    },
    {
     "name": "stdout",
     "output_type": "stream",
     "text": [
      "{'eval_loss': 1.021776795387268, 'eval_runtime': 0.0579, 'eval_samples_per_second': 1985.016, 'eval_steps_per_second': 69.044, 'epoch': 6.0}\n",
      "{'train_runtime': 4.4255, 'train_samples_per_second': 466.389, 'train_steps_per_second': 8.135, 'train_loss': 1.0548841158548992, 'epoch': 6.0}\n"
     ]
    },
    {
     "name": "stderr",
     "output_type": "stream",
     "text": [
      "100%|██████████| 4/4 [00:00<00:00, 90.81it/s]\n",
      "[I 2024-06-02 18:31:44,608] Trial 2 finished with value: 0.6 and parameters: {'num_train_epochs': 6, 'per_device_train_batch_size': 59, 'learning_rate': 3.2501536584664186e-05}. Best is trial 0 with value: 0.6.\n",
      "Some weights of DistilBertForSequenceClassification were not initialized from the model checkpoint at distilbert-base-uncased and are newly initialized: ['classifier.bias', 'classifier.weight', 'pre_classifier.bias', 'pre_classifier.weight']\n",
      "You should probably TRAIN this model on a down-stream task to be able to use it for predictions and inference.\n",
      "/Users/luca/Documents/Polimi/Machine Learning/Finance-Text-Mining/fvenv/lib/python3.12/site-packages/transformers/training_args.py:1474: FutureWarning: `evaluation_strategy` is deprecated and will be removed in version 4.46 of 🤗 Transformers. Use `eval_strategy` instead\n",
      "  warnings.warn(\n",
      "  9%|▉         | 13/140 [00:00<00:08, 15.40it/s]"
     ]
    },
    {
     "name": "stdout",
     "output_type": "stream",
     "text": [
      "{'loss': 1.112, 'grad_norm': 2.168670654296875, 'learning_rate': 4.7475247325049185e-07, 'epoch': 0.5}\n"
     ]
    },
    {
     "name": "stderr",
     "output_type": "stream",
     "text": [
      " 14%|█▍        | 20/140 [00:01<00:07, 16.14it/s]"
     ]
    },
    {
     "name": "stdout",
     "output_type": "stream",
     "text": [
      "{'loss': 1.1098, 'grad_norm': 6.48414421081543, 'learning_rate': 9.495049465009837e-07, 'epoch': 1.0}\n"
     ]
    },
    {
     "name": "stderr",
     "output_type": "stream",
     "text": [
      "\n",
      " 15%|█▌        | 21/140 [00:01<00:11, 10.27it/s]"
     ]
    },
    {
     "name": "stdout",
     "output_type": "stream",
     "text": [
      "{'eval_loss': 1.0927059650421143, 'eval_runtime': 0.0606, 'eval_samples_per_second': 1897.659, 'eval_steps_per_second': 66.006, 'epoch': 1.0}\n"
     ]
    },
    {
     "name": "stderr",
     "output_type": "stream",
     "text": [
      " 24%|██▎       | 33/140 [00:02<00:06, 15.48it/s]"
     ]
    },
    {
     "name": "stdout",
     "output_type": "stream",
     "text": [
      "{'loss': 1.0882, 'grad_norm': 1.3863047361373901, 'learning_rate': 1.4242574197514754e-06, 'epoch': 1.5}\n"
     ]
    },
    {
     "name": "stderr",
     "output_type": "stream",
     "text": [
      " 29%|██▊       | 40/140 [00:02<00:06, 16.32it/s]"
     ]
    },
    {
     "name": "stdout",
     "output_type": "stream",
     "text": [
      "{'loss': 1.0761, 'grad_norm': 6.433013916015625, 'learning_rate': 1.8990098930019674e-06, 'epoch': 2.0}\n"
     ]
    },
    {
     "name": "stderr",
     "output_type": "stream",
     "text": [
      "\n",
      " 29%|██▉       | 41/140 [00:02<00:06, 14.45it/s]"
     ]
    },
    {
     "name": "stdout",
     "output_type": "stream",
     "text": [
      "{'eval_loss': 1.0613677501678467, 'eval_runtime': 0.0606, 'eval_samples_per_second': 1896.532, 'eval_steps_per_second': 65.966, 'epoch': 2.0}\n"
     ]
    },
    {
     "name": "stderr",
     "output_type": "stream",
     "text": [
      " 38%|███▊      | 53/140 [00:03<00:05, 16.35it/s]"
     ]
    },
    {
     "name": "stdout",
     "output_type": "stream",
     "text": [
      "{'loss': 1.0624, 'grad_norm': 3.0376951694488525, 'learning_rate': 2.373762366252459e-06, 'epoch': 2.5}\n"
     ]
    },
    {
     "name": "stderr",
     "output_type": "stream",
     "text": [
      " 43%|████▎     | 60/140 [00:04<00:04, 16.44it/s]"
     ]
    },
    {
     "name": "stdout",
     "output_type": "stream",
     "text": [
      "{'loss': 1.0002, 'grad_norm': 6.1914825439453125, 'learning_rate': 2.848514839502951e-06, 'epoch': 3.0}\n"
     ]
    },
    {
     "name": "stderr",
     "output_type": "stream",
     "text": [
      "\n",
      " 44%|████▎     | 61/140 [00:04<00:05, 14.43it/s]"
     ]
    },
    {
     "name": "stdout",
     "output_type": "stream",
     "text": [
      "{'eval_loss': 1.0107436180114746, 'eval_runtime': 0.0603, 'eval_samples_per_second': 1905.606, 'eval_steps_per_second': 66.282, 'epoch': 3.0}\n"
     ]
    },
    {
     "name": "stderr",
     "output_type": "stream",
     "text": [
      " 52%|█████▏    | 73/140 [00:04<00:04, 16.48it/s]"
     ]
    },
    {
     "name": "stdout",
     "output_type": "stream",
     "text": [
      "{'loss': 0.9719, 'grad_norm': 1.616538643836975, 'learning_rate': 3.323267312753443e-06, 'epoch': 3.5}\n"
     ]
    },
    {
     "name": "stderr",
     "output_type": "stream",
     "text": [
      " 57%|█████▋    | 80/140 [00:05<00:03, 16.68it/s]"
     ]
    },
    {
     "name": "stdout",
     "output_type": "stream",
     "text": [
      "{'loss': 0.9288, 'grad_norm': 5.119149208068848, 'learning_rate': 3.7980197860039348e-06, 'epoch': 4.0}\n"
     ]
    },
    {
     "name": "stderr",
     "output_type": "stream",
     "text": [
      "\n",
      " 58%|█████▊    | 81/140 [00:05<00:04, 14.69it/s]"
     ]
    },
    {
     "name": "stdout",
     "output_type": "stream",
     "text": [
      "{'eval_loss': 0.9439510107040405, 'eval_runtime': 0.0597, 'eval_samples_per_second': 1927.044, 'eval_steps_per_second': 67.028, 'epoch': 4.0}\n"
     ]
    },
    {
     "name": "stderr",
     "output_type": "stream",
     "text": [
      " 66%|██████▋   | 93/140 [00:06<00:02, 16.49it/s]"
     ]
    },
    {
     "name": "stdout",
     "output_type": "stream",
     "text": [
      "{'loss': 0.8853, 'grad_norm': 2.282461404800415, 'learning_rate': 4.272772259254426e-06, 'epoch': 4.5}\n"
     ]
    },
    {
     "name": "stderr",
     "output_type": "stream",
     "text": [
      " 71%|███████▏  | 100/140 [00:06<00:02, 16.68it/s]"
     ]
    },
    {
     "name": "stdout",
     "output_type": "stream",
     "text": [
      "{'loss': 0.8173, 'grad_norm': 5.078336238861084, 'learning_rate': 4.747524732504918e-06, 'epoch': 5.0}\n"
     ]
    },
    {
     "name": "stderr",
     "output_type": "stream",
     "text": [
      "\n",
      " 72%|███████▏  | 101/140 [00:06<00:02, 14.69it/s]"
     ]
    },
    {
     "name": "stdout",
     "output_type": "stream",
     "text": [
      "{'eval_loss': 0.9314486384391785, 'eval_runtime': 0.0591, 'eval_samples_per_second': 1944.438, 'eval_steps_per_second': 67.633, 'epoch': 5.0}\n"
     ]
    },
    {
     "name": "stderr",
     "output_type": "stream",
     "text": [
      " 81%|████████  | 113/140 [00:07<00:01, 16.38it/s]"
     ]
    },
    {
     "name": "stdout",
     "output_type": "stream",
     "text": [
      "{'loss': 0.8603, 'grad_norm': 1.7789032459259033, 'learning_rate': 5.22227720575541e-06, 'epoch': 5.5}\n"
     ]
    },
    {
     "name": "stderr",
     "output_type": "stream",
     "text": [
      " 86%|████████▌ | 120/140 [00:07<00:01, 16.74it/s]"
     ]
    },
    {
     "name": "stdout",
     "output_type": "stream",
     "text": [
      "{'loss': 0.848, 'grad_norm': 6.791163444519043, 'learning_rate': 5.697029679005902e-06, 'epoch': 6.0}\n"
     ]
    },
    {
     "name": "stderr",
     "output_type": "stream",
     "text": [
      "\n",
      " 86%|████████▋ | 121/140 [00:07<00:01, 14.77it/s]"
     ]
    },
    {
     "name": "stdout",
     "output_type": "stream",
     "text": [
      "{'eval_loss': 0.9271602034568787, 'eval_runtime': 0.0603, 'eval_samples_per_second': 1908.048, 'eval_steps_per_second': 66.367, 'epoch': 6.0}\n"
     ]
    },
    {
     "name": "stderr",
     "output_type": "stream",
     "text": [
      " 95%|█████████▌| 133/140 [00:08<00:00, 16.52it/s]"
     ]
    },
    {
     "name": "stdout",
     "output_type": "stream",
     "text": [
      "{'loss': 0.8125, 'grad_norm': 2.9445507526397705, 'learning_rate': 6.171782152256394e-06, 'epoch': 6.5}\n"
     ]
    },
    {
     "name": "stderr",
     "output_type": "stream",
     "text": [
      "100%|██████████| 140/140 [00:09<00:00, 16.74it/s]"
     ]
    },
    {
     "name": "stdout",
     "output_type": "stream",
     "text": [
      "{'loss': 0.8028, 'grad_norm': 5.586493968963623, 'learning_rate': 6.646534625506886e-06, 'epoch': 7.0}\n"
     ]
    },
    {
     "name": "stderr",
     "output_type": "stream",
     "text": [
      "\n",
      "100%|██████████| 140/140 [00:09<00:00, 15.30it/s]\n"
     ]
    },
    {
     "name": "stdout",
     "output_type": "stream",
     "text": [
      "{'eval_loss': 0.9203246831893921, 'eval_runtime': 0.0593, 'eval_samples_per_second': 1938.444, 'eval_steps_per_second': 67.424, 'epoch': 7.0}\n",
      "{'train_runtime': 9.1568, 'train_samples_per_second': 262.975, 'train_steps_per_second': 15.289, 'train_loss': 0.9553984778267997, 'epoch': 7.0}\n"
     ]
    },
    {
     "name": "stderr",
     "output_type": "stream",
     "text": [
      "100%|██████████| 4/4 [00:00<00:00, 89.62it/s]\n",
      "[I 2024-06-02 18:31:54,358] Trial 3 finished with value: 0.6 and parameters: {'num_train_epochs': 7, 'per_device_train_batch_size': 18, 'learning_rate': 2.373762366252459e-05}. Best is trial 0 with value: 0.6.\n",
      "Some weights of DistilBertForSequenceClassification were not initialized from the model checkpoint at distilbert-base-uncased and are newly initialized: ['classifier.bias', 'classifier.weight', 'pre_classifier.bias', 'pre_classifier.weight']\n",
      "You should probably TRAIN this model on a down-stream task to be able to use it for predictions and inference.\n",
      "/Users/luca/Documents/Polimi/Machine Learning/Finance-Text-Mining/fvenv/lib/python3.12/site-packages/transformers/training_args.py:1474: FutureWarning: `evaluation_strategy` is deprecated and will be removed in version 4.46 of 🤗 Transformers. Use `eval_strategy` instead\n",
      "  warnings.warn(\n",
      " 10%|█         | 10/99 [00:01<00:12,  6.96it/s]"
     ]
    },
    {
     "name": "stdout",
     "output_type": "stream",
     "text": [
      "{'loss': 1.0948, 'grad_norm': 3.158121347427368, 'learning_rate': 4.43233858915461e-07, 'epoch': 0.91}\n"
     ]
    },
    {
     "name": "stderr",
     "output_type": "stream",
     "text": [
      " 11%|█         | 11/99 [00:01<00:13,  6.70it/s]\n",
      " 12%|█▏        | 12/99 [00:01<00:12,  6.74it/s]"
     ]
    },
    {
     "name": "stdout",
     "output_type": "stream",
     "text": [
      "{'eval_loss': 1.0891379117965698, 'eval_runtime': 0.0587, 'eval_samples_per_second': 1957.918, 'eval_steps_per_second': 68.102, 'epoch': 1.0}\n"
     ]
    },
    {
     "name": "stderr",
     "output_type": "stream",
     "text": [
      " 22%|██▏       | 22/99 [00:02<00:06, 11.72it/s]"
     ]
    },
    {
     "name": "stdout",
     "output_type": "stream",
     "text": [
      "{'loss': 1.0905, 'grad_norm': 2.4765028953552246, 'learning_rate': 8.86467717830922e-07, 'epoch': 1.82}\n"
     ]
    },
    {
     "name": "stderr",
     "output_type": "stream",
     "text": [
      "\n",
      " 22%|██▏       | 22/99 [00:02<00:06, 11.72it/s]"
     ]
    },
    {
     "name": "stdout",
     "output_type": "stream",
     "text": [
      "{'eval_loss': 1.0813837051391602, 'eval_runtime': 0.0586, 'eval_samples_per_second': 1961.493, 'eval_steps_per_second': 68.226, 'epoch': 2.0}\n"
     ]
    },
    {
     "name": "stderr",
     "output_type": "stream",
     "text": [
      " 32%|███▏      | 32/99 [00:03<00:05, 11.86it/s]"
     ]
    },
    {
     "name": "stdout",
     "output_type": "stream",
     "text": [
      "{'loss': 1.0831, 'grad_norm': 3.2620303630828857, 'learning_rate': 1.329701576746383e-06, 'epoch': 2.73}\n"
     ]
    },
    {
     "name": "stderr",
     "output_type": "stream",
     "text": [
      "\n",
      " 34%|███▍      | 34/99 [00:03<00:05, 11.17it/s]"
     ]
    },
    {
     "name": "stdout",
     "output_type": "stream",
     "text": [
      "{'eval_loss': 1.0699948072433472, 'eval_runtime': 0.0595, 'eval_samples_per_second': 1933.618, 'eval_steps_per_second': 67.256, 'epoch': 3.0}\n"
     ]
    },
    {
     "name": "stderr",
     "output_type": "stream",
     "text": [
      " 42%|████▏     | 42/99 [00:04<00:04, 11.73it/s]"
     ]
    },
    {
     "name": "stdout",
     "output_type": "stream",
     "text": [
      "{'loss': 1.0657, 'grad_norm': 2.4262993335723877, 'learning_rate': 1.772935435661844e-06, 'epoch': 3.64}\n"
     ]
    },
    {
     "name": "stderr",
     "output_type": "stream",
     "text": [
      " 44%|████▍     | 44/99 [00:04<00:04, 12.55it/s]\n",
      " 46%|████▋     | 46/99 [00:04<00:04, 11.19it/s]"
     ]
    },
    {
     "name": "stdout",
     "output_type": "stream",
     "text": [
      "{'eval_loss': 1.055535078048706, 'eval_runtime': 0.0589, 'eval_samples_per_second': 1952.3, 'eval_steps_per_second': 67.906, 'epoch': 4.0}\n"
     ]
    },
    {
     "name": "stderr",
     "output_type": "stream",
     "text": [
      " 53%|█████▎    | 52/99 [00:05<00:04, 11.30it/s]"
     ]
    },
    {
     "name": "stdout",
     "output_type": "stream",
     "text": [
      "{'loss': 1.0521, 'grad_norm': 2.334949493408203, 'learning_rate': 2.216169294577305e-06, 'epoch': 4.55}\n"
     ]
    },
    {
     "name": "stderr",
     "output_type": "stream",
     "text": [
      " 55%|█████▍    | 54/99 [00:05<00:03, 11.47it/s]\n",
      " 57%|█████▋    | 56/99 [00:05<00:03, 10.91it/s]"
     ]
    },
    {
     "name": "stdout",
     "output_type": "stream",
     "text": [
      "{'eval_loss': 1.0369805097579956, 'eval_runtime': 0.059, 'eval_samples_per_second': 1947.641, 'eval_steps_per_second': 67.744, 'epoch': 5.0}\n"
     ]
    },
    {
     "name": "stderr",
     "output_type": "stream",
     "text": [
      " 63%|██████▎   | 62/99 [00:05<00:03, 11.75it/s]"
     ]
    },
    {
     "name": "stdout",
     "output_type": "stream",
     "text": [
      "{'loss': 1.0259, 'grad_norm': 2.35172176361084, 'learning_rate': 2.659403153492766e-06, 'epoch': 5.45}\n"
     ]
    },
    {
     "name": "stderr",
     "output_type": "stream",
     "text": [
      " 67%|██████▋   | 66/99 [00:06<00:02, 12.74it/s]\n",
      " 69%|██████▊   | 68/99 [00:06<00:02, 11.31it/s]"
     ]
    },
    {
     "name": "stdout",
     "output_type": "stream",
     "text": [
      "{'eval_loss': 1.0114145278930664, 'eval_runtime': 0.0588, 'eval_samples_per_second': 1955.949, 'eval_steps_per_second': 68.033, 'epoch': 6.0}\n"
     ]
    },
    {
     "name": "stderr",
     "output_type": "stream",
     "text": [
      " 73%|███████▎  | 72/99 [00:06<00:02, 11.85it/s]"
     ]
    },
    {
     "name": "stdout",
     "output_type": "stream",
     "text": [
      "{'loss': 1.0047, 'grad_norm': 2.7583723068237305, 'learning_rate': 3.102637012408227e-06, 'epoch': 6.36}\n"
     ]
    },
    {
     "name": "stderr",
     "output_type": "stream",
     "text": [
      " 77%|███████▋  | 76/99 [00:07<00:01, 12.19it/s]\n",
      " 79%|███████▉  | 78/99 [00:07<00:01, 11.47it/s]"
     ]
    },
    {
     "name": "stdout",
     "output_type": "stream",
     "text": [
      "{'eval_loss': 0.9771212935447693, 'eval_runtime': 0.0588, 'eval_samples_per_second': 1955.585, 'eval_steps_per_second': 68.02, 'epoch': 7.0}\n"
     ]
    },
    {
     "name": "stderr",
     "output_type": "stream",
     "text": [
      " 83%|████████▎ | 82/99 [00:07<00:01, 11.94it/s]"
     ]
    },
    {
     "name": "stdout",
     "output_type": "stream",
     "text": [
      "{'loss': 0.9541, 'grad_norm': 2.320528745651245, 'learning_rate': 3.545870871323688e-06, 'epoch': 7.27}\n"
     ]
    },
    {
     "name": "stderr",
     "output_type": "stream",
     "text": [
      " 89%|████████▉ | 88/99 [00:08<00:00, 12.68it/s]\n",
      " 91%|█████████ | 90/99 [00:08<00:00, 11.27it/s]"
     ]
    },
    {
     "name": "stdout",
     "output_type": "stream",
     "text": [
      "{'eval_loss': 0.9431981444358826, 'eval_runtime': 0.0592, 'eval_samples_per_second': 1943.685, 'eval_steps_per_second': 67.606, 'epoch': 8.0}\n",
      "{'loss': 0.9013, 'grad_norm': 2.21232533454895, 'learning_rate': 3.989104730239148e-06, 'epoch': 8.18}\n"
     ]
    },
    {
     "name": "stderr",
     "output_type": "stream",
     "text": [
      " 99%|█████████▉| 98/99 [00:08<00:00, 12.19it/s]\n",
      "100%|██████████| 99/99 [00:09<00:00, 10.93it/s]\n"
     ]
    },
    {
     "name": "stdout",
     "output_type": "stream",
     "text": [
      "{'eval_loss': 0.9262089133262634, 'eval_runtime': 0.0579, 'eval_samples_per_second': 1987.838, 'eval_steps_per_second': 69.142, 'epoch': 9.0}\n",
      "{'train_runtime': 9.0623, 'train_samples_per_second': 341.634, 'train_steps_per_second': 10.924, 'train_loss': 1.0155397858282533, 'epoch': 9.0}\n"
     ]
    },
    {
     "name": "stderr",
     "output_type": "stream",
     "text": [
      "100%|██████████| 4/4 [00:00<00:00, 88.10it/s]\n",
      "[I 2024-06-02 18:32:04,193] Trial 4 finished with value: 0.6 and parameters: {'num_train_epochs': 9, 'per_device_train_batch_size': 33, 'learning_rate': 2.2161692945773048e-05}. Best is trial 0 with value: 0.6.\n",
      "Some weights of DistilBertForSequenceClassification were not initialized from the model checkpoint at distilbert-base-uncased and are newly initialized: ['classifier.bias', 'classifier.weight', 'pre_classifier.bias', 'pre_classifier.weight']\n",
      "You should probably TRAIN this model on a down-stream task to be able to use it for predictions and inference.\n",
      "/Users/luca/Documents/Polimi/Machine Learning/Finance-Text-Mining/fvenv/lib/python3.12/site-packages/transformers/training_args.py:1474: FutureWarning: `evaluation_strategy` is deprecated and will be removed in version 4.46 of 🤗 Transformers. Use `eval_strategy` instead\n",
      "  warnings.warn(\n",
      " 33%|███▎      | 8/24 [00:01<00:02,  7.50it/s]\n",
      " 42%|████▏     | 10/24 [00:01<00:01,  7.20it/s]"
     ]
    },
    {
     "name": "stdout",
     "output_type": "stream",
     "text": [
      "{'eval_loss': 1.1234185695648193, 'eval_runtime': 0.0594, 'eval_samples_per_second': 1936.219, 'eval_steps_per_second': 67.347, 'epoch': 1.0}\n",
      "{'loss': 1.1387, 'grad_norm': 3.3051576614379883, 'learning_rate': 9.700859269257816e-07, 'epoch': 1.25}\n"
     ]
    },
    {
     "name": "stderr",
     "output_type": "stream",
     "text": [
      " 62%|██████▎   | 15/24 [00:01<00:00,  9.48it/s]\n",
      " 71%|███████   | 17/24 [00:02<00:00,  9.19it/s]"
     ]
    },
    {
     "name": "stdout",
     "output_type": "stream",
     "text": [
      "{'eval_loss': 1.1112197637557983, 'eval_runtime': 0.0586, 'eval_samples_per_second': 1963.426, 'eval_steps_per_second': 68.293, 'epoch': 2.0}\n"
     ]
    },
    {
     "name": "stderr",
     "output_type": "stream",
     "text": [
      " 88%|████████▊ | 21/24 [00:02<00:00,  9.87it/s]"
     ]
    },
    {
     "name": "stdout",
     "output_type": "stream",
     "text": [
      "{'loss': 1.1194, 'grad_norm': 1.9708096981048584, 'learning_rate': 1.9401718538515632e-06, 'epoch': 2.5}\n"
     ]
    },
    {
     "name": "stderr",
     "output_type": "stream",
     "text": [
      " 96%|█████████▌| 23/24 [00:02<00:00, 10.12it/s]\n",
      "100%|██████████| 24/24 [00:02<00:00,  8.82it/s]\n"
     ]
    },
    {
     "name": "stdout",
     "output_type": "stream",
     "text": [
      "{'eval_loss': 1.093322992324829, 'eval_runtime': 0.0594, 'eval_samples_per_second': 1935.83, 'eval_steps_per_second': 67.333, 'epoch': 3.0}\n",
      "{'train_runtime': 2.7251, 'train_samples_per_second': 378.696, 'train_steps_per_second': 8.807, 'train_loss': 1.1241858998934429, 'epoch': 3.0}\n"
     ]
    },
    {
     "name": "stderr",
     "output_type": "stream",
     "text": [
      "100%|██████████| 4/4 [00:00<00:00, 89.28it/s]\n",
      "[I 2024-06-02 18:32:07,450] Trial 5 finished with value: 0.43478260869565216 and parameters: {'num_train_epochs': 3, 'per_device_train_batch_size': 45, 'learning_rate': 4.850429634628908e-05}. Best is trial 0 with value: 0.6.\n",
      "Some weights of DistilBertForSequenceClassification were not initialized from the model checkpoint at distilbert-base-uncased and are newly initialized: ['classifier.bias', 'classifier.weight', 'pre_classifier.bias', 'pre_classifier.weight']\n",
      "You should probably TRAIN this model on a down-stream task to be able to use it for predictions and inference.\n",
      "/Users/luca/Documents/Polimi/Machine Learning/Finance-Text-Mining/fvenv/lib/python3.12/site-packages/transformers/training_args.py:1474: FutureWarning: `evaluation_strategy` is deprecated and will be removed in version 4.46 of 🤗 Transformers. Use `eval_strategy` instead\n",
      "  warnings.warn(\n",
      " 26%|██▌       | 11/42 [00:00<00:02, 13.35it/s]"
     ]
    },
    {
     "name": "stdout",
     "output_type": "stream",
     "text": [
      "{'loss': 1.0713, 'grad_norm': 2.3678505420684814, 'learning_rate': 5.785173792116819e-07, 'epoch': 0.71}\n"
     ]
    },
    {
     "name": "stderr",
     "output_type": "stream",
     "text": [
      " 31%|███       | 13/42 [00:01<00:02, 13.74it/s]\n",
      " 36%|███▌      | 15/42 [00:01<00:02,  9.23it/s]"
     ]
    },
    {
     "name": "stdout",
     "output_type": "stream",
     "text": [
      "{'eval_loss': 1.0680338144302368, 'eval_runtime': 0.0586, 'eval_samples_per_second': 1962.962, 'eval_steps_per_second': 68.277, 'epoch': 1.0}\n"
     ]
    },
    {
     "name": "stderr",
     "output_type": "stream",
     "text": [
      " 50%|█████     | 21/42 [00:01<00:01, 12.25it/s]"
     ]
    },
    {
     "name": "stdout",
     "output_type": "stream",
     "text": [
      "{'loss': 1.0651, 'grad_norm': 2.794095993041992, 'learning_rate': 1.1570347584233638e-06, 'epoch': 1.43}\n"
     ]
    },
    {
     "name": "stderr",
     "output_type": "stream",
     "text": [
      " 64%|██████▍   | 27/42 [00:02<00:01, 13.63it/s]\n",
      " 71%|███████▏  | 30/42 [00:02<00:00, 12.32it/s]"
     ]
    },
    {
     "name": "stdout",
     "output_type": "stream",
     "text": [
      "{'eval_loss': 1.0497474670410156, 'eval_runtime': 0.06, 'eval_samples_per_second': 1917.4, 'eval_steps_per_second': 66.692, 'epoch': 2.0}\n",
      "{'loss': 1.0557, 'grad_norm': 2.526216745376587, 'learning_rate': 1.7355521376350455e-06, 'epoch': 2.14}\n"
     ]
    },
    {
     "name": "stderr",
     "output_type": "stream",
     "text": [
      " 98%|█████████▊| 41/42 [00:03<00:00, 14.15it/s]"
     ]
    },
    {
     "name": "stdout",
     "output_type": "stream",
     "text": [
      "{'loss': 1.0258, 'grad_norm': 1.7080844640731812, 'learning_rate': 2.3140695168467276e-06, 'epoch': 2.86}\n"
     ]
    },
    {
     "name": "stderr",
     "output_type": "stream",
     "text": [
      "\n",
      "100%|██████████| 42/42 [00:03<00:00, 12.22it/s]\n"
     ]
    },
    {
     "name": "stdout",
     "output_type": "stream",
     "text": [
      "{'eval_loss': 1.0185972452163696, 'eval_runtime': 0.0601, 'eval_samples_per_second': 1913.255, 'eval_steps_per_second': 66.548, 'epoch': 3.0}\n",
      "{'train_runtime': 3.4413, 'train_samples_per_second': 299.886, 'train_steps_per_second': 12.205, 'train_loss': 1.0529471351986839, 'epoch': 3.0}\n"
     ]
    },
    {
     "name": "stderr",
     "output_type": "stream",
     "text": [
      "100%|██████████| 4/4 [00:00<00:00, 88.40it/s]\n",
      "[I 2024-06-02 18:32:11,465] Trial 6 finished with value: 0.6 and parameters: {'num_train_epochs': 3, 'per_device_train_batch_size': 25, 'learning_rate': 2.8925868960584093e-05}. Best is trial 0 with value: 0.6.\n",
      "Some weights of DistilBertForSequenceClassification were not initialized from the model checkpoint at distilbert-base-uncased and are newly initialized: ['classifier.bias', 'classifier.weight', 'pre_classifier.bias', 'pre_classifier.weight']\n",
      "You should probably TRAIN this model on a down-stream task to be able to use it for predictions and inference.\n",
      "/Users/luca/Documents/Polimi/Machine Learning/Finance-Text-Mining/fvenv/lib/python3.12/site-packages/transformers/training_args.py:1474: FutureWarning: `evaluation_strategy` is deprecated and will be removed in version 4.46 of 🤗 Transformers. Use `eval_strategy` instead\n",
      "  warnings.warn(\n",
      " 20%|██        | 9/45 [00:01<00:05,  6.26it/s]\n",
      " 22%|██▏       | 10/45 [00:01<00:05,  6.32it/s]"
     ]
    },
    {
     "name": "stdout",
     "output_type": "stream",
     "text": [
      "{'eval_loss': 1.0707250833511353, 'eval_runtime': 0.0592, 'eval_samples_per_second': 1943.427, 'eval_steps_per_second': 67.597, 'epoch': 1.0}\n",
      "{'loss': 1.0689, 'grad_norm': 3.2026283740997314, 'learning_rate': 6.94096474940312e-07, 'epoch': 1.11}\n"
     ]
    },
    {
     "name": "stderr",
     "output_type": "stream",
     "text": [
      " 40%|████      | 18/45 [00:02<00:02, 10.54it/s]\n",
      " 44%|████▍     | 20/45 [00:02<00:02,  9.71it/s]"
     ]
    },
    {
     "name": "stdout",
     "output_type": "stream",
     "text": [
      "{'eval_loss': 1.0610209703445435, 'eval_runtime': 0.0586, 'eval_samples_per_second': 1963.793, 'eval_steps_per_second': 68.306, 'epoch': 2.0}\n",
      "{'loss': 1.0668, 'grad_norm': 2.659839391708374, 'learning_rate': 1.388192949880624e-06, 'epoch': 2.22}\n"
     ]
    },
    {
     "name": "stderr",
     "output_type": "stream",
     "text": [
      " 58%|█████▊    | 26/45 [00:02<00:01, 10.79it/s]\n",
      " 62%|██████▏   | 28/45 [00:03<00:01, 10.40it/s]"
     ]
    },
    {
     "name": "stdout",
     "output_type": "stream",
     "text": [
      "{'eval_loss': 1.0446157455444336, 'eval_runtime': 0.0589, 'eval_samples_per_second': 1953.525, 'eval_steps_per_second': 67.949, 'epoch': 3.0}\n"
     ]
    },
    {
     "name": "stderr",
     "output_type": "stream",
     "text": [
      " 71%|███████   | 32/45 [00:03<00:01, 10.82it/s]"
     ]
    },
    {
     "name": "stdout",
     "output_type": "stream",
     "text": [
      "{'loss': 1.0453, 'grad_norm': 2.841278553009033, 'learning_rate': 2.082289424820936e-06, 'epoch': 3.33}\n"
     ]
    },
    {
     "name": "stderr",
     "output_type": "stream",
     "text": [
      " 80%|████████  | 36/45 [00:03<00:00, 11.72it/s]\n",
      " 84%|████████▍ | 38/45 [00:04<00:00, 10.46it/s]"
     ]
    },
    {
     "name": "stdout",
     "output_type": "stream",
     "text": [
      "{'eval_loss': 1.0207812786102295, 'eval_runtime': 0.0586, 'eval_samples_per_second': 1963.394, 'eval_steps_per_second': 68.292, 'epoch': 4.0}\n"
     ]
    },
    {
     "name": "stderr",
     "output_type": "stream",
     "text": [
      " 93%|█████████▎| 42/45 [00:04<00:00, 10.79it/s]"
     ]
    },
    {
     "name": "stdout",
     "output_type": "stream",
     "text": [
      "{'loss': 1.0157, 'grad_norm': 2.593834638595581, 'learning_rate': 2.776385899761248e-06, 'epoch': 4.44}\n"
     ]
    },
    {
     "name": "stderr",
     "output_type": "stream",
     "text": [
      " 98%|█████████▊| 44/45 [00:04<00:00, 10.90it/s]\n",
      "100%|██████████| 45/45 [00:04<00:00,  9.59it/s]\n"
     ]
    },
    {
     "name": "stdout",
     "output_type": "stream",
     "text": [
      "{'eval_loss': 0.9915205836296082, 'eval_runtime': 0.06, 'eval_samples_per_second': 1917.56, 'eval_steps_per_second': 66.698, 'epoch': 5.0}\n",
      "{'train_runtime': 4.6967, 'train_samples_per_second': 366.217, 'train_steps_per_second': 9.581, 'train_loss': 1.040781635708279, 'epoch': 5.0}\n"
     ]
    },
    {
     "name": "stderr",
     "output_type": "stream",
     "text": [
      "100%|██████████| 4/4 [00:00<00:00, 88.40it/s]\n",
      "[I 2024-06-02 18:32:16,973] Trial 7 finished with value: 0.6 and parameters: {'num_train_epochs': 5, 'per_device_train_batch_size': 41, 'learning_rate': 3.47048237470156e-05}. Best is trial 0 with value: 0.6.\n",
      "Some weights of DistilBertForSequenceClassification were not initialized from the model checkpoint at distilbert-base-uncased and are newly initialized: ['classifier.bias', 'classifier.weight', 'pre_classifier.bias', 'pre_classifier.weight']\n",
      "You should probably TRAIN this model on a down-stream task to be able to use it for predictions and inference.\n",
      "/Users/luca/Documents/Polimi/Machine Learning/Finance-Text-Mining/fvenv/lib/python3.12/site-packages/transformers/training_args.py:1474: FutureWarning: `evaluation_strategy` is deprecated and will be removed in version 4.46 of 🤗 Transformers. Use `eval_strategy` instead\n",
      "  warnings.warn(\n",
      " 14%|█▎        | 13/96 [00:01<00:05, 14.33it/s]"
     ]
    },
    {
     "name": "stdout",
     "output_type": "stream",
     "text": [
      "{'loss': 1.0809, 'grad_norm': 3.1297318935394287, 'learning_rate': 6.686785368442229e-07, 'epoch': 0.62}\n"
     ]
    },
    {
     "name": "stderr",
     "output_type": "stream",
     "text": [
      " 16%|█▌        | 15/96 [00:01<00:05, 14.63it/s]\n",
      " 18%|█▊        | 17/96 [00:01<00:06, 13.13it/s]"
     ]
    },
    {
     "name": "stdout",
     "output_type": "stream",
     "text": [
      "{'eval_loss': 1.0752687454223633, 'eval_runtime': 0.0597, 'eval_samples_per_second': 1925.36, 'eval_steps_per_second': 66.969, 'epoch': 1.0}\n"
     ]
    },
    {
     "name": "stderr",
     "output_type": "stream",
     "text": [
      " 24%|██▍       | 23/96 [00:01<00:05, 13.80it/s]"
     ]
    },
    {
     "name": "stdout",
     "output_type": "stream",
     "text": [
      "{'loss': 1.0739, 'grad_norm': 3.513625144958496, 'learning_rate': 1.3373570736884459e-06, 'epoch': 1.25}\n"
     ]
    },
    {
     "name": "stderr",
     "output_type": "stream",
     "text": [
      " 32%|███▏      | 31/96 [00:02<00:04, 14.66it/s]"
     ]
    },
    {
     "name": "stdout",
     "output_type": "stream",
     "text": [
      "{'loss': 1.0606, 'grad_norm': 2.641627788543701, 'learning_rate': 2.0060356105326687e-06, 'epoch': 1.88}\n"
     ]
    },
    {
     "name": "stderr",
     "output_type": "stream",
     "text": [
      "\n",
      " 33%|███▎      | 32/96 [00:02<00:04, 14.66it/s]"
     ]
    },
    {
     "name": "stdout",
     "output_type": "stream",
     "text": [
      "{'eval_loss': 1.0510696172714233, 'eval_runtime': 0.0604, 'eval_samples_per_second': 1905.357, 'eval_steps_per_second': 66.273, 'epoch': 2.0}\n"
     ]
    },
    {
     "name": "stderr",
     "output_type": "stream",
     "text": [
      " 45%|████▍     | 43/96 [00:03<00:03, 14.86it/s]"
     ]
    },
    {
     "name": "stdout",
     "output_type": "stream",
     "text": [
      "{'loss': 1.0455, 'grad_norm': 2.9811296463012695, 'learning_rate': 2.6747141473768917e-06, 'epoch': 2.5}\n"
     ]
    },
    {
     "name": "stderr",
     "output_type": "stream",
     "text": [
      " 49%|████▉     | 47/96 [00:03<00:03, 15.17it/s]\n",
      " 53%|█████▎    | 51/96 [00:03<00:03, 14.04it/s]"
     ]
    },
    {
     "name": "stdout",
     "output_type": "stream",
     "text": [
      "{'eval_loss': 1.0198372602462769, 'eval_runtime': 0.0592, 'eval_samples_per_second': 1943.255, 'eval_steps_per_second': 67.591, 'epoch': 3.0}\n",
      "{'loss': 1.0028, 'grad_norm': 3.8649373054504395, 'learning_rate': 3.3433926842211147e-06, 'epoch': 3.12}\n"
     ]
    },
    {
     "name": "stderr",
     "output_type": "stream",
     "text": [
      " 66%|██████▌   | 63/96 [00:04<00:02, 15.25it/s]"
     ]
    },
    {
     "name": "stdout",
     "output_type": "stream",
     "text": [
      "{'loss': 1.004, 'grad_norm': 1.063367486000061, 'learning_rate': 4.012071221065337e-06, 'epoch': 3.75}\n"
     ]
    },
    {
     "name": "stderr",
     "output_type": "stream",
     "text": [
      "\n",
      " 70%|██████▉   | 67/96 [00:04<00:02, 14.22it/s]"
     ]
    },
    {
     "name": "stdout",
     "output_type": "stream",
     "text": [
      "{'eval_loss': 0.9742892980575562, 'eval_runtime': 0.0578, 'eval_samples_per_second': 1990.061, 'eval_steps_per_second': 69.22, 'epoch': 4.0}\n"
     ]
    },
    {
     "name": "stderr",
     "output_type": "stream",
     "text": [
      " 76%|███████▌  | 73/96 [00:05<00:01, 14.74it/s]"
     ]
    },
    {
     "name": "stdout",
     "output_type": "stream",
     "text": [
      "{'loss': 0.9527, 'grad_norm': 2.2776761054992676, 'learning_rate': 4.680749757909561e-06, 'epoch': 4.38}\n"
     ]
    },
    {
     "name": "stderr",
     "output_type": "stream",
     "text": [
      " 83%|████████▎ | 80/96 [00:05<00:01, 15.03it/s]"
     ]
    },
    {
     "name": "stdout",
     "output_type": "stream",
     "text": [
      "{'loss': 0.8738, 'grad_norm': 2.210219621658325, 'learning_rate': 5.3494282947537834e-06, 'epoch': 5.0}\n"
     ]
    },
    {
     "name": "stderr",
     "output_type": "stream",
     "text": [
      "\n",
      " 84%|████████▍ | 81/96 [00:05<00:01, 13.16it/s]"
     ]
    },
    {
     "name": "stdout",
     "output_type": "stream",
     "text": [
      "{'eval_loss': 0.926582396030426, 'eval_runtime': 0.0633, 'eval_samples_per_second': 1816.516, 'eval_steps_per_second': 63.183, 'epoch': 5.0}\n"
     ]
    },
    {
     "name": "stderr",
     "output_type": "stream",
     "text": [
      " 97%|█████████▋| 93/96 [00:06<00:00, 14.96it/s]"
     ]
    },
    {
     "name": "stdout",
     "output_type": "stream",
     "text": [
      "{'loss': 0.8494, 'grad_norm': 1.5503755807876587, 'learning_rate': 6.018106831598006e-06, 'epoch': 5.62}\n"
     ]
    },
    {
     "name": "stderr",
     "output_type": "stream",
     "text": [
      " 99%|█████████▉| 95/96 [00:06<00:00, 14.47it/s]\n",
      "100%|██████████| 96/96 [00:06<00:00, 13.88it/s]\n"
     ]
    },
    {
     "name": "stdout",
     "output_type": "stream",
     "text": [
      "{'eval_loss': 0.9400951266288757, 'eval_runtime': 0.0607, 'eval_samples_per_second': 1894.93, 'eval_steps_per_second': 65.911, 'epoch': 6.0}\n",
      "{'train_runtime': 6.9223, 'train_samples_per_second': 298.168, 'train_steps_per_second': 13.868, 'train_loss': 0.9852217336495718, 'epoch': 6.0}\n"
     ]
    },
    {
     "name": "stderr",
     "output_type": "stream",
     "text": [
      "100%|██████████| 4/4 [00:00<00:00, 87.25it/s]\n",
      "[I 2024-06-02 18:32:24,716] Trial 8 finished with value: 0.6 and parameters: {'num_train_epochs': 6, 'per_device_train_batch_size': 22, 'learning_rate': 3.3433926842211144e-05}. Best is trial 0 with value: 0.6.\n",
      "Some weights of DistilBertForSequenceClassification were not initialized from the model checkpoint at distilbert-base-uncased and are newly initialized: ['classifier.bias', 'classifier.weight', 'pre_classifier.bias', 'pre_classifier.weight']\n",
      "You should probably TRAIN this model on a down-stream task to be able to use it for predictions and inference.\n",
      "/Users/luca/Documents/Polimi/Machine Learning/Finance-Text-Mining/fvenv/lib/python3.12/site-packages/transformers/training_args.py:1474: FutureWarning: `evaluation_strategy` is deprecated and will be removed in version 4.46 of 🤗 Transformers. Use `eval_strategy` instead\n",
      "  warnings.warn(\n",
      " 17%|█▋        | 6/36 [00:01<00:05,  5.24it/s]\n",
      " 19%|█▉        | 7/36 [00:01<00:05,  5.38it/s]"
     ]
    },
    {
     "name": "stdout",
     "output_type": "stream",
     "text": [
      "{'eval_loss': 1.1033210754394531, 'eval_runtime': 0.0606, 'eval_samples_per_second': 1896.502, 'eval_steps_per_second': 65.965, 'epoch': 1.0}\n"
     ]
    },
    {
     "name": "stderr",
     "output_type": "stream",
     "text": [
      " 31%|███       | 11/36 [00:01<00:03,  7.97it/s]"
     ]
    },
    {
     "name": "stdout",
     "output_type": "stream",
     "text": [
      "{'loss': 1.111, 'grad_norm': 2.0984957218170166, 'learning_rate': 2.767887007179582e-07, 'epoch': 1.67}\n"
     ]
    },
    {
     "name": "stderr",
     "output_type": "stream",
     "text": [
      "\n",
      " 36%|███▌      | 13/36 [00:01<00:02,  7.73it/s]"
     ]
    },
    {
     "name": "stdout",
     "output_type": "stream",
     "text": [
      "{'eval_loss': 1.1011760234832764, 'eval_runtime': 0.058, 'eval_samples_per_second': 1983.783, 'eval_steps_per_second': 69.001, 'epoch': 2.0}\n"
     ]
    },
    {
     "name": "stderr",
     "output_type": "stream",
     "text": [
      " 50%|█████     | 18/36 [00:02<00:01,  9.10it/s]\n",
      " 53%|█████▎    | 19/36 [00:02<00:02,  7.85it/s]"
     ]
    },
    {
     "name": "stdout",
     "output_type": "stream",
     "text": [
      "{'eval_loss': 1.097603440284729, 'eval_runtime': 0.0594, 'eval_samples_per_second': 1935.962, 'eval_steps_per_second': 67.338, 'epoch': 3.0}\n"
     ]
    },
    {
     "name": "stderr",
     "output_type": "stream",
     "text": [
      " 58%|█████▊    | 21/36 [00:02<00:01,  8.53it/s]"
     ]
    },
    {
     "name": "stdout",
     "output_type": "stream",
     "text": [
      "{'loss': 1.1098, 'grad_norm': 3.3444106578826904, 'learning_rate': 5.535774014359164e-07, 'epoch': 3.33}\n"
     ]
    },
    {
     "name": "stderr",
     "output_type": "stream",
     "text": [
      " 64%|██████▍   | 23/36 [00:03<00:01,  8.94it/s]\n",
      " 69%|██████▉   | 25/36 [00:03<00:01,  8.16it/s]"
     ]
    },
    {
     "name": "stdout",
     "output_type": "stream",
     "text": [
      "{'eval_loss': 1.0926618576049805, 'eval_runtime': 0.0594, 'eval_samples_per_second': 1936.911, 'eval_steps_per_second': 67.371, 'epoch': 4.0}\n"
     ]
    },
    {
     "name": "stderr",
     "output_type": "stream",
     "text": [
      " 83%|████████▎ | 30/36 [00:03<00:00,  9.08it/s]"
     ]
    },
    {
     "name": "stdout",
     "output_type": "stream",
     "text": [
      "{'loss': 1.0981, 'grad_norm': 2.8752851486206055, 'learning_rate': 8.303661021538745e-07, 'epoch': 5.0}\n"
     ]
    },
    {
     "name": "stderr",
     "output_type": "stream",
     "text": [
      "\n",
      " 86%|████████▌ | 31/36 [00:04<00:00,  7.74it/s]"
     ]
    },
    {
     "name": "stdout",
     "output_type": "stream",
     "text": [
      "{'eval_loss': 1.0864732265472412, 'eval_runtime': 0.0599, 'eval_samples_per_second': 1921.249, 'eval_steps_per_second': 66.826, 'epoch': 5.0}\n"
     ]
    },
    {
     "name": "stderr",
     "output_type": "stream",
     "text": [
      "100%|██████████| 36/36 [00:04<00:00,  9.07it/s]\n",
      "100%|██████████| 36/36 [00:04<00:00,  7.72it/s]\n"
     ]
    },
    {
     "name": "stdout",
     "output_type": "stream",
     "text": [
      "{'eval_loss': 1.0791916847229004, 'eval_runtime': 0.059, 'eval_samples_per_second': 1948.357, 'eval_steps_per_second': 67.769, 'epoch': 6.0}\n",
      "{'train_runtime': 4.6703, 'train_samples_per_second': 441.943, 'train_steps_per_second': 7.708, 'train_loss': 1.1030786434809368, 'epoch': 6.0}\n"
     ]
    },
    {
     "name": "stderr",
     "output_type": "stream",
     "text": [
      "100%|██████████| 4/4 [00:00<00:00, 89.39it/s]\n",
      "[I 2024-06-02 18:32:30,331] Trial 9 finished with value: 0.26956521739130435 and parameters: {'num_train_epochs': 6, 'per_device_train_batch_size': 58, 'learning_rate': 1.383943503589791e-05}. Best is trial 0 with value: 0.6.\n"
     ]
    },
    {
     "name": "stdout",
     "output_type": "stream",
     "text": [
      "Migliori Iperparametri: {'num_train_epochs': 9, 'per_device_train_batch_size': 49, 'learning_rate': 4.282519429052931e-05}\n"
     ]
    }
   ],
   "source": [
    "# Hyperparameter optimization with Optuna\n",
    "# Create a study object to maximize the objective function\n",
    "study = optuna.create_study(direction='maximize')\n",
    "# Run the optimization process for 10 trials\n",
    "study.optimize(objective, n_trials=10)\n",
    "\n",
    "# Retrieve the best hyperparameters found\n",
    "best_params = study.best_params\n",
    "print(f\"Migliori Iperparametri: {best_params}\")"
   ]
  },
  {
   "cell_type": "code",
   "execution_count": 61,
   "metadata": {},
   "outputs": [
    {
     "name": "stderr",
     "output_type": "stream",
     "text": [
      "Some weights of DistilBertForSequenceClassification were not initialized from the model checkpoint at distilbert-base-uncased and are newly initialized: ['classifier.bias', 'classifier.weight', 'pre_classifier.bias', 'pre_classifier.weight']\n",
      "You should probably TRAIN this model on a down-stream task to be able to use it for predictions and inference.\n"
     ]
    }
   ],
   "source": [
    "# Load the distilbert-base-uncased pre-trained model\n",
    "model = DistilBertForSequenceClassification.from_pretrained('distilbert-base-uncased', num_labels=3)"
   ]
  },
  {
   "cell_type": "code",
   "execution_count": 62,
   "metadata": {},
   "outputs": [
    {
     "name": "stderr",
     "output_type": "stream",
     "text": [
      "/Users/luca/Documents/Polimi/Machine Learning/Finance-Text-Mining/fvenv/lib/python3.12/site-packages/transformers/training_args.py:1474: FutureWarning: `evaluation_strategy` is deprecated and will be removed in version 4.46 of 🤗 Transformers. Use `eval_strategy` instead\n",
      "  warnings.warn(\n"
     ]
    }
   ],
   "source": [
    "# Training settings with the best hyperparameters\n",
    "training_args = TrainingArguments(\n",
    "    output_dir='./results',\n",
    "    num_train_epochs=best_params['num_train_epochs'],\n",
    "    per_device_train_batch_size=best_params['per_device_train_batch_size'],\n",
    "    per_device_eval_batch_size=32,\n",
    "    warmup_steps=500,\n",
    "    weight_decay=0.01,\n",
    "    logging_dir='./logs',\n",
    "    logging_steps=10,\n",
    "    evaluation_strategy=\"epoch\",\n",
    "    learning_rate=best_params['learning_rate']\n",
    ")"
   ]
  },
  {
   "cell_type": "code",
   "execution_count": 63,
   "metadata": {},
   "outputs": [],
   "source": [
    "# Creating the trainer with the best hyperparameters\n",
    "trainer = Trainer(\n",
    "    model=model,\n",
    "    args=training_args,\n",
    "    train_dataset=train_dataset,\n",
    "    eval_dataset=val_dataset\n",
    ")"
   ]
  },
  {
   "cell_type": "code",
   "execution_count": 64,
   "metadata": {},
   "outputs": [
    {
     "name": "stderr",
     "output_type": "stream",
     "text": [
      " 10%|▉         | 7/72 [00:00<00:06,  9.85it/s]\n",
      " 14%|█▍        | 10/72 [00:01<00:06,  9.60it/s]"
     ]
    },
    {
     "name": "stdout",
     "output_type": "stream",
     "text": [
      "{'eval_loss': 1.1004884243011475, 'eval_runtime': 0.0593, 'eval_samples_per_second': 1938.631, 'eval_steps_per_second': 67.431, 'epoch': 1.0}\n",
      "{'loss': 1.1164, 'grad_norm': 3.0045623779296875, 'learning_rate': 8.565038858105862e-07, 'epoch': 1.25}\n"
     ]
    },
    {
     "name": "stderr",
     "output_type": "stream",
     "text": [
      " 21%|██        | 15/72 [00:01<00:05, 10.09it/s]\n",
      " 24%|██▎       | 17/72 [00:01<00:05,  9.85it/s]"
     ]
    },
    {
     "name": "stdout",
     "output_type": "stream",
     "text": [
      "{'eval_loss': 1.0897220373153687, 'eval_runtime': 0.06, 'eval_samples_per_second': 1917.408, 'eval_steps_per_second': 66.692, 'epoch': 2.0}\n"
     ]
    },
    {
     "name": "stderr",
     "output_type": "stream",
     "text": [
      " 29%|██▉       | 21/72 [00:02<00:05,  9.99it/s]"
     ]
    },
    {
     "name": "stdout",
     "output_type": "stream",
     "text": [
      "{'loss': 1.0936, 'grad_norm': 2.64292573928833, 'learning_rate': 1.7130077716211723e-06, 'epoch': 2.5}\n"
     ]
    },
    {
     "name": "stderr",
     "output_type": "stream",
     "text": [
      " 32%|███▏      | 23/72 [00:02<00:04, 10.07it/s]\n",
      " 35%|███▍      | 25/72 [00:02<00:04,  9.90it/s]"
     ]
    },
    {
     "name": "stdout",
     "output_type": "stream",
     "text": [
      "{'eval_loss': 1.0730359554290771, 'eval_runtime': 0.0593, 'eval_samples_per_second': 1939.418, 'eval_steps_per_second': 67.458, 'epoch': 3.0}\n"
     ]
    },
    {
     "name": "stderr",
     "output_type": "stream",
     "text": [
      " 43%|████▎     | 31/72 [00:03<00:04, 10.16it/s]"
     ]
    },
    {
     "name": "stdout",
     "output_type": "stream",
     "text": [
      "{'loss': 1.0705, 'grad_norm': 2.5952718257904053, 'learning_rate': 2.5695116574317585e-06, 'epoch': 3.75}\n"
     ]
    },
    {
     "name": "stderr",
     "output_type": "stream",
     "text": [
      "\n",
      " 46%|████▌     | 33/72 [00:03<00:03,  9.98it/s]"
     ]
    },
    {
     "name": "stdout",
     "output_type": "stream",
     "text": [
      "{'eval_loss': 1.0507640838623047, 'eval_runtime': 0.0595, 'eval_samples_per_second': 1932.449, 'eval_steps_per_second': 67.216, 'epoch': 4.0}\n"
     ]
    },
    {
     "name": "stderr",
     "output_type": "stream",
     "text": [
      " 56%|█████▌    | 40/72 [00:03<00:03, 10.24it/s]"
     ]
    },
    {
     "name": "stdout",
     "output_type": "stream",
     "text": [
      "{'loss': 1.0195, 'grad_norm': 7.411314487457275, 'learning_rate': 3.4260155432423447e-06, 'epoch': 5.0}\n"
     ]
    },
    {
     "name": "stderr",
     "output_type": "stream",
     "text": [
      "\n",
      " 57%|█████▋    | 41/72 [00:04<00:03, 10.00it/s]"
     ]
    },
    {
     "name": "stdout",
     "output_type": "stream",
     "text": [
      "{'eval_loss': 1.0206358432769775, 'eval_runtime': 0.06, 'eval_samples_per_second': 1915.321, 'eval_steps_per_second': 66.62, 'epoch': 5.0}\n"
     ]
    },
    {
     "name": "stderr",
     "output_type": "stream",
     "text": [
      " 65%|██████▌   | 47/72 [00:04<00:02, 10.26it/s]\n",
      " 69%|██████▉   | 50/72 [00:05<00:02, 10.08it/s]"
     ]
    },
    {
     "name": "stdout",
     "output_type": "stream",
     "text": [
      "{'eval_loss': 0.9786127209663391, 'eval_runtime': 0.0587, 'eval_samples_per_second': 1959.653, 'eval_steps_per_second': 68.162, 'epoch': 6.0}\n",
      "{'loss': 1.0229, 'grad_norm': 2.076279640197754, 'learning_rate': 4.282519429052931e-06, 'epoch': 6.25}\n"
     ]
    },
    {
     "name": "stderr",
     "output_type": "stream",
     "text": [
      " 76%|███████▋  | 55/72 [00:05<00:01, 10.30it/s]\n",
      " 79%|███████▉  | 57/72 [00:05<00:01, 10.09it/s]"
     ]
    },
    {
     "name": "stdout",
     "output_type": "stream",
     "text": [
      "{'eval_loss': 0.9464945793151855, 'eval_runtime': 0.0591, 'eval_samples_per_second': 1947.075, 'eval_steps_per_second': 67.724, 'epoch': 7.0}\n"
     ]
    },
    {
     "name": "stderr",
     "output_type": "stream",
     "text": [
      " 85%|████████▍ | 61/72 [00:06<00:01, 10.08it/s]"
     ]
    },
    {
     "name": "stdout",
     "output_type": "stream",
     "text": [
      "{'loss': 0.882, 'grad_norm': 1.887593388557434, 'learning_rate': 5.139023314863517e-06, 'epoch': 7.5}\n"
     ]
    },
    {
     "name": "stderr",
     "output_type": "stream",
     "text": [
      " 88%|████████▊ | 63/72 [00:06<00:00, 10.13it/s]\n",
      " 90%|█████████ | 65/72 [00:06<00:00,  9.92it/s]"
     ]
    },
    {
     "name": "stdout",
     "output_type": "stream",
     "text": [
      "{'eval_loss': 0.9351168274879456, 'eval_runtime': 0.059, 'eval_samples_per_second': 1949.79, 'eval_steps_per_second': 67.819, 'epoch': 8.0}\n"
     ]
    },
    {
     "name": "stderr",
     "output_type": "stream",
     "text": [
      " 99%|█████████▊| 71/72 [00:07<00:00, 10.12it/s]"
     ]
    },
    {
     "name": "stdout",
     "output_type": "stream",
     "text": [
      "{'loss': 0.8292, 'grad_norm': 0.8699352145195007, 'learning_rate': 5.9955272006741036e-06, 'epoch': 8.75}\n"
     ]
    },
    {
     "name": "stderr",
     "output_type": "stream",
     "text": [
      "\n",
      "100%|██████████| 72/72 [00:07<00:00,  9.98it/s]"
     ]
    },
    {
     "name": "stdout",
     "output_type": "stream",
     "text": [
      "{'eval_loss': 0.9381474852561951, 'eval_runtime': 0.0595, 'eval_samples_per_second': 1932.735, 'eval_steps_per_second': 67.226, 'epoch': 9.0}\n",
      "{'train_runtime': 7.2128, 'train_samples_per_second': 429.237, 'train_steps_per_second': 9.982, 'train_loss': 0.9941993438535266, 'epoch': 9.0}\n"
     ]
    },
    {
     "name": "stderr",
     "output_type": "stream",
     "text": [
      "\n"
     ]
    },
    {
     "data": {
      "text/plain": [
       "TrainOutput(global_step=72, training_loss=0.9941993438535266, metrics={'train_runtime': 7.2128, 'train_samples_per_second': 429.237, 'train_steps_per_second': 9.982, 'total_flos': 28035983016720.0, 'train_loss': 0.9941993438535266, 'epoch': 9.0})"
      ]
     },
     "execution_count": 64,
     "metadata": {},
     "output_type": "execute_result"
    }
   ],
   "source": [
    "# Train the model with the best hyperparameters\n",
    "trainer.train()"
   ]
  },
  {
   "cell_type": "code",
   "execution_count": 65,
   "metadata": {},
   "outputs": [
    {
     "name": "stderr",
     "output_type": "stream",
     "text": [
      "100%|██████████| 4/4 [00:00<00:00, 100.05it/s]"
     ]
    },
    {
     "name": "stdout",
     "output_type": "stream",
     "text": [
      "Test Accuracy Migliorato: 0.6608695652173913\n",
      "              precision    recall  f1-score   support\n",
      "\n",
      "    negative       0.00      0.00      0.00        25\n",
      "   no_change       0.66      1.00      0.80        76\n",
      "    positive       0.00      0.00      0.00        14\n",
      "\n",
      "    accuracy                           0.66       115\n",
      "   macro avg       0.22      0.33      0.27       115\n",
      "weighted avg       0.44      0.66      0.53       115\n",
      "\n"
     ]
    },
    {
     "name": "stderr",
     "output_type": "stream",
     "text": [
      "\n",
      "/Users/luca/Documents/Polimi/Machine Learning/Finance-Text-Mining/fvenv/lib/python3.12/site-packages/sklearn/metrics/_classification.py:1517: UndefinedMetricWarning: Precision is ill-defined and being set to 0.0 in labels with no predicted samples. Use `zero_division` parameter to control this behavior.\n",
      "  _warn_prf(average, modifier, f\"{metric.capitalize()} is\", len(result))\n",
      "/Users/luca/Documents/Polimi/Machine Learning/Finance-Text-Mining/fvenv/lib/python3.12/site-packages/sklearn/metrics/_classification.py:1517: UndefinedMetricWarning: Precision is ill-defined and being set to 0.0 in labels with no predicted samples. Use `zero_division` parameter to control this behavior.\n",
      "  _warn_prf(average, modifier, f\"{metric.capitalize()} is\", len(result))\n",
      "/Users/luca/Documents/Polimi/Machine Learning/Finance-Text-Mining/fvenv/lib/python3.12/site-packages/sklearn/metrics/_classification.py:1517: UndefinedMetricWarning: Precision is ill-defined and being set to 0.0 in labels with no predicted samples. Use `zero_division` parameter to control this behavior.\n",
      "  _warn_prf(average, modifier, f\"{metric.capitalize()} is\", len(result))\n"
     ]
    }
   ],
   "source": [
    "# Evaluate the improved model\n",
    "predictions = trainer.predict(test_dataset)\n",
    "preds = np.argmax(predictions.predictions, axis=-1)\n",
    "accuracy_improved = accuracy_score(y_test, preds)\n",
    "report_improved = classification_report(y_test, preds, target_names=le.classes_)\n",
    "\n",
    "print(f\"Test Accuracy Migliorato: {accuracy_improved}\")\n",
    "print(report_improved)"
   ]
  },
  {
   "cell_type": "code",
   "execution_count": 66,
   "metadata": {},
   "outputs": [
    {
     "name": "stderr",
     "output_type": "stream",
     "text": [
      "100%|██████████| 8/8 [00:00<00:00, 74.30it/s]"
     ]
    },
    {
     "name": "stdout",
     "output_type": "stream",
     "text": [
      "Improved Model Test Accuracy: 0.6304347826086957\n",
      "              precision    recall  f1-score   support\n",
      "\n",
      "    negative       0.00      0.00      0.00        56\n",
      "   no_change       0.63      1.00      0.77       145\n",
      "    positive       0.00      0.00      0.00        29\n",
      "\n",
      "    accuracy                           0.63       230\n",
      "   macro avg       0.21      0.33      0.26       230\n",
      "weighted avg       0.40      0.63      0.49       230\n",
      "\n"
     ]
    },
    {
     "name": "stderr",
     "output_type": "stream",
     "text": [
      "\n",
      "/Users/luca/Documents/Polimi/Machine Learning/Finance-Text-Mining/fvenv/lib/python3.12/site-packages/sklearn/metrics/_classification.py:1517: UndefinedMetricWarning: Precision is ill-defined and being set to 0.0 in labels with no predicted samples. Use `zero_division` parameter to control this behavior.\n",
      "  _warn_prf(average, modifier, f\"{metric.capitalize()} is\", len(result))\n",
      "/Users/luca/Documents/Polimi/Machine Learning/Finance-Text-Mining/fvenv/lib/python3.12/site-packages/sklearn/metrics/_classification.py:1517: UndefinedMetricWarning: Precision is ill-defined and being set to 0.0 in labels with no predicted samples. Use `zero_division` parameter to control this behavior.\n",
      "  _warn_prf(average, modifier, f\"{metric.capitalize()} is\", len(result))\n",
      "/Users/luca/Documents/Polimi/Machine Learning/Finance-Text-Mining/fvenv/lib/python3.12/site-packages/sklearn/metrics/_classification.py:1517: UndefinedMetricWarning: Precision is ill-defined and being set to 0.0 in labels with no predicted samples. Use `zero_division` parameter to control this behavior.\n",
      "  _warn_prf(average, modifier, f\"{metric.capitalize()} is\", len(result))\n"
     ]
    }
   ],
   "source": [
    "# Combine the validation and test texts and labels\n",
    "combined_texts = X_val + X_test\n",
    "combined_labels = np.concatenate([y_val, y_test])\n",
    "\n",
    "combined_encodings = tokenizer(combined_texts, truncation=True, padding=True)\n",
    "\n",
    "# Create the combined dataset\n",
    "combined_dataset = NewsDataset(combined_encodings, combined_labels)\n",
    "\n",
    "# Evaluate the improved model on the combined dataset\n",
    "predictions = trainer.predict(combined_dataset)\n",
    "preds = np.argmax(predictions.predictions, axis=-1)\n",
    "\n",
    "accuracy_improved = accuracy_score(combined_labels, preds)\n",
    "report_improved = classification_report(combined_labels, preds, target_names=le.classes_)\n",
    "\n",
    "print(f\"Improved Model Test Accuracy: {accuracy_improved}\")\n",
    "print(report_improved)"
   ]
  },
  {
   "cell_type": "code",
   "execution_count": null,
   "metadata": {},
   "outputs": [],
   "source": [
    "# model_names.append(\"Hugging Face Improved\")\n",
    "\n",
    "# accuracies.append(accuracy_improved)\n",
    "# reports.append(report_improved)"
   ]
  },
  {
   "cell_type": "code",
   "execution_count": null,
   "metadata": {},
   "outputs": [],
   "source": [
    "# results_df = pd.DataFrame({\n",
    "#     \"Model\": model_names,\n",
    "#     \"Accuracy\": accuracies,\n",
    "# })"
   ]
  },
  {
   "cell_type": "code",
   "execution_count": null,
   "metadata": {},
   "outputs": [],
   "source": [
    "# results_df"
   ]
  },
  {
   "cell_type": "markdown",
   "metadata": {},
   "source": [
    "----"
   ]
  },
  {
   "cell_type": "code",
   "execution_count": 67,
   "metadata": {},
   "outputs": [],
   "source": [
    "from imblearn.over_sampling import RandomOverSampler\n",
    "\n",
    "# Convert the training texts to a list\n",
    "train_texts = list(X_train)\n",
    "train_labels = y_train\n",
    "\n",
    "# Apply RandomOverSampler to balance the classes\n",
    "ros = RandomOverSampler(random_state=42)\n",
    "train_texts_resampled, train_labels_resampled = ros.fit_resample(pd.Series(train_texts).to_frame(), train_labels)\n",
    "\n",
    "# Convert the resampled texts back to a list\n",
    "train_texts_resampled = train_texts_resampled[0].tolist()"
   ]
  },
  {
   "cell_type": "code",
   "execution_count": 68,
   "metadata": {},
   "outputs": [],
   "source": [
    "# Tokenize the oversampled training data\n",
    "encodings_train_resampled = tokenizer(train_texts_resampled, truncation=True, padding=True)\n",
    "\n",
    "# Create the dataset with the oversampled data\n",
    "train_dataset_resampled = NewsDataset(encodings_train_resampled, train_labels_resampled)"
   ]
  },
  {
   "cell_type": "code",
   "execution_count": 69,
   "metadata": {},
   "outputs": [
    {
     "name": "stderr",
     "output_type": "stream",
     "text": [
      " 10%|▉         | 12/126 [00:01<00:11, 10.07it/s]"
     ]
    },
    {
     "name": "stdout",
     "output_type": "stream",
     "text": [
      "{'loss': 1.3172, 'grad_norm': 3.7276244163513184, 'learning_rate': 8.565038858105862e-07, 'epoch': 0.71}\n"
     ]
    },
    {
     "name": "stderr",
     "output_type": "stream",
     "text": [
      " 11%|█         | 14/126 [00:01<00:14,  7.83it/s]\n",
      " 12%|█▏        | 15/126 [00:01<00:14,  7.42it/s]"
     ]
    },
    {
     "name": "stdout",
     "output_type": "stream",
     "text": [
      "{'eval_loss': 0.9318135976791382, 'eval_runtime': 0.0608, 'eval_samples_per_second': 1892.885, 'eval_steps_per_second': 65.839, 'epoch': 1.0}\n"
     ]
    },
    {
     "name": "stderr",
     "output_type": "stream",
     "text": [
      " 17%|█▋        | 21/126 [00:02<00:11,  9.23it/s]"
     ]
    },
    {
     "name": "stdout",
     "output_type": "stream",
     "text": [
      "{'loss': 1.2528, 'grad_norm': 3.943512439727783, 'learning_rate': 1.7130077716211723e-06, 'epoch': 1.43}\n"
     ]
    },
    {
     "name": "stderr",
     "output_type": "stream",
     "text": [
      " 21%|██▏       | 27/126 [00:02<00:09,  9.94it/s]\n",
      " 23%|██▎       | 29/126 [00:03<00:10,  9.19it/s]"
     ]
    },
    {
     "name": "stdout",
     "output_type": "stream",
     "text": [
      "{'eval_loss': 0.9216747283935547, 'eval_runtime': 0.059, 'eval_samples_per_second': 1949.215, 'eval_steps_per_second': 67.799, 'epoch': 2.0}\n"
     ]
    },
    {
     "name": "stderr",
     "output_type": "stream",
     "text": [
      " 25%|██▍       | 31/126 [00:03<00:10,  9.44it/s]"
     ]
    },
    {
     "name": "stdout",
     "output_type": "stream",
     "text": [
      "{'loss': 1.2076, 'grad_norm': 2.4220423698425293, 'learning_rate': 2.5695116574317585e-06, 'epoch': 2.14}\n"
     ]
    },
    {
     "name": "stderr",
     "output_type": "stream",
     "text": [
      " 33%|███▎      | 42/126 [00:04<00:08, 10.21it/s]"
     ]
    },
    {
     "name": "stdout",
     "output_type": "stream",
     "text": [
      "{'loss': 1.1471, 'grad_norm': 2.28503680229187, 'learning_rate': 3.4260155432423447e-06, 'epoch': 2.86}\n"
     ]
    },
    {
     "name": "stderr",
     "output_type": "stream",
     "text": [
      "\n",
      " 35%|███▍      | 44/126 [00:04<00:08,  9.29it/s]"
     ]
    },
    {
     "name": "stdout",
     "output_type": "stream",
     "text": [
      "{'eval_loss': 0.9531940817832947, 'eval_runtime': 0.0597, 'eval_samples_per_second': 1926.775, 'eval_steps_per_second': 67.018, 'epoch': 3.0}\n"
     ]
    },
    {
     "name": "stderr",
     "output_type": "stream",
     "text": [
      " 41%|████▏     | 52/126 [00:05<00:07, 10.05it/s]"
     ]
    },
    {
     "name": "stdout",
     "output_type": "stream",
     "text": [
      "{'loss': 1.0777, 'grad_norm': 1.2069427967071533, 'learning_rate': 4.282519429052931e-06, 'epoch': 3.57}\n"
     ]
    },
    {
     "name": "stderr",
     "output_type": "stream",
     "text": [
      " 44%|████▍     | 56/126 [00:05<00:06, 10.25it/s]\n",
      " 46%|████▌     | 58/126 [00:06<00:07,  9.35it/s]"
     ]
    },
    {
     "name": "stdout",
     "output_type": "stream",
     "text": [
      "{'eval_loss': 1.0050969123840332, 'eval_runtime': 0.0587, 'eval_samples_per_second': 1959.079, 'eval_steps_per_second': 68.142, 'epoch': 4.0}\n"
     ]
    },
    {
     "name": "stderr",
     "output_type": "stream",
     "text": [
      " 49%|████▉     | 62/126 [00:06<00:06,  9.80it/s]"
     ]
    },
    {
     "name": "stdout",
     "output_type": "stream",
     "text": [
      "{'loss': 1.0611, 'grad_norm': 1.0778802633285522, 'learning_rate': 5.139023314863517e-06, 'epoch': 4.29}\n"
     ]
    },
    {
     "name": "stderr",
     "output_type": "stream",
     "text": [
      " 56%|█████▌    | 70/126 [00:07<00:05, 10.22it/s]"
     ]
    },
    {
     "name": "stdout",
     "output_type": "stream",
     "text": [
      "{'loss': 1.0075, 'grad_norm': 1.7323752641677856, 'learning_rate': 5.9955272006741036e-06, 'epoch': 5.0}\n"
     ]
    },
    {
     "name": "stderr",
     "output_type": "stream",
     "text": [
      "\n",
      " 56%|█████▌    | 70/126 [00:07<00:05, 10.22it/s]"
     ]
    },
    {
     "name": "stdout",
     "output_type": "stream",
     "text": [
      "{'eval_loss': 0.9720903635025024, 'eval_runtime': 0.0599, 'eval_samples_per_second': 1919.353, 'eval_steps_per_second': 66.76, 'epoch': 5.0}\n"
     ]
    },
    {
     "name": "stderr",
     "output_type": "stream",
     "text": [
      " 65%|██████▌   | 82/126 [00:08<00:04, 10.06it/s]"
     ]
    },
    {
     "name": "stdout",
     "output_type": "stream",
     "text": [
      "{'loss': 0.9605, 'grad_norm': 1.7228107452392578, 'learning_rate': 6.852031086484689e-06, 'epoch': 5.71}\n"
     ]
    },
    {
     "name": "stderr",
     "output_type": "stream",
     "text": [
      " 67%|██████▋   | 84/126 [00:08<00:04, 10.20it/s]\n",
      " 68%|██████▊   | 86/126 [00:08<00:04,  9.28it/s]"
     ]
    },
    {
     "name": "stdout",
     "output_type": "stream",
     "text": [
      "{'eval_loss': 0.959083080291748, 'eval_runtime': 0.06, 'eval_samples_per_second': 1917.209, 'eval_steps_per_second': 66.686, 'epoch': 6.0}\n"
     ]
    },
    {
     "name": "stderr",
     "output_type": "stream",
     "text": [
      " 72%|███████▏  | 91/126 [00:09<00:03,  9.72it/s]"
     ]
    },
    {
     "name": "stdout",
     "output_type": "stream",
     "text": [
      "{'loss': 0.8834, 'grad_norm': 2.4622962474823, 'learning_rate': 7.708534972295275e-06, 'epoch': 6.43}\n"
     ]
    },
    {
     "name": "stderr",
     "output_type": "stream",
     "text": [
      " 77%|███████▋  | 97/126 [00:10<00:02, 10.20it/s]\n",
      " 79%|███████▉  | 100/126 [00:10<00:02,  9.33it/s]"
     ]
    },
    {
     "name": "stdout",
     "output_type": "stream",
     "text": [
      "{'eval_loss': 0.9327689409255981, 'eval_runtime': 0.0585, 'eval_samples_per_second': 1965.978, 'eval_steps_per_second': 68.382, 'epoch': 7.0}\n",
      "{'loss': 0.7834, 'grad_norm': 3.2850329875946045, 'learning_rate': 8.565038858105862e-06, 'epoch': 7.14}\n"
     ]
    },
    {
     "name": "stderr",
     "output_type": "stream",
     "text": [
      " 88%|████████▊ | 111/126 [00:11<00:01, 10.20it/s]"
     ]
    },
    {
     "name": "stdout",
     "output_type": "stream",
     "text": [
      "{'loss': 0.6998, 'grad_norm': 2.263051748275757, 'learning_rate': 9.421542743916448e-06, 'epoch': 7.86}\n"
     ]
    },
    {
     "name": "stderr",
     "output_type": "stream",
     "text": [
      "\n",
      " 90%|████████▉ | 113/126 [00:11<00:01,  9.39it/s]"
     ]
    },
    {
     "name": "stdout",
     "output_type": "stream",
     "text": [
      "{'eval_loss': 0.9333460927009583, 'eval_runtime': 0.0581, 'eval_samples_per_second': 1979.411, 'eval_steps_per_second': 68.849, 'epoch': 8.0}\n"
     ]
    },
    {
     "name": "stderr",
     "output_type": "stream",
     "text": [
      " 96%|█████████▌| 121/126 [00:12<00:00, 10.05it/s]"
     ]
    },
    {
     "name": "stdout",
     "output_type": "stream",
     "text": [
      "{'loss': 0.5641, 'grad_norm': 1.9764063358306885, 'learning_rate': 1.0278046629727034e-05, 'epoch': 8.57}\n"
     ]
    },
    {
     "name": "stderr",
     "output_type": "stream",
     "text": [
      " 99%|█████████▉| 125/126 [00:12<00:00, 10.25it/s]\n",
      "100%|██████████| 126/126 [00:13<00:00,  9.66it/s]\n"
     ]
    },
    {
     "name": "stdout",
     "output_type": "stream",
     "text": [
      "{'eval_loss': 0.9381486177444458, 'eval_runtime': 0.0592, 'eval_samples_per_second': 1943.873, 'eval_steps_per_second': 67.613, 'epoch': 9.0}\n",
      "{'train_runtime': 13.0494, 'train_samples_per_second': 471.745, 'train_steps_per_second': 9.656, 'train_loss': 0.9738416179778084, 'epoch': 9.0}\n"
     ]
    },
    {
     "name": "stderr",
     "output_type": "stream",
     "text": [
      "100%|██████████| 8/8 [00:00<00:00, 75.94it/s]"
     ]
    },
    {
     "name": "stdout",
     "output_type": "stream",
     "text": [
      "Improved Model Test Accuracy: 0.591304347826087\n",
      "              precision    recall  f1-score   support\n",
      "\n",
      "    negative       0.42      0.50      0.46        56\n",
      "   no_change       0.70      0.72      0.71       145\n",
      "    positive       0.23      0.10      0.14        29\n",
      "\n",
      "    accuracy                           0.59       230\n",
      "   macro avg       0.45      0.44      0.44       230\n",
      "weighted avg       0.57      0.59      0.58       230\n",
      "\n"
     ]
    },
    {
     "name": "stderr",
     "output_type": "stream",
     "text": [
      "\n"
     ]
    }
   ],
   "source": [
    "# Create the trainer with the best hyperparameters found by Optuna\n",
    "trainer = Trainer(\n",
    "    model=model,\n",
    "    args=training_args,\n",
    "    train_dataset=train_dataset_resampled,\n",
    "    eval_dataset=val_dataset  # You can still use the original validation dataset\n",
    ")\n",
    "\n",
    "# Train the model with the resampled dataset\n",
    "trainer.train()\n",
    "\n",
    "# Evaluate the improved model on the combined dataset (validation + test)\n",
    "combined_encodings = tokenizer(combined_texts, truncation=True, padding='max_length', max_length=max_length)\n",
    "combined_dataset = NewsDataset(combined_encodings, combined_labels)\n",
    "\n",
    "# Evaluate the improved model\n",
    "predictions = trainer.predict(combined_dataset)\n",
    "preds = np.argmax(predictions.predictions, axis=-1)\n",
    "accuracy_improved = accuracy_score(combined_labels, preds)\n",
    "report_improved = classification_report(combined_labels, preds, target_names=le.classes_, zero_division=0)\n",
    "\n",
    "print(f\"Improved Model Test Accuracy: {accuracy_improved}\")\n",
    "print(report_improved)"
   ]
  }
 ],
 "metadata": {
  "kernelspec": {
   "display_name": "venv",
   "language": "python",
   "name": "python3"
  },
  "language_info": {
   "codemirror_mode": {
    "name": "ipython",
    "version": 3
   },
   "file_extension": ".py",
   "mimetype": "text/x-python",
   "name": "python",
   "nbconvert_exporter": "python",
   "pygments_lexer": "ipython3",
   "version": "3.12.2"
  }
 },
 "nbformat": 4,
 "nbformat_minor": 2
}
